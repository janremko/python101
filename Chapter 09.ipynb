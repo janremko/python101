{
 "cells": [
  {
   "cell_type": "markdown",
   "id": "8ce2c71c-fc67-46a7-96b7-c1150a241691",
   "metadata": {},
   "source": [
    "# Chapter 9 Case study: word play"
   ]
  },
  {
   "cell_type": "markdown",
   "id": "cb9858a0-56e0-4863-b874-7cd14bf655b7",
   "metadata": {},
   "source": [
    "## 9.1 Reading word lists"
   ]
  },
  {
   "cell_type": "code",
   "execution_count": null,
   "id": "34e8447d-ad93-4235-9ffe-d71a1b798dc8",
   "metadata": {},
   "outputs": [],
   "source": [
    "fin = open('words.txt')"
   ]
  },
  {
   "cell_type": "code",
   "execution_count": null,
   "id": "44425a58-b188-4519-a070-665c6fd7c9ca",
   "metadata": {},
   "outputs": [],
   "source": [
    "fin.readline()"
   ]
  },
  {
   "cell_type": "code",
   "execution_count": null,
   "id": "0b58dace-2c26-418c-8285-3134e93a1839",
   "metadata": {},
   "outputs": [],
   "source": [
    "fin.readline()"
   ]
  },
  {
   "cell_type": "code",
   "execution_count": null,
   "id": "b1f07ec0-12d9-44ed-9596-e7578cb4295a",
   "metadata": {},
   "outputs": [],
   "source": [
    "line = fin.readline()\n",
    "word = line.strip()\n",
    "word"
   ]
  },
  {
   "cell_type": "code",
   "execution_count": null,
   "id": "e7131b57-e6db-4c1e-9728-581f17dc3f25",
   "metadata": {},
   "outputs": [],
   "source": [
    "fin = open('words.txt')\n",
    "counter = 1\n",
    "for line in fin:\n",
    "    word = line.strip()\n",
    "    print(word)\n",
    "    counter += 1\n",
    "    if counter > 100:\n",
    "        break"
   ]
  },
  {
   "cell_type": "code",
   "execution_count": null,
   "id": "c5bd6088-d4e6-46a2-a2e9-4e0b806b36b1",
   "metadata": {},
   "outputs": [],
   "source": [
    "fin = open('words.txt')\n",
    "counter = 0\n",
    "for line in fin:\n",
    "    counter += 1\n",
    "print(counter)"
   ]
  },
  {
   "cell_type": "markdown",
   "id": "2dc6fd47-6b3b-40ca-9c1c-7cb7abf35ee0",
   "metadata": {},
   "source": [
    "## 9.2 Exercises"
   ]
  },
  {
   "cell_type": "markdown",
   "id": "944814c4-02bd-4b97-a45e-8faa75c76494",
   "metadata": {},
   "source": [
    "## 9.3 Search"
   ]
  },
  {
   "cell_type": "markdown",
   "id": "632dfea4-49ef-44a1-bda1-54466e2a13e3",
   "metadata": {},
   "source": [
    "## 9.4 Looping with indices"
   ]
  },
  {
   "cell_type": "markdown",
   "id": "564c36af-5c49-4cb7-acf5-3909c35e870a",
   "metadata": {},
   "source": [
    "## 9.5 Debugging"
   ]
  },
  {
   "cell_type": "markdown",
   "id": "bc8caf15-c438-4050-af99-128ebf1d8aaf",
   "metadata": {},
   "source": [
    "## 9.6 Glossary"
   ]
  },
  {
   "cell_type": "markdown",
   "id": "9aa18d47-502a-4b72-80ea-4c730f26178b",
   "metadata": {},
   "source": [
    "## 9.7 Exercises"
   ]
  },
  {
   "cell_type": "code",
   "execution_count": null,
   "id": "85560fc4-081e-4e1c-b6a7-88eaaa0e8ca3",
   "metadata": {},
   "outputs": [],
   "source": []
  }
 ],
 "metadata": {
  "kernelspec": {
   "display_name": "Python 3 (ipykernel)",
   "language": "python",
   "name": "python3"
  },
  "language_info": {
   "codemirror_mode": {
    "name": "ipython",
    "version": 3
   },
   "file_extension": ".py",
   "mimetype": "text/x-python",
   "name": "python",
   "nbconvert_exporter": "python",
   "pygments_lexer": "ipython3",
   "version": "3.10.9"
  }
 },
 "nbformat": 4,
 "nbformat_minor": 5
}
