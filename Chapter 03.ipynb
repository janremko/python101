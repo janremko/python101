{
 "cells": [
  {
   "cell_type": "markdown",
   "id": "20ee59d3-3c4a-40c1-84bb-70e0aabf4e9c",
   "metadata": {},
   "source": [
    "# Chapter 3 Functions\n",
    "\n",
    "A **function** is named sequence of statements that performs a computation."
   ]
  },
  {
   "cell_type": "markdown",
   "id": "6c89138a-ae4b-4232-8b4f-e0d848c67bd7",
   "metadata": {},
   "source": [
    "## 3.1 Function calls"
   ]
  },
  {
   "cell_type": "code",
   "execution_count": null,
   "id": "7e16d22f-f11a-46d0-8619-676ef4b43271",
   "metadata": {},
   "outputs": [],
   "source": [
    "type(42)"
   ]
  },
  {
   "cell_type": "markdown",
   "id": "5080d263-7c2f-4099-839d-ee59f2db3e32",
   "metadata": {},
   "source": [
    "42 is called the **argument** of the function.\n",
    "\n",
    "the result is called the **return value**."
   ]
  },
  {
   "cell_type": "code",
   "execution_count": null,
   "id": "828b59be-3486-4593-a3a4-3723f7a3d9d2",
   "metadata": {},
   "outputs": [],
   "source": [
    "int('32')"
   ]
  },
  {
   "cell_type": "code",
   "execution_count": null,
   "id": "18c2d3d0-3821-415c-95fa-cfb81df0b944",
   "metadata": {},
   "outputs": [],
   "source": [
    "int('hello')"
   ]
  },
  {
   "cell_type": "code",
   "execution_count": null,
   "id": "84214f09-d8e6-4c72-8a20-616861716ab5",
   "metadata": {},
   "outputs": [],
   "source": [
    "int(3.99999)"
   ]
  },
  {
   "cell_type": "code",
   "execution_count": null,
   "id": "777a21ce-cb40-421d-a478-fb6ba27d5762",
   "metadata": {},
   "outputs": [],
   "source": [
    "int(-2.3)"
   ]
  },
  {
   "cell_type": "code",
   "execution_count": null,
   "id": "2bccc067-91b3-40f1-8c02-9864b542847d",
   "metadata": {},
   "outputs": [],
   "source": [
    "float(32)"
   ]
  },
  {
   "cell_type": "code",
   "execution_count": null,
   "id": "ba4f9de8-6fc6-4fb2-b1e6-cfb893ebd7e4",
   "metadata": {},
   "outputs": [],
   "source": [
    "str(32)"
   ]
  },
  {
   "cell_type": "markdown",
   "id": "1d3fcde9-5bc3-43bd-9a0d-840932a61f50",
   "metadata": {},
   "source": [
    "## 3.2 Math functions"
   ]
  },
  {
   "cell_type": "code",
   "execution_count": null,
   "id": "5b339dc2-76c4-4379-8713-3869bc9c7136",
   "metadata": {},
   "outputs": [],
   "source": [
    "import math"
   ]
  },
  {
   "cell_type": "code",
   "execution_count": null,
   "id": "4d117fa3-ec35-4e5d-9bc2-eab4d34523d6",
   "metadata": {},
   "outputs": [],
   "source": [
    "math"
   ]
  },
  {
   "cell_type": "code",
   "execution_count": null,
   "id": "173c54da-f027-405b-a985-4f8f08db57bc",
   "metadata": {},
   "outputs": [],
   "source": [
    "radians = 0.7\n",
    "height = math.sin(radians)"
   ]
  },
  {
   "cell_type": "code",
   "execution_count": null,
   "id": "ea42a6d7-10d0-4820-a475-3dda604c234c",
   "metadata": {},
   "outputs": [],
   "source": [
    "print(height)"
   ]
  },
  {
   "cell_type": "code",
   "execution_count": null,
   "id": "938f0e81-c5a0-4dfa-9511-32b094a51690",
   "metadata": {},
   "outputs": [],
   "source": [
    "degrees = 45\n",
    "radians = degrees / 180.0 * math.pi\n",
    "print(math.sin(radians))"
   ]
  },
  {
   "cell_type": "code",
   "execution_count": null,
   "id": "8b100ed7-9b3a-4379-be04-987885958fa8",
   "metadata": {},
   "outputs": [],
   "source": [
    "math.sqrt(2) / 2.0"
   ]
  },
  {
   "cell_type": "markdown",
   "id": "6484d5f6-08fa-4d3b-bc13-dd8c4ddd867d",
   "metadata": {},
   "source": [
    "## 3.3 Composition"
   ]
  },
  {
   "cell_type": "code",
   "execution_count": null,
   "id": "ce02ecf8-e15b-4140-9990-0b049f74856a",
   "metadata": {},
   "outputs": [],
   "source": [
    "# a function argument can be composed of more basic elements\n",
    "degrees = 45\n",
    "x = math.sin(degrees / 360.0 * 2 * math.pi)"
   ]
  },
  {
   "cell_type": "code",
   "execution_count": null,
   "id": "b37b653a-c4d6-41aa-bcb4-7ce0146520ef",
   "metadata": {},
   "outputs": [],
   "source": [
    "# even function calls can be used\n",
    "x = 0\n",
    "x = math.exp(math.log(x+1))"
   ]
  },
  {
   "cell_type": "code",
   "execution_count": null,
   "id": "baaa3a02-6b07-4eac-b61d-d3b319a188da",
   "metadata": {},
   "outputs": [],
   "source": [
    "# expressions can be put almost anywhere\n",
    "hours = 4\n",
    "minutes = hours * 60"
   ]
  },
  {
   "cell_type": "code",
   "execution_count": null,
   "id": "1feb0a72-aae1-4a80-b1b4-a1009c1d7b2d",
   "metadata": {},
   "outputs": [],
   "source": [
    "# except on the left side of an assignment statement\n",
    "hours * 60 = minutes"
   ]
  },
  {
   "cell_type": "markdown",
   "id": "3db04b79-19a1-4c1d-9b65-238e26cef89b",
   "metadata": {},
   "source": [
    "## 3.4 Adding new functions"
   ]
  },
  {
   "cell_type": "code",
   "execution_count": null,
   "id": "04ee4e11-6639-4fd4-8bd9-8f315206dc1b",
   "metadata": {},
   "outputs": [],
   "source": [
    "# function definition\n",
    "\n",
    "def print_lyrics(): # header\n",
    "    print(\"I'm a lumberjack, and I'm okay.\") # body\n",
    "    print(\"I sleep all night and I work all day.\") # body"
   ]
  },
  {
   "cell_type": "code",
   "execution_count": null,
   "id": "145e5c86-a086-4c18-a704-8a5f2775eac3",
   "metadata": {},
   "outputs": [],
   "source": [
    "print_lyrics()"
   ]
  },
  {
   "cell_type": "code",
   "execution_count": null,
   "id": "9a3a40bd-5f45-4ccf-9d22-c292b85e5c29",
   "metadata": {},
   "outputs": [],
   "source": [
    "print(print_lyrics)"
   ]
  },
  {
   "cell_type": "code",
   "execution_count": null,
   "id": "c3e0326c-e3b5-4ba0-9afd-31acfe6edfb5",
   "metadata": {},
   "outputs": [],
   "source": [
    "type(print_lyrics)"
   ]
  },
  {
   "cell_type": "code",
   "execution_count": null,
   "id": "ca644b34-c965-4115-8017-e4762b498d18",
   "metadata": {},
   "outputs": [],
   "source": [
    "# nested function\n",
    "\n",
    "def repeat_lyrics():\n",
    "    print_lyrics()\n",
    "    print_lyrics()"
   ]
  },
  {
   "cell_type": "code",
   "execution_count": null,
   "id": "eb4e21e0-08a8-40b5-bc4a-ccc17a04c941",
   "metadata": {},
   "outputs": [],
   "source": [
    "repeat_lyrics()"
   ]
  },
  {
   "cell_type": "markdown",
   "id": "4e4379cd-6652-4c17-8d91-c83e9bacec8d",
   "metadata": {},
   "source": [
    "## 3.5 Definitions and uses"
   ]
  },
  {
   "cell_type": "code",
   "execution_count": null,
   "id": "7330a466-4d5e-4413-be45-1561b75377fc",
   "metadata": {},
   "outputs": [],
   "source": [
    "\n",
    "def print_lyrics2(): \n",
    "    print(\"I'm a lumberjack, and I'm okay.\") \n",
    "    print(\"I sleep all night and I work all day.\")\n",
    "\n",
    "def repeat_lyrics2():\n",
    "    print_lyrics2()\n",
    "    print_lyrics2()\n",
    "    \n",
    "repeat_lyrics2()   \n"
   ]
  },
  {
   "cell_type": "code",
   "execution_count": null,
   "id": "f35aefe0-37c2-4377-853a-4d73045c17e6",
   "metadata": {},
   "outputs": [],
   "source": [
    "del print_lyrics2"
   ]
  },
  {
   "cell_type": "code",
   "execution_count": null,
   "id": "19170d1c-8d26-4698-ac64-17fe7bc99aa7",
   "metadata": {},
   "outputs": [],
   "source": [
    "del repeat_lyrics2"
   ]
  },
  {
   "cell_type": "markdown",
   "id": "299b0dfb-a36a-453a-86ea-dc5bf3e5c41b",
   "metadata": {},
   "source": [
    "## 3.6 Flow of execution"
   ]
  },
  {
   "cell_type": "markdown",
   "id": "f200906e-5e8e-43c6-a4a6-a132f4145906",
   "metadata": {},
   "source": [
    "## 3.7 Parameters and arguments"
   ]
  },
  {
   "cell_type": "code",
   "execution_count": null,
   "id": "3cc59c74-d9f8-4232-a8a1-7514fac64e62",
   "metadata": {},
   "outputs": [],
   "source": [
    "def print_twice(bruce): # bruce is a parameter\n",
    "    print(bruce)\n",
    "    print(bruce)\n",
    "    "
   ]
  },
  {
   "cell_type": "code",
   "execution_count": null,
   "id": "4d4129da-b6ff-46c7-a0f4-5ed9687be82e",
   "metadata": {},
   "outputs": [],
   "source": [
    "print_twice(\"Spam\") # \"Spam\" is an argument"
   ]
  },
  {
   "cell_type": "code",
   "execution_count": null,
   "id": "c95e78da-3446-49a9-8fee-ed697e05087a",
   "metadata": {},
   "outputs": [],
   "source": [
    "print_twice(42) # and another argument"
   ]
  },
  {
   "cell_type": "code",
   "execution_count": null,
   "id": "bc98c32d-82d0-4d53-87b1-6c97c6c1923e",
   "metadata": {},
   "outputs": [],
   "source": [
    "print_twice(math.pi) # and yet another argument"
   ]
  },
  {
   "cell_type": "code",
   "execution_count": null,
   "id": "e6362fd6-ea12-403e-b6a9-1cbe5fbf4468",
   "metadata": {},
   "outputs": [],
   "source": [
    "print_twice('Spam ' * 4) # the argument is evaluated before the function is called"
   ]
  },
  {
   "cell_type": "markdown",
   "id": "6718ccba-506a-4a4f-a666-9e3cbef71454",
   "metadata": {},
   "source": [
    "## 3.8 Variables and parameters are local"
   ]
  },
  {
   "cell_type": "code",
   "execution_count": null,
   "id": "38b5e9c8-0916-4fa1-8000-01a06be28b5e",
   "metadata": {},
   "outputs": [],
   "source": [
    "def cat_twice(part1, part2):\n",
    "    cat = part1 + part2\n",
    "    print_twice(cat)"
   ]
  },
  {
   "cell_type": "code",
   "execution_count": null,
   "id": "a99fef9c-00fc-481c-b431-4552465b059b",
   "metadata": {},
   "outputs": [],
   "source": [
    "line1 = 'Bing tiddle '\n",
    "line2 = 'tiddle bang.'\n",
    "cat_twice(line1, line2)"
   ]
  },
  {
   "cell_type": "code",
   "execution_count": null,
   "id": "5a425e06-dd1d-4609-b65c-cbb4b1b3f4e2",
   "metadata": {},
   "outputs": [],
   "source": [
    "print(cat) # cat is local to cat_twice() and therefore not accessible outside of the function"
   ]
  },
  {
   "cell_type": "code",
   "execution_count": null,
   "id": "8269a145-e21e-4919-9cd1-de8684338394",
   "metadata": {},
   "outputs": [],
   "source": [
    "# function parameters are also local to the function\n",
    "print(bruce)"
   ]
  },
  {
   "cell_type": "markdown",
   "id": "3957ff07-0d92-48ab-b630-6d83b4406a64",
   "metadata": {},
   "source": [
    "## 3.9 Stack diagrams"
   ]
  },
  {
   "cell_type": "code",
   "execution_count": null,
   "id": "a7d76d1a-120f-43e3-be81-8b9617120975",
   "metadata": {},
   "outputs": [],
   "source": [
    "def print_twice(bruce): # bruce is a parameter\n",
    "    print(bruce)\n",
    "    print(bruce)\n",
    "    \n",
    "cat_twice(line1, line2)"
   ]
  },
  {
   "cell_type": "markdown",
   "id": "f65f1640-dd33-453c-bc8a-4666a6a60c8e",
   "metadata": {},
   "source": [
    "## 3.10 Fruitful functions and void functions"
   ]
  },
  {
   "cell_type": "code",
   "execution_count": null,
   "id": "12dae77e-0c75-41e3-9b1d-e4e60ae40aaf",
   "metadata": {},
   "outputs": [],
   "source": [
    "# fruitful functions\n",
    "radians = 0.7\n",
    "x = math.cos(radians)\n",
    "golden = (math.sqrt(5) + 1) / 2"
   ]
  },
  {
   "cell_type": "code",
   "execution_count": null,
   "id": "a8d221cf-52c5-4137-b72b-70426ea0e813",
   "metadata": {},
   "outputs": [],
   "source": [
    "print(golden)"
   ]
  },
  {
   "cell_type": "code",
   "execution_count": null,
   "id": "eb149271-e3ba-43b7-b646-414ee6e63434",
   "metadata": {},
   "outputs": [],
   "source": [
    "# void function\n",
    "result = print_twice('Bing')"
   ]
  },
  {
   "cell_type": "code",
   "execution_count": null,
   "id": "295b138e-2b65-4832-8edb-75dea297481d",
   "metadata": {},
   "outputs": [],
   "source": [
    "print(result)"
   ]
  },
  {
   "cell_type": "code",
   "execution_count": null,
   "id": "61ac45f2-6697-43e4-9db0-27d83adaf6d8",
   "metadata": {},
   "outputs": [],
   "source": [
    "type(None)"
   ]
  },
  {
   "cell_type": "markdown",
   "id": "578ab4fa-6428-457d-a751-854c3c572aa9",
   "metadata": {},
   "source": [
    "## 3.11 Why functions?\n",
    "\n",
    "* easier reading easier debugging\n",
    "* eliminating repetitive code\n",
    "* divide and conquer for debugging\n",
    "* reusability in other programs"
   ]
  },
  {
   "cell_type": "markdown",
   "id": "b6ab4fcd-f107-42ce-8ca5-6fe5f05e1136",
   "metadata": {},
   "source": [
    "## 3.12 Debugging"
   ]
  },
  {
   "cell_type": "markdown",
   "id": "4bf920f8-0db4-4b5e-a561-01b1a6971ae4",
   "metadata": {},
   "source": [
    "## 3.13 Glossary"
   ]
  },
  {
   "cell_type": "markdown",
   "id": "9be01277-2f4d-4ab4-a42f-fbe74704d3dc",
   "metadata": {},
   "source": [
    "## 3.14 Exercises"
   ]
  },
  {
   "cell_type": "code",
   "execution_count": null,
   "id": "496017eb-d929-42d7-a054-126288e4afa5",
   "metadata": {},
   "outputs": [],
   "source": []
  }
 ],
 "metadata": {
  "kernelspec": {
   "display_name": "Python 3 (ipykernel)",
   "language": "python",
   "name": "python3"
  },
  "language_info": {
   "codemirror_mode": {
    "name": "ipython",
    "version": 3
   },
   "file_extension": ".py",
   "mimetype": "text/x-python",
   "name": "python",
   "nbconvert_exporter": "python",
   "pygments_lexer": "ipython3",
   "version": "3.10.9"
  }
 },
 "nbformat": 4,
 "nbformat_minor": 5
}
