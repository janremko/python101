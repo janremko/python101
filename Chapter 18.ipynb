{
 "cells": [
  {
   "cell_type": "markdown",
   "id": "ab1cccf9-096d-4da8-b719-a73acf29d861",
   "metadata": {},
   "source": [
    "# Chapter 18 Inheritance"
   ]
  },
  {
   "cell_type": "markdown",
   "id": "14216e53-5268-4a36-b19d-7eedd705076c",
   "metadata": {},
   "source": [
    "## 18.1 Card Objects\n",
    "\n",
    "Let's create a representation of a deck of cards. To be able to easily compare cards it is handy to assign an integer value to the suit and rank of each card (spades = 3, hearts = 2, diamonds = 1, clubs = 0)"
   ]
  },
  {
   "cell_type": "code",
   "execution_count": null,
   "id": "82d04be8-182b-450e-b329-c4b112b8b335",
   "metadata": {},
   "outputs": [],
   "source": [
    "class Card:\n",
    "    \"\"\"Represents a standard playing card.\"\"\"\n",
    "    \n",
    "    def __init__(self, suit=0, rank = 2): # default is 2 of clubs...\n",
    "        self.suit = suit\n",
    "        self.rank = rank\n",
    "        \n",
    "queen_of_diamonds = Card(1, 12)\n"
   ]
  },
  {
   "cell_type": "code",
   "execution_count": null,
   "id": "a29e9504-a179-4893-9025-1b9379e63c7b",
   "metadata": {},
   "outputs": [],
   "source": [
    "print(queen_of_diamonds)"
   ]
  },
  {
   "cell_type": "markdown",
   "id": "0b8505bc-28d1-4687-873f-317f0d30d019",
   "metadata": {},
   "source": [
    "## 18.2 Class attributes\n",
    "\n",
    "A natural and easy way to associate / map ranks and suits to integer values is to use a list."
   ]
  },
  {
   "cell_type": "code",
   "execution_count": null,
   "id": "ee25f718-8641-4835-93a2-1739e5f1d9bb",
   "metadata": {},
   "outputs": [],
   "source": [
    "# now new and improved!!!\n",
    "class Card:\n",
    "    \"\"\"Represents a standard playing card.\"\"\"\n",
    "    \n",
    "    # with class attributes\n",
    "    suit_names = ['Clubs', 'Diamonds', 'Hearts', 'Spades']\n",
    "    rank_names = [None, 'Ace', '2', '3', '4', '5', '6', '7', '8', '9', '10', 'Jack', 'Queen', 'King']\n",
    "    \n",
    "    # here we initialize the instance attributes\n",
    "    def __init__(self, suit=0, rank = 2): # default is 2 of clubs...\n",
    "        self.suit = suit\n",
    "        self.rank = rank\n",
    "        \n",
    "    def __str__(self):\n",
    "        return '%s of %s' % (Card.rank_names[self.rank], Card.suit_names[self.suit])\n",
    "    \n",
    "queen_of_diamonds = Card(1, 12)\n",
    "print(queen_of_diamonds)"
   ]
  },
  {
   "cell_type": "markdown",
   "id": "c290a872-9898-4d0f-b4a8-c2a0e8741d24",
   "metadata": {},
   "source": [
    "## 18.3 Comparing cards\n",
    "\n",
    "For built-in types there are the relational operators (<, >, ==, etc.). We can override the behavior of built-in operators for programmer-defined types by providing a method called `__lt__`. Search for \"Python magic methods\" or \"Python dunder methods\" to find out more on these kind of methods."
   ]
  },
  {
   "cell_type": "code",
   "execution_count": null,
   "id": "b6f5fe20-44d1-4b6a-88b3-67a91752f4d3",
   "metadata": {},
   "outputs": [],
   "source": [
    "# even better this time!!!\n",
    "class Card:\n",
    "    \"\"\"Represents a standard playing card.\"\"\"\n",
    "    \n",
    "    # with class attributes\n",
    "    suit_names = ['Clubs', 'Diamonds', 'Hearts', 'Spades']\n",
    "    rank_names = [None, 'Ace', '2', '3', '4', '5', '6', '7', '8', '9', '10', 'Jack', 'Queen', 'King']\n",
    "    \n",
    "    # here we initialize the instance attributes\n",
    "    def __init__(self, suit=0, rank = 2): # default is 2 of clubs...\n",
    "        self.suit = suit\n",
    "        self.rank = rank\n",
    "        \n",
    "    def __str__(self):\n",
    "        return '%s of %s' % (Card.rank_names[self.rank], Card.suit_names[self.suit])\n",
    "    \n",
    "    def __lt__(self, other):\n",
    "        # check the suits\n",
    "        if self.suit < other.suit: return True\n",
    "        if self.suit > other.suit: return False\n",
    "        # suits are the same... check ranks\n",
    "        return self.rank < other.rank\n"
   ]
  },
  {
   "cell_type": "code",
   "execution_count": null,
   "id": "ab0d81b5-2360-4435-b2e6-79b9f3c93d69",
   "metadata": {},
   "outputs": [],
   "source": [
    "# but this is more pythonic, using tuple comparison:\n",
    "class Card:\n",
    "    \"\"\"Represents a standard playing card.\"\"\"\n",
    "    \n",
    "    # with class attributes\n",
    "    suit_names = ['Clubs', 'Diamonds', 'Hearts', 'Spades']\n",
    "    rank_names = [None, 'Ace', '2', '3', '4', '5', '6', '7', '8', '9', '10', 'Jack', 'Queen', 'King']\n",
    "    \n",
    "    # here we initialize the instance attributes\n",
    "    def __init__(self, suit=0, rank = 2): # default is 2 of clubs...\n",
    "        self.suit = suit\n",
    "        self.rank = rank\n",
    "        \n",
    "    def __str__(self):\n",
    "        return '%s of %s' % (Card.rank_names[self.rank], Card.suit_names[self.suit])\n",
    "\n",
    "    def __lt__(self, other):\n",
    "        t1 = self.suit, self.rank\n",
    "        t2 = other.suit, other.rank\n",
    "        return t1 < t2\n",
    "\n",
    "c1 = Card(3, 10)\n",
    "c2 = Card(3, 11)\n",
    "print(c1, c2)\n",
    "c1 < c2"
   ]
  },
  {
   "cell_type": "markdown",
   "id": "f8303af9-d983-419c-b5f4-fc46555d3fc9",
   "metadata": {},
   "source": [
    "## 18.4 Decks"
   ]
  },
  {
   "cell_type": "code",
   "execution_count": null,
   "id": "1cac01ed-74ea-4a22-a85a-0dc97c3fc93f",
   "metadata": {},
   "outputs": [],
   "source": [
    "class Deck:\n",
    "    def __init__(self):\n",
    "        self.cards = []\n",
    "        for suit in range(4):\n",
    "            for rank in range(1, 14):\n",
    "                card = Card(suit, rank)\n",
    "                self.cards.append(card)"
   ]
  },
  {
   "cell_type": "code",
   "execution_count": null,
   "id": "fddc3afb-f918-4e56-821c-400b2eef68ee",
   "metadata": {},
   "outputs": [],
   "source": [
    "d1 = Deck()\n",
    "\n",
    "for card in d1.cards:\n",
    "    print(card)"
   ]
  },
  {
   "cell_type": "markdown",
   "id": "2fbc6dd2-ceb7-4598-a97d-93ef1907199a",
   "metadata": {},
   "source": [
    "## 18.5 Printing the deck"
   ]
  },
  {
   "cell_type": "code",
   "execution_count": null,
   "id": "c3c9b6d4-3110-4c31-bc1c-473414ef8997",
   "metadata": {},
   "outputs": [],
   "source": [
    "class Deck:\n",
    "    def __init__(self):\n",
    "        self.cards = []\n",
    "        for suit in range(4):\n",
    "            for rank in range(1, 14):\n",
    "                card = Card(suit, rank)\n",
    "                self.cards.append(card)\n",
    "                \n",
    "    def __str__(self):\n",
    "        res = []\n",
    "        for card in self.cards:\n",
    "            res.append(str(card))\n",
    "        return '\\n'.join(res) # hey what's happening here?\n",
    "    \n",
    "deck = Deck()\n",
    "print(deck)"
   ]
  },
  {
   "cell_type": "markdown",
   "id": "52285f50-6b15-4567-a519-3fccad72b913",
   "metadata": {},
   "source": [
    "## 18.6 Add, remove, shuffle and sort"
   ]
  },
  {
   "cell_type": "code",
   "execution_count": null,
   "id": "de8b577b-5e7e-4c59-9615-e1c9f0fb3dda",
   "metadata": {},
   "outputs": [],
   "source": [
    "# adding a way to deal a card\n",
    "class Deck:\n",
    "    def __init__(self):\n",
    "        self.cards = []\n",
    "        for suit in range(4):\n",
    "            for rank in range(1, 14):\n",
    "                card = Card(suit, rank)\n",
    "                self.cards.append(card)\n",
    "                \n",
    "    def __str__(self):\n",
    "        res = []\n",
    "        for card in self.cards:\n",
    "            res.append(str(card))\n",
    "        return '\\n'.join(res)\n",
    "    \n",
    "    def pop_card(self):\n",
    "        return self.cards.pop() # which card will be dealt?"
   ]
  },
  {
   "cell_type": "code",
   "execution_count": null,
   "id": "fa5c9358-8cea-4595-ab0e-852ee369fdbe",
   "metadata": {},
   "outputs": [],
   "source": [
    "# adding a way to add a card\n",
    "\n",
    "class Deck:\n",
    "    def __init__(self):\n",
    "        self.cards = []\n",
    "        for suit in range(4):\n",
    "            for rank in range(1, 14):\n",
    "                card = Card(suit, rank)\n",
    "                self.cards.append(card)\n",
    "                \n",
    "    def __str__(self):\n",
    "        res = []\n",
    "        for card in self.cards:\n",
    "            res.append(str(card))\n",
    "        return '\\n'.join(res)\n",
    "    \n",
    "    def pop_card(self):\n",
    "        return self.cards.pop() \n",
    "    \n",
    "    def add_card(self, card):\n",
    "        self.cards.append(card) # this is called a veneer"
   ]
  },
  {
   "cell_type": "code",
   "execution_count": null,
   "id": "29ac87ec-7072-4d1d-b3be-644e91a07fe8",
   "metadata": {},
   "outputs": [],
   "source": [
    "# and now for something completely different, let's shuffle it up\n",
    "import random\n",
    "\n",
    "class Deck:\n",
    "    def __init__(self):\n",
    "        self.cards = []\n",
    "        for suit in range(4):\n",
    "            for rank in range(1, 14):\n",
    "                card = Card(suit, rank)\n",
    "                self.cards.append(card)\n",
    "                \n",
    "    def __str__(self):\n",
    "        res = []\n",
    "        for card in self.cards:\n",
    "            res.append(str(card))\n",
    "        return '\\n'.join(res)\n",
    "    \n",
    "    def pop_card(self):\n",
    "        return self.cards.pop() \n",
    "    \n",
    "    def add_card(self, card):\n",
    "        self.cards.append(card)\n",
    "        \n",
    "    # yet another veneer method\n",
    "    def shuffle(self):\n",
    "        random.shuffle(self.cards)"
   ]
  },
  {
   "cell_type": "code",
   "execution_count": null,
   "id": "20945df3-2584-4349-a6f4-ce38940da1c4",
   "metadata": {},
   "outputs": [],
   "source": [
    "deck = Deck()\n",
    "deck.shuffle()\n",
    "card = deck.pop_card()\n",
    "print(card)"
   ]
  },
  {
   "cell_type": "markdown",
   "id": "21fe7c60-af4b-4113-bfdf-1745bee8f720",
   "metadata": {},
   "source": [
    "## 18.7 Inheritance"
   ]
  },
  {
   "cell_type": "code",
   "execution_count": null,
   "id": "f381811f-6ca4-4bf7-9a67-ca9b15d4dd8e",
   "metadata": {},
   "outputs": [],
   "source": [
    "# let's create a Hand class which inherits from Deck\n",
    "\n",
    "class Hand(Deck):\n",
    "    \"\"\"Represents a hand of playing cards.\"\"\"\n",
    "    \n",
    "# this class is now exactly the same as Deck\n",
    "\n",
    "hand = Hand()\n",
    "print(hand)"
   ]
  },
  {
   "cell_type": "code",
   "execution_count": null,
   "id": "a8d4a8e4-ba60-4e05-b5f3-16fc70445e5b",
   "metadata": {},
   "outputs": [],
   "source": [
    "# Creating the class with overrides\n",
    "\n",
    "class Hand(Deck):\n",
    "    \"\"\"Represents a hand of playing cards.\"\"\"\n",
    "    \n",
    "    def __init__(self, label=''):\n",
    "        self.cards = []\n",
    "        self.label = label\n",
    "        \n",
    "hand = Hand('New Hand')\n",
    "hand.cards\n"
   ]
  },
  {
   "cell_type": "code",
   "execution_count": null,
   "id": "67d21d83-90c6-49b4-b3b5-ba30d958eded",
   "metadata": {},
   "outputs": [],
   "source": [
    "hand.label"
   ]
  },
  {
   "cell_type": "code",
   "execution_count": null,
   "id": "98b6db85-0b38-4e44-9ea4-9c9ff1d29565",
   "metadata": {},
   "outputs": [],
   "source": [
    "# let's play\n",
    "\n",
    "deck = Deck()\n",
    "deck.shuffle()\n",
    "hand = Hand('My Hand')\n",
    "hand.add_card(deck.pop_card())\n",
    "print(hand)"
   ]
  },
  {
   "cell_type": "code",
   "execution_count": null,
   "id": "27248642-d2a1-4cbb-9499-76c6fb08ef26",
   "metadata": {},
   "outputs": [],
   "source": [
    "# currently we're dealing one card at a time, that can be done more efficiently\n",
    "\n",
    "class Deck:\n",
    "    def __init__(self):\n",
    "        self.cards = []\n",
    "        for suit in range(4):\n",
    "            for rank in range(1, 14):\n",
    "                card = Card(suit, rank)\n",
    "                self.cards.append(card)\n",
    "                \n",
    "    def __str__(self):\n",
    "        res = []\n",
    "        for card in self.cards:\n",
    "            res.append(str(card))\n",
    "        return '\\n'.join(res)\n",
    "    \n",
    "    def pop_card(self):\n",
    "        return self.cards.pop() \n",
    "    \n",
    "    def add_card(self, card):\n",
    "        self.cards.append(card)\n",
    "        \n",
    "    def shuffle(self):\n",
    "        random.shuffle(self.cards)\n",
    "        \n",
    "    def move_cards(self, hand, num):\n",
    "        for i in range(num):\n",
    "            hand.add_card(self.pop_card())\n",
    "            \n",
    "class Hand(Deck):\n",
    "    \"\"\"Represents a hand of playing cards.\"\"\"\n",
    "    \n",
    "    def __init__(self, label=''):\n",
    "        self.cards = []\n",
    "        self.label = label"
   ]
  },
  {
   "cell_type": "code",
   "execution_count": null,
   "id": "ddcf9430-973e-4a66-b094-8b31eb4146e7",
   "metadata": {},
   "outputs": [],
   "source": [
    "deck = Deck()\n",
    "deck.shuffle()\n",
    "h1 = Hand('Hand1')\n",
    "h2 = Hand('Hand2')\n",
    "h3 = Hand('Hand3')\n",
    "h4 = Hand('Hand4')\n",
    "deck.move_cards(h1, 13)\n",
    "deck.move_cards(h2, 13)\n",
    "deck.move_cards(h3, 13)\n",
    "deck.move_cards(h4, 13)\n",
    "print(h1.label, h1)\n",
    "print(h2.label, h2)\n",
    "print(h3.label, h3)\n",
    "print(h4.label, h4)\n",
    "deck.cards"
   ]
  },
  {
   "attachments": {
    "49edadc9-7400-4fb7-9a53-d6dab2c1b53c.png": {
     "image/png": "[encoded data removed]"
    }
   },
   "cell_type": "markdown",
   "id": "e01f1343-f53f-4994-a0b2-acf33bd0ad60",
   "metadata": {},
   "source": [
    "## 18.8 Class diagrams\n",
    "\n",
    "A class diagram shows classes and the relationships between them\n",
    "\n",
    "Kind of relationships:\n",
    "- has-a\n",
    "- is-a\n",
    "- dependency\n",
    "\n",
    "![class diagram.png](attachment:49edadc9-7400-4fb7-9a53-d6dab2c1b53c.png)"
   ]
  },
  {
   "cell_type": "markdown",
   "id": "50814e2f-c09d-4afa-837c-4c7b1ebb243f",
   "metadata": {},
   "source": [
    "## 18.9 Debugging"
   ]
  },
  {
   "cell_type": "markdown",
   "id": "1a12f821-c1db-4c3c-b98a-441e3a4b3152",
   "metadata": {},
   "source": [
    "## 18.10 Data encapsulation\n",
    "\n",
    "Objects can represent real-life thingies. But they can also be used to encapsulate data structures and operations which we want to perform more often than once."
   ]
  },
  {
   "cell_type": "markdown",
   "id": "b6dc5461-fb2f-44b7-beaa-c5e33e6fafba",
   "metadata": {},
   "source": [
    "## 18.11 Glossary"
   ]
  },
  {
   "cell_type": "markdown",
   "id": "225bb6e8-e977-4571-9ebc-371889bd90c8",
   "metadata": {},
   "source": [
    "## 18.12 Exercises"
   ]
  },
  {
   "cell_type": "code",
   "execution_count": null,
   "id": "2a96d8f8-6d68-437d-be77-d0bc5d6ca5b4",
   "metadata": {},
   "outputs": [],
   "source": []
  }
 ],
 "metadata": {
  "kernelspec": {
   "display_name": "Python 3 (ipykernel)",
   "language": "python",
   "name": "python3"
  },
  "language_info": {
   "codemirror_mode": {
    "name": "ipython",
    "version": 3
   },
   "file_extension": ".py",
   "mimetype": "text/x-python",
   "name": "python",
   "nbconvert_exporter": "python",
   "pygments_lexer": "ipython3",
   "version": "3.10.9"
  }
 },
 "nbformat": 4,
 "nbformat_minor": 5
}
