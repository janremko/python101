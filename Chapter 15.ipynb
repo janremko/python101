{
 "cells": [
  {
   "cell_type": "markdown",
   "id": "b62b9bb5-a292-4c6c-a1fb-0a172fd2c679",
   "metadata": {
    "tags": []
   },
   "source": [
    "# Chapter 15 Classes and objects\n",
    "\n",
    "So by now we know how to use functions to organize code and built-in types to organize data.\n",
    "\n",
    "Next step: learn OOP which uses programmer-defined types to organize both code and data"
   ]
  },
  {
   "cell_type": "markdown",
   "id": "3f5e72e4-8545-496a-a085-16e63ca11c97",
   "metadata": {},
   "source": [
    "## 15.1 Programmer-defined types"
   ]
  },
  {
   "cell_type": "code",
   "execution_count": null,
   "id": "8a8ebb3f-b8f2-4b9d-8dfd-5a31393cd5b7",
   "metadata": {},
   "outputs": [],
   "source": [
    "class Point:\n",
    "    \"\"\"Represents a point in 2-D space.\"\"\""
   ]
  },
  {
   "cell_type": "code",
   "execution_count": null,
   "id": "ec1ceef7-d767-4299-8f2e-e8b81c346a5f",
   "metadata": {},
   "outputs": [],
   "source": [
    "Point"
   ]
  },
  {
   "cell_type": "code",
   "execution_count": null,
   "id": "b0aac468-8d9c-4c5a-aeb8-88b0b38300c1",
   "metadata": {},
   "outputs": [],
   "source": [
    "type(Point)"
   ]
  },
  {
   "cell_type": "code",
   "execution_count": null,
   "id": "47e4b205-4577-4e48-be93-3c56c968c3db",
   "metadata": {},
   "outputs": [],
   "source": [
    "blank = Point()\n",
    "blank"
   ]
  },
  {
   "cell_type": "markdown",
   "id": "69fce954-06bf-4674-93fe-84e1d7254403",
   "metadata": {},
   "source": [
    "A class is like a blueprint for a certain object. An object is an instance of a class. Creating an object is called **instantiation**. Every object is an instance of a class, so in practice the two can be used interchangeably."
   ]
  },
  {
   "cell_type": "markdown",
   "id": "12fc987d-796b-43bb-94a0-c176537400ce",
   "metadata": {},
   "source": [
    "## 15.2 Attributes"
   ]
  },
  {
   "cell_type": "code",
   "execution_count": null,
   "id": "139d100a-27e1-4fe1-9215-edcb3b55fc5e",
   "metadata": {},
   "outputs": [],
   "source": [
    "blank.x = 3.0"
   ]
  },
  {
   "cell_type": "code",
   "execution_count": null,
   "id": "6dd23748-6bad-4696-9e08-c8074bbefc5d",
   "metadata": {},
   "outputs": [],
   "source": [
    "blank.y = 4.0"
   ]
  },
  {
   "cell_type": "code",
   "execution_count": null,
   "id": "52e9d73d-a93a-4c68-93cd-73f571ec1de3",
   "metadata": {},
   "outputs": [],
   "source": [
    "blank.x"
   ]
  },
  {
   "cell_type": "code",
   "execution_count": null,
   "id": "f2b479e6-072f-4cd4-bbcc-abe524107f83",
   "metadata": {},
   "outputs": [],
   "source": [
    "blank.y"
   ]
  },
  {
   "cell_type": "code",
   "execution_count": null,
   "id": "8adef659-7ad6-4b92-9cd7-edfe31f57e77",
   "metadata": {},
   "outputs": [],
   "source": [
    "x = blank.x\n",
    "x"
   ]
  },
  {
   "cell_type": "code",
   "execution_count": null,
   "id": "727c2241-feb1-4573-a952-80f33c0f197f",
   "metadata": {},
   "outputs": [],
   "source": [
    "x += 1\n",
    "x"
   ]
  },
  {
   "cell_type": "code",
   "execution_count": null,
   "id": "2c2fc7e1-a4ef-4c60-845d-4c4c227472be",
   "metadata": {},
   "outputs": [],
   "source": [
    "blank.x"
   ]
  },
  {
   "cell_type": "code",
   "execution_count": null,
   "id": "7fda24bc-c126-47e9-ac28-6ce4da996810",
   "metadata": {},
   "outputs": [],
   "source": [
    "# dot notation can be used as part of any expression\n",
    "'(%g, %g)' % (blank.x, blank.y)"
   ]
  },
  {
   "cell_type": "code",
   "execution_count": null,
   "id": "eb80546d-c82f-4a27-872f-5b77df873abf",
   "metadata": {},
   "outputs": [],
   "source": [
    "import math\n",
    "distance = math.sqrt(blank.x**2 + blank.y**2)\n",
    "distance"
   ]
  },
  {
   "cell_type": "code",
   "execution_count": null,
   "id": "53524b16-482f-447e-bf16-bafe57bee833",
   "metadata": {},
   "outputs": [],
   "source": [
    "# an instance can be passed as an argument\n",
    "def print_point(p):\n",
    "    print('(%g, %g)' % (p.x, p.y))\n",
    "    \n",
    "print_point(blank)"
   ]
  },
  {
   "cell_type": "markdown",
   "id": "48542436-2f94-466f-b4f0-00780494e4e0",
   "metadata": {},
   "source": [
    "## 15.3 Rectangles\n",
    "\n",
    "Sometimes the attributes of an object are obvious, sometimes, however, there are multiple possible designs.\n",
    "\n",
    "For example, a rectangle can be defined by:\n",
    "1. A corner (or the center) and the width and the height\n",
    "2. Two opposing corners"
   ]
  },
  {
   "cell_type": "code",
   "execution_count": null,
   "id": "194d55a2-9e8e-4e28-80df-b34bc4a1a19e",
   "metadata": {},
   "outputs": [],
   "source": [
    "class Rectangle:\n",
    "    \"\"\"Represents a rectangle.\n",
    "    \n",
    "    Attributes: width, height, corner.\n",
    "    \"\"\""
   ]
  },
  {
   "cell_type": "code",
   "execution_count": null,
   "id": "7dcd7529-5677-44b9-8444-226f6e470f58",
   "metadata": {},
   "outputs": [],
   "source": [
    "box = Rectangle()\n",
    "box.width = 100.0\n",
    "box.height = 200.0\n",
    "box.corner = Point() # hey, an embedded object!\n",
    "box.corner.x = 0.0\n",
    "box.corner.y = 0.0"
   ]
  },
  {
   "cell_type": "markdown",
   "id": "86b447c4-bca9-4731-b2f4-ac55bf73b487",
   "metadata": {},
   "source": [
    "## 15.4 Instances as return values"
   ]
  },
  {
   "cell_type": "code",
   "execution_count": null,
   "id": "48f7b887-f381-4a25-ac94-7be4faff2872",
   "metadata": {},
   "outputs": [],
   "source": [
    "def find_center(rect):\n",
    "    p = Point()\n",
    "    p.x = rect.corner.x + rect.width/2\n",
    "    p.y = rect.corner.y + rect.height/2\n",
    "    return p"
   ]
  },
  {
   "cell_type": "code",
   "execution_count": null,
   "id": "92b97609-61a5-4407-857d-99d8b9124788",
   "metadata": {},
   "outputs": [],
   "source": [
    "center = find_center(box)\n",
    "print_point(center)"
   ]
  },
  {
   "cell_type": "markdown",
   "id": "64dd3ffb-619f-4e67-ba6a-8f389762a35d",
   "metadata": {},
   "source": [
    "## 15.5 Objects are mutable\n",
    "\n",
    "You can change the state of an object by making an assignment to one of its attributes."
   ]
  },
  {
   "cell_type": "code",
   "execution_count": null,
   "id": "7853b388-c2ee-497e-9ed8-e9d2be21402b",
   "metadata": {},
   "outputs": [],
   "source": [
    "print('width:', box.width)\n",
    "box.width = box.width + 50\n",
    "print('width:', box.width)"
   ]
  },
  {
   "cell_type": "code",
   "execution_count": null,
   "id": "e3a4e7b4-5b96-49e1-a44a-d6e0e25f5d44",
   "metadata": {},
   "outputs": [],
   "source": [
    "# you can encapsulate object modification in functions\n",
    "def grow_rectangle(rect, dwidth, dheight):\n",
    "    rect.width += dwidth\n",
    "    rect.height += dheight"
   ]
  },
  {
   "cell_type": "code",
   "execution_count": null,
   "id": "cfe9a258-e988-4845-90dd-3a263c21b2b7",
   "metadata": {},
   "outputs": [],
   "source": [
    "box.width, box.height"
   ]
  },
  {
   "cell_type": "code",
   "execution_count": null,
   "id": "9dc5fffa-8fe9-465e-9b74-daf40ca8b028",
   "metadata": {},
   "outputs": [],
   "source": [
    "grow_rectangle(box, 50, 100)\n",
    "box.width, box.height"
   ]
  },
  {
   "cell_type": "markdown",
   "id": "6e4d166a-8208-495c-be39-3e9b2a05ae95",
   "metadata": {},
   "source": [
    "## 15.6 Copying"
   ]
  },
  {
   "cell_type": "code",
   "execution_count": null,
   "id": "c4de9a62-2ed8-4dfd-a86b-717bf6b29c8d",
   "metadata": {},
   "outputs": [],
   "source": [
    "p1 = Point()\n",
    "p1.x = 3.0\n",
    "p1.y = 4.0"
   ]
  },
  {
   "cell_type": "code",
   "execution_count": null,
   "id": "f969a20e-13c4-4828-80e9-1f94a40b0a00",
   "metadata": {},
   "outputs": [],
   "source": [
    "import copy"
   ]
  },
  {
   "cell_type": "code",
   "execution_count": null,
   "id": "4cd9ecec-ffc6-46eb-8d08-588c176ce9fe",
   "metadata": {},
   "outputs": [],
   "source": [
    "p2 = copy.copy(p1) # the copy function can copy any object"
   ]
  },
  {
   "cell_type": "code",
   "execution_count": null,
   "id": "2b0ff82e-8025-495d-922c-a1b5c5471540",
   "metadata": {},
   "outputs": [],
   "source": [
    "print_point(p1)"
   ]
  },
  {
   "cell_type": "code",
   "execution_count": null,
   "id": "24ea621d-98bd-4897-af77-aeed9d4ce040",
   "metadata": {},
   "outputs": [],
   "source": [
    "print_point(p2)"
   ]
  },
  {
   "cell_type": "code",
   "execution_count": null,
   "id": "eae3ca9d-215c-42a3-bf0f-920b5cc04e16",
   "metadata": {},
   "outputs": [],
   "source": [
    "p1 is p2"
   ]
  },
  {
   "cell_type": "code",
   "execution_count": null,
   "id": "f39ad72b-284f-4ecf-a7f8-c416efa21956",
   "metadata": {},
   "outputs": [],
   "source": [
    "p1 == p2"
   ]
  },
  {
   "cell_type": "code",
   "execution_count": null,
   "id": "39c8b389-25bf-4b2b-888d-51433b59f1f0",
   "metadata": {},
   "outputs": [],
   "source": [
    "box2 = copy.copy(box)\n",
    "box2 is box"
   ]
  },
  {
   "cell_type": "code",
   "execution_count": null,
   "id": "b183c919-e0b1-40c2-ae4c-622badaad5ab",
   "metadata": {},
   "outputs": [],
   "source": [
    "box2.corner is box.corner"
   ]
  },
  {
   "cell_type": "code",
   "execution_count": null,
   "id": "438b30a1-141a-4759-a0b5-33d7b9a21111",
   "metadata": {},
   "outputs": [],
   "source": [
    "#copy.copy is a shallow copy, because it doesn't copy the embedded objects\n",
    "\n",
    "box3 = copy.deepcopy(box)\n",
    "box3 is box"
   ]
  },
  {
   "cell_type": "code",
   "execution_count": null,
   "id": "471dcdd5-5853-4b87-87a7-1da27d2bfd45",
   "metadata": {},
   "outputs": [],
   "source": [
    "box3.corner is box.corner"
   ]
  },
  {
   "cell_type": "markdown",
   "id": "11ba8c77-c9d3-458a-8144-5f0435f4cbad",
   "metadata": {},
   "source": [
    "## 15.7 Debugging"
   ]
  },
  {
   "cell_type": "code",
   "execution_count": null,
   "id": "1c0b94c8-abcc-4e8b-b856-75dd456e76d0",
   "metadata": {},
   "outputs": [],
   "source": [
    "# a bit of checking\n",
    "p = Point()\n",
    "p.x = 3\n",
    "p.y = 4\n",
    "p.z"
   ]
  },
  {
   "cell_type": "code",
   "execution_count": null,
   "id": "fa0266e0-54c5-4c7f-8dbe-22ae9fe5bf2c",
   "metadata": {},
   "outputs": [],
   "source": [
    "type(p)"
   ]
  },
  {
   "cell_type": "code",
   "execution_count": null,
   "id": "2fd86fe5-f228-4bc1-81a2-d6a869c8b0eb",
   "metadata": {},
   "outputs": [],
   "source": [
    "isinstance(p, Point)"
   ]
  },
  {
   "cell_type": "code",
   "execution_count": null,
   "id": "6b0b5284-476d-4e99-a959-7f4c28774efc",
   "metadata": {},
   "outputs": [],
   "source": [
    "hasattr(p, 'z')"
   ]
  },
  {
   "cell_type": "code",
   "execution_count": null,
   "id": "90bb7f90-6fb4-488d-a739-159c5c41b0b0",
   "metadata": {},
   "outputs": [],
   "source": [
    "hasattr(p, 'x')"
   ]
  },
  {
   "cell_type": "markdown",
   "id": "dabc32f0-723f-4395-afb3-2e1164d50e3b",
   "metadata": {},
   "source": [
    "## 15.8 Glossary"
   ]
  },
  {
   "cell_type": "markdown",
   "id": "8bf8d4c1-f49e-432f-a5f8-ae6ab71b271b",
   "metadata": {},
   "source": [
    "## 15.9 Exercises"
   ]
  },
  {
   "cell_type": "code",
   "execution_count": null,
   "id": "21b64e29-95e9-47e6-b794-0435447d6edf",
   "metadata": {},
   "outputs": [],
   "source": []
  }
 ],
 "metadata": {
  "kernelspec": {
   "display_name": "Python 3 (ipykernel)",
   "language": "python",
   "name": "python3"
  },
  "language_info": {
   "codemirror_mode": {
    "name": "ipython",
    "version": 3
   },
   "file_extension": ".py",
   "mimetype": "text/x-python",
   "name": "python",
   "nbconvert_exporter": "python",
   "pygments_lexer": "ipython3",
   "version": "3.10.9"
  }
 },
 "nbformat": 4,
 "nbformat_minor": 5
}
