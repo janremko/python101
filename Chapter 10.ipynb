{
 "cells": [
  {
   "cell_type": "markdown",
   "id": "acf97354-6d90-44a7-94f0-3fd7a619ce6a",
   "metadata": {},
   "source": [
    "# Chapter 10 Lists"
   ]
  },
  {
   "cell_type": "markdown",
   "id": "3d21d04d-297c-4f1f-88c1-de838fc250d4",
   "metadata": {},
   "source": [
    "## 10.1 A list is a sequence"
   ]
  },
  {
   "cell_type": "code",
   "execution_count": null,
   "id": "8ca6d361-953d-4415-9ca2-c127b141ba49",
   "metadata": {},
   "outputs": [],
   "source": [
    "# a list is a sequence containing elements or items\n",
    "[10, 20, 30, 40]"
   ]
  },
  {
   "cell_type": "code",
   "execution_count": null,
   "id": "be979398-727b-43f1-9aa4-f04bd2dc8402",
   "metadata": {},
   "outputs": [],
   "source": [
    "['crunchy frog', 'ram bladder', 'lark vomit']"
   ]
  },
  {
   "cell_type": "code",
   "execution_count": null,
   "id": "87c34576-2ffd-4518-8538-e6a7ddcd6f09",
   "metadata": {},
   "outputs": [],
   "source": [
    "['spam', 2.0, 42, [10, 20]] # and even a nested list"
   ]
  },
  {
   "cell_type": "code",
   "execution_count": null,
   "id": "5b64b83d-1151-405b-923c-c6d19dbbbbcc",
   "metadata": {},
   "outputs": [],
   "source": [
    "# and the empty list:\n",
    "[]"
   ]
  },
  {
   "cell_type": "code",
   "execution_count": null,
   "id": "23dc28af-1ffc-44e0-a817-ae466dc2ec1b",
   "metadata": {},
   "outputs": [],
   "source": [
    "cheeses = ['Cheddar','Edam','Gouda']\n",
    "numbers = [42, 123]\n",
    "empty = []\n",
    "print( cheeses, numbers, empty)"
   ]
  },
  {
   "cell_type": "markdown",
   "id": "af8c03ff-98b4-4e35-9a5f-0aced03f3e61",
   "metadata": {},
   "source": [
    "## 10.2 Lists are mutable"
   ]
  },
  {
   "cell_type": "code",
   "execution_count": null,
   "id": "0054febf-eea7-4f21-ba63-caf8bac30143",
   "metadata": {},
   "outputs": [],
   "source": [
    "cheeses[0] # we can use indices just like strings"
   ]
  },
  {
   "cell_type": "code",
   "execution_count": null,
   "id": "3bc7b591-5955-41c3-855b-e9810e81aac0",
   "metadata": {},
   "outputs": [],
   "source": [
    "numbers"
   ]
  },
  {
   "cell_type": "code",
   "execution_count": null,
   "id": "f79944d2-0927-4d90-bc99-82e94c6b8a12",
   "metadata": {},
   "outputs": [],
   "source": [
    "numbers[1] = 6\n",
    "numbers"
   ]
  },
  {
   "cell_type": "code",
   "execution_count": null,
   "id": "6688b0f6-64be-4f10-bdaa-64b4efa1d00a",
   "metadata": {},
   "outputs": [],
   "source": [
    "# and the in operator also works on lists\n",
    "'Edam' in cheeses"
   ]
  },
  {
   "cell_type": "code",
   "execution_count": null,
   "id": "7e20906b-73e9-4691-bd06-e504fcc63422",
   "metadata": {},
   "outputs": [],
   "source": [
    "'Brie' in cheeses"
   ]
  },
  {
   "cell_type": "markdown",
   "id": "bcac42b0-5b2e-4c47-a1bd-6ef0fdc43a2d",
   "metadata": {},
   "source": [
    "## 10.3 Traversing a list"
   ]
  },
  {
   "cell_type": "code",
   "execution_count": null,
   "id": "ec30bc4d-694f-436e-816d-7a47b1de8d77",
   "metadata": {},
   "outputs": [],
   "source": [
    "for cheese in cheeses: # works wel if you just need the elements\n",
    "    print(cheese)"
   ]
  },
  {
   "cell_type": "code",
   "execution_count": null,
   "id": "814841bc-c3cc-4cfa-90be-918d5d00118f",
   "metadata": {},
   "outputs": [],
   "source": [
    "# if you need to add or update elements you need indices\n",
    "print(numbers)\n",
    "for i in range(len(numbers)):\n",
    "    numbers[i] = numbers[i] * 2\n",
    "print(numbers)"
   ]
  },
  {
   "cell_type": "code",
   "execution_count": null,
   "id": "0c8b78cb-22e7-4c74-b865-7729b682f2fc",
   "metadata": {},
   "outputs": [],
   "source": [
    "for x in []:\n",
    "    print('This never ever happens!')"
   ]
  },
  {
   "cell_type": "markdown",
   "id": "627f31f0-0623-4a85-aecd-bc0758c1ef8e",
   "metadata": {},
   "source": [
    "## 10.4 List operations"
   ]
  },
  {
   "cell_type": "code",
   "execution_count": null,
   "id": "5c7c4b5b-943a-4c85-85de-d22747974c1b",
   "metadata": {},
   "outputs": [],
   "source": [
    "a = [1, 2, 3]\n",
    "b = [4, 5, 6]\n",
    "c = a + b\n",
    "c"
   ]
  },
  {
   "cell_type": "code",
   "execution_count": null,
   "id": "1a5687b0-bd1f-48d3-958f-b6b68713c830",
   "metadata": {},
   "outputs": [],
   "source": [
    "[0] * 4"
   ]
  },
  {
   "cell_type": "code",
   "execution_count": null,
   "id": "bbbefde0-4758-42b1-a392-99295e7946af",
   "metadata": {},
   "outputs": [],
   "source": [
    "a * 4"
   ]
  },
  {
   "cell_type": "markdown",
   "id": "73f1f5c4-d243-4bc6-9ef1-a01128aa7742",
   "metadata": {},
   "source": [
    "## 10.5 List slices"
   ]
  },
  {
   "cell_type": "code",
   "execution_count": null,
   "id": "d316b342-c149-4397-af9f-44a6f8221160",
   "metadata": {},
   "outputs": [],
   "source": [
    "# slicing also works on lists\n",
    "t = ['a', 'b', 'c', 'd', 'e', 'f']\n",
    "t[1:3]"
   ]
  },
  {
   "cell_type": "code",
   "execution_count": null,
   "id": "f070cdfa-193b-4762-850f-11f9ca91e971",
   "metadata": {},
   "outputs": [],
   "source": [
    "t[:4]"
   ]
  },
  {
   "cell_type": "code",
   "execution_count": null,
   "id": "5e7ecdd6-33e4-4918-9c16-54ca7e63a187",
   "metadata": {},
   "outputs": [],
   "source": [
    "# lists are mutable\n",
    "t[1:3] = ['x', 'y']\n",
    "t"
   ]
  },
  {
   "cell_type": "markdown",
   "id": "53be717c-3b54-48b1-971f-ea3f564949d8",
   "metadata": {},
   "source": [
    "## 10.6 List methods"
   ]
  },
  {
   "cell_type": "code",
   "execution_count": null,
   "id": "e2e5ce82-6783-4b72-9004-096cf5c175fd",
   "metadata": {},
   "outputs": [],
   "source": [
    "t = ['a', 'b', 'c']\n",
    "t.append('d')\n",
    "t"
   ]
  },
  {
   "cell_type": "code",
   "execution_count": null,
   "id": "a2b028e5-718a-4483-946c-dfebe8ca2fdc",
   "metadata": {},
   "outputs": [],
   "source": [
    "t1 = ['a', 'b', 'c']\n",
    "t2 = ['d', 'e']\n",
    "t1.extend(t2)\n",
    "t1"
   ]
  },
  {
   "cell_type": "code",
   "execution_count": null,
   "id": "eafde909-fedc-4a72-89ab-a587bc619925",
   "metadata": {},
   "outputs": [],
   "source": [
    "t2"
   ]
  },
  {
   "cell_type": "code",
   "execution_count": null,
   "id": "a809678c-808c-473d-b8f9-0ef7850cc9b6",
   "metadata": {},
   "outputs": [],
   "source": [
    "t = ['d', 'c', 'e', 'b', 'a']\n",
    "t.sort()\n",
    "t"
   ]
  },
  {
   "cell_type": "code",
   "execution_count": null,
   "id": "137a8a50-6763-41c0-bba4-e9b376690bd2",
   "metadata": {},
   "outputs": [],
   "source": [
    "t = t.sort()\n",
    "print(t)"
   ]
  },
  {
   "cell_type": "markdown",
   "id": "a6abc244-beee-4037-b427-8c4930bddfbc",
   "metadata": {},
   "source": [
    "## 10.7 Map, filter and reduce"
   ]
  },
  {
   "cell_type": "code",
   "execution_count": null,
   "id": "cf382a29-17e8-488b-b9e9-c62f4fd0f1f2",
   "metadata": {},
   "outputs": [],
   "source": [
    "def add_all(t): # this is a reduce operation, reducing a list to one single value\n",
    "    total = 0\n",
    "    for x in t:\n",
    "        total += x # total acts as an accumulator\n",
    "    return total\n",
    "\n",
    "t = [1, 2, 3]\n",
    "add_all(t)\n",
    "        "
   ]
  },
  {
   "cell_type": "code",
   "execution_count": null,
   "id": "779c80e9-e03c-4a94-bc33-a3b5f811d86d",
   "metadata": {},
   "outputs": [],
   "source": [
    "def capitalize_all(t): # this is a mapping operation\n",
    "    res = []\n",
    "    for s in t:\n",
    "        res.append(s.capitalize())\n",
    "    return res\n",
    "\n",
    "t = ['j', 'r']\n",
    "capitalize_all(t)"
   ]
  },
  {
   "cell_type": "code",
   "execution_count": null,
   "id": "82d2ab5f-a3f2-469c-b77d-69fc718650a5",
   "metadata": {},
   "outputs": [],
   "source": [
    "def only_upper(t): # this is a filtering operation\n",
    "    res = []\n",
    "    for s in t:\n",
    "        if s.isupper():\n",
    "            res.append(s)\n",
    "    return res\n",
    "\n",
    "t = ['J', 'a', 'n', 'R', 'e', 'm', 'k', 'o']\n",
    "only_upper(t)"
   ]
  },
  {
   "cell_type": "markdown",
   "id": "388cac28-d6fd-4c17-bb79-ff0b5582070a",
   "metadata": {},
   "source": [
    "## 10.8 Deleting elements"
   ]
  },
  {
   "cell_type": "code",
   "execution_count": null,
   "id": "c0bba28c-16ef-4a0c-a610-5b3191c01c7e",
   "metadata": {},
   "outputs": [],
   "source": [
    "t = ['a', 'b', 'c']\n",
    "x = t.pop(1)\n",
    "t"
   ]
  },
  {
   "cell_type": "code",
   "execution_count": null,
   "id": "53aec081-1532-42c7-a099-90c05350ed26",
   "metadata": {},
   "outputs": [],
   "source": [
    "x"
   ]
  },
  {
   "cell_type": "code",
   "execution_count": null,
   "id": "a0be2c14-e634-4b9b-8c3f-1a70fdfc5593",
   "metadata": {},
   "outputs": [],
   "source": [
    "t = ['a', 'b', 'c']\n",
    "del t[1]\n",
    "t"
   ]
  },
  {
   "cell_type": "code",
   "execution_count": null,
   "id": "a6d74b9d-882b-435a-997b-3a51df729abf",
   "metadata": {},
   "outputs": [],
   "source": [
    "del t"
   ]
  },
  {
   "cell_type": "code",
   "execution_count": null,
   "id": "efd6c839-9f9a-43ac-9464-54d8f7a301fb",
   "metadata": {},
   "outputs": [],
   "source": [
    "t"
   ]
  },
  {
   "cell_type": "markdown",
   "id": "c6f86493-16ef-4a97-943d-3f23da4c67cf",
   "metadata": {},
   "source": [
    "## 10.9 Lists and strings"
   ]
  },
  {
   "cell_type": "code",
   "execution_count": null,
   "id": "42d412c4-bba3-4ecb-98ab-6329483f1c4b",
   "metadata": {},
   "outputs": [],
   "source": [
    "s = 'spam'\n",
    "t = list(s) # breaking the string up in indidual letters\n",
    "t"
   ]
  },
  {
   "cell_type": "code",
   "execution_count": null,
   "id": "97815b0a-6a1d-4373-a05d-d77fa21b2848",
   "metadata": {},
   "outputs": [],
   "source": [
    "s = 'pining for the fjords'\n",
    "t = s.split()\n",
    "t"
   ]
  },
  {
   "cell_type": "code",
   "execution_count": null,
   "id": "7ba2d128-2d68-4eb8-82fe-75412e1a8a3e",
   "metadata": {},
   "outputs": [],
   "source": [
    "s = 'spam-spam-spam'\n",
    "delimiter = '-'\n",
    "t = s.split(delimiter)\n",
    "t"
   ]
  },
  {
   "cell_type": "code",
   "execution_count": null,
   "id": "404dc58c-3bf5-4f2e-9dbd-9aadd02855d9",
   "metadata": {},
   "outputs": [],
   "source": [
    "t = ['pining', 'for', 'the', 'fjords']\n",
    "delimiter = ' '\n",
    "s = delimiter.join(t)\n",
    "s"
   ]
  },
  {
   "cell_type": "markdown",
   "id": "073cef20-9180-4d6e-84ae-d17c92cf0582",
   "metadata": {},
   "source": [
    "## 10.10 Objects and values"
   ]
  },
  {
   "cell_type": "code",
   "execution_count": null,
   "id": "aa68a386-d909-4d66-8209-ec17f7aa7b18",
   "metadata": {},
   "outputs": [],
   "source": [
    "a = 'banana'\n",
    "b = 'banana' # do a and b point to the same banana?"
   ]
  },
  {
   "cell_type": "code",
   "execution_count": null,
   "id": "a0648265-c96a-454a-8c7c-fea36ded8885",
   "metadata": {},
   "outputs": [],
   "source": [
    "a is b"
   ]
  },
  {
   "cell_type": "code",
   "execution_count": null,
   "id": "21e28d43-ff85-43ee-be7c-09b15fcce8bd",
   "metadata": {},
   "outputs": [],
   "source": [
    "a = [1, 2, 3]\n",
    "b = [1, 2, 3] # a and b are equivalent, but not identical\n",
    "a is b"
   ]
  },
  {
   "cell_type": "markdown",
   "id": "134e50b9-264d-4e62-8261-f9d8331576fb",
   "metadata": {},
   "source": [
    "## 10.11 Aliasing"
   ]
  },
  {
   "cell_type": "code",
   "execution_count": null,
   "id": "32c375f7-a17b-4eaa-a140-05557fac4715",
   "metadata": {},
   "outputs": [],
   "source": [
    "a = [1, 2, 3]\n",
    "b = a # b is an alias for a\n",
    "b is a"
   ]
  },
  {
   "cell_type": "code",
   "execution_count": null,
   "id": "fa00ac67-1e61-4c39-b707-959bb386f9bd",
   "metadata": {},
   "outputs": [],
   "source": [
    "b[0] = 42\n",
    "a"
   ]
  },
  {
   "cell_type": "markdown",
   "id": "4dde0014-572b-4ede-8d72-4b124d4e6bf7",
   "metadata": {},
   "source": [
    "Aliassing is error-prone, so use with care!"
   ]
  },
  {
   "cell_type": "markdown",
   "id": "89aa06bf-6917-46d1-8112-a81347416244",
   "metadata": {},
   "source": [
    "## 10.12 List arguments"
   ]
  },
  {
   "cell_type": "code",
   "execution_count": null,
   "id": "1e9325b4-0900-4e96-a83e-7893a279c630",
   "metadata": {},
   "outputs": [],
   "source": [
    "def delete_head(t):\n",
    "    del t[0]\n",
    "    \n",
    "letters = ['a', 'b', 'c']\n",
    "delete_head(letters)\n",
    "letters"
   ]
  },
  {
   "cell_type": "markdown",
   "id": "ade6ce94-7d52-45eb-a60f-2e565439cd61",
   "metadata": {},
   "source": [
    "Parameter t and variable letters are aliases. Important: distinguish between operations that modify lists and operations that create new lists!!!"
   ]
  },
  {
   "cell_type": "code",
   "execution_count": null,
   "id": "bb9878b5-8d20-4875-8a59-05dc70858e3e",
   "metadata": {},
   "outputs": [],
   "source": [
    "t1 = [1, 2]\n",
    "t2 = t1.append(3)\n",
    "t1"
   ]
  },
  {
   "cell_type": "code",
   "execution_count": null,
   "id": "dcf4da57-d775-498e-8e84-616bdae062d2",
   "metadata": {},
   "outputs": [],
   "source": [
    "print(t2)"
   ]
  },
  {
   "cell_type": "code",
   "execution_count": null,
   "id": "a262e115-e8f8-452c-ab37-35c6b8edcc2f",
   "metadata": {},
   "outputs": [],
   "source": [
    "t3 = t1 + [4]\n",
    "t1"
   ]
  },
  {
   "cell_type": "code",
   "execution_count": null,
   "id": "863dbbdd-4827-42d5-b433-c88c2ec09ac2",
   "metadata": {},
   "outputs": [],
   "source": [
    "t3"
   ]
  },
  {
   "cell_type": "code",
   "execution_count": null,
   "id": "cccba338-2040-45f8-be95-bbde102a336c",
   "metadata": {},
   "outputs": [],
   "source": [
    "def bad_delete_head(t):\n",
    "    t = t[1:]\n",
    "    print(t)\n",
    "    \n",
    "letters = ['a', 'b', 'c']\n",
    "bad_delete_head(letters)\n",
    "letters"
   ]
  },
  {
   "cell_type": "markdown",
   "id": "2fef86de-e36f-4145-821d-daecc7c82cae",
   "metadata": {},
   "source": [
    "## 10.13 Debugging"
   ]
  },
  {
   "cell_type": "markdown",
   "id": "99552808-6690-4308-a84d-6024dfe50b5f",
   "metadata": {},
   "source": [
    "## 10.14 Glossary"
   ]
  },
  {
   "cell_type": "markdown",
   "id": "683ee6f0-c999-4962-9d40-172c8b5d8318",
   "metadata": {},
   "source": [
    "## 10.15 Exercises"
   ]
  },
  {
   "cell_type": "code",
   "execution_count": null,
   "id": "a5304615-489f-4507-9a74-6aa18af40cb1",
   "metadata": {},
   "outputs": [],
   "source": []
  }
 ],
 "metadata": {
  "kernelspec": {
   "display_name": "Python 3 (ipykernel)",
   "language": "python",
   "name": "python3"
  },
  "language_info": {
   "codemirror_mode": {
    "name": "ipython",
    "version": 3
   },
   "file_extension": ".py",
   "mimetype": "text/x-python",
   "name": "python",
   "nbconvert_exporter": "python",
   "pygments_lexer": "ipython3",
   "version": "3.10.9"
  }
 },
 "nbformat": 4,
 "nbformat_minor": 5
}
