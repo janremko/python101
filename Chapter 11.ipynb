{
 "cells": [
  {
   "cell_type": "markdown",
   "id": "0b2e8ff3-6a13-4f32-aece-9f97c5eab66b",
   "metadata": {},
   "source": [
    "# Chapter 11 Dictionaries"
   ]
  },
  {
   "cell_type": "markdown",
   "id": "2ef5169e-563b-472b-95dd-1d9d4b79e43f",
   "metadata": {},
   "source": [
    "## 11.1 A dictionary is a mapping\n",
    "\n",
    "A mapping is a key-value pair"
   ]
  },
  {
   "cell_type": "code",
   "execution_count": null,
   "id": "d902c00c-2bdb-416e-b9e5-0ba03752232e",
   "metadata": {},
   "outputs": [],
   "source": [
    "eng2sp = dict()\n",
    "eng2sp"
   ]
  },
  {
   "cell_type": "code",
   "execution_count": null,
   "id": "2c5545ad-5fba-42de-98b6-0b9faaae43f0",
   "metadata": {},
   "outputs": [],
   "source": [
    "eng2sp['one'] = 'uno'\n",
    "eng2sp"
   ]
  },
  {
   "cell_type": "code",
   "execution_count": null,
   "id": "cdf91165-a075-4de4-82e4-29ee046d231e",
   "metadata": {},
   "outputs": [],
   "source": [
    "# order is unpredictable\n",
    "eng2sp = {'one': 'uno', 'two': 'dos', 'three': 'tres'}\n",
    "eng2sp"
   ]
  },
  {
   "cell_type": "code",
   "execution_count": null,
   "id": "6b2c926e-c866-404c-b7b8-958e810de337",
   "metadata": {},
   "outputs": [],
   "source": [
    "eng2sp['four']"
   ]
  },
  {
   "cell_type": "code",
   "execution_count": null,
   "id": "bd0670ef-98fc-41c1-8efc-b77d826463e4",
   "metadata": {},
   "outputs": [],
   "source": [
    "# len just works on dictionaries\n",
    "len(eng2sp)"
   ]
  },
  {
   "cell_type": "code",
   "execution_count": null,
   "id": "acafdf5d-7169-4580-abbf-d368f0d2cee1",
   "metadata": {},
   "outputs": [],
   "source": [
    "# and the in operator also works\n",
    "'one' in eng2sp"
   ]
  },
  {
   "cell_type": "code",
   "execution_count": null,
   "id": "dfdcc79c-646e-4591-b2f6-da8d84d50bb6",
   "metadata": {},
   "outputs": [],
   "source": [
    "# at least on indices\n",
    "'uno' in eng2sp"
   ]
  },
  {
   "cell_type": "code",
   "execution_count": null,
   "id": "061aba31-9382-400e-b159-ded3f7050182",
   "metadata": {},
   "outputs": [],
   "source": [
    "vals = eng2sp.values()\n",
    "type(vals)"
   ]
  },
  {
   "cell_type": "code",
   "execution_count": null,
   "id": "76e38b21-88f6-49f3-9561-91091b669c1f",
   "metadata": {},
   "outputs": [],
   "source": [
    "vals"
   ]
  },
  {
   "cell_type": "code",
   "execution_count": null,
   "id": "3777c178-c3d9-4e02-ac94-bab383110bff",
   "metadata": {},
   "outputs": [],
   "source": [
    "'uno' in vals"
   ]
  },
  {
   "cell_type": "markdown",
   "id": "aac77505-2c3e-4046-a120-219f5005ffaa",
   "metadata": {},
   "source": [
    "## 11.2 Dictionary as a collection of counters"
   ]
  },
  {
   "cell_type": "markdown",
   "id": "61741469-ae29-474f-af04-cf2e54d2431f",
   "metadata": {},
   "source": [
    "Casus: for a given string you want to count how many times each letter appears.\n",
    "\n",
    "1. Create 26 variables.\n",
    "2. Create a list with 26 elements\n",
    "3. Use a dictionary"
   ]
  },
  {
   "cell_type": "code",
   "execution_count": null,
   "id": "e34ef991-ba5b-4994-91fd-0af3f1bf402c",
   "metadata": {},
   "outputs": [],
   "source": [
    "def histogram(s):\n",
    "    d = dict()\n",
    "    for c in s:\n",
    "        if c not in d:\n",
    "            d[c] = 1\n",
    "        else:\n",
    "            d[c] += 1\n",
    "    return d"
   ]
  },
  {
   "cell_type": "code",
   "execution_count": null,
   "id": "90200278-821b-4f40-b458-88dc90b08004",
   "metadata": {},
   "outputs": [],
   "source": [
    "h = histogram('brontosaurus')\n",
    "h"
   ]
  },
  {
   "cell_type": "code",
   "execution_count": null,
   "id": "64d7b0d1-e4f6-442d-90e7-c2d7b551f87a",
   "metadata": {},
   "outputs": [],
   "source": [
    "# sorting of a dictionary on key values can be done with the sorted() function\n",
    "sorted(h)"
   ]
  },
  {
   "cell_type": "code",
   "execution_count": null,
   "id": "1a7f753d-d653-4875-8ae0-7bad0b661f9f",
   "metadata": {},
   "outputs": [],
   "source": [
    "h = histogram('a')\n",
    "h"
   ]
  },
  {
   "cell_type": "code",
   "execution_count": null,
   "id": "d5d55774-e786-43e8-974d-67f25d17c1e8",
   "metadata": {},
   "outputs": [],
   "source": [
    "# the get method of a dictionary retrieve the value for a key and if the key does \n",
    "# not exist returns a default value\n",
    "h.get('a', 0)"
   ]
  },
  {
   "cell_type": "code",
   "execution_count": null,
   "id": "bde93589-da9d-4c5d-b246-38ee04c40e51",
   "metadata": {},
   "outputs": [],
   "source": [
    "h.get('c', 0)"
   ]
  },
  {
   "cell_type": "markdown",
   "id": "32ce9dad-b730-463e-8b31-275995aa97f8",
   "metadata": {},
   "source": [
    "## 11.3 Looping and dictionaries"
   ]
  },
  {
   "cell_type": "code",
   "execution_count": null,
   "id": "d4f1c67d-2e2f-41c6-a9e8-ba528bed6a9c",
   "metadata": {},
   "outputs": [],
   "source": [
    "# using for, to traverse a dictionary\n",
    "def print_hist(h):\n",
    "    for c in h: \n",
    "        print(c, h[c])"
   ]
  },
  {
   "cell_type": "code",
   "execution_count": null,
   "id": "078b3a1f-0f29-4b64-85f6-e381e7b0a4c5",
   "metadata": {},
   "outputs": [],
   "source": [
    "h = histogram('parrot')\n",
    "print_hist(h)"
   ]
  },
  {
   "cell_type": "code",
   "execution_count": null,
   "id": "c6acc80f-203f-4c36-b507-64fe062bb4ac",
   "metadata": {},
   "outputs": [],
   "source": [
    "def print_sortedhist(f):\n",
    "    for c in sorted(h):\n",
    "        print(c, h[c])"
   ]
  },
  {
   "cell_type": "code",
   "execution_count": null,
   "id": "283aa21b-203a-4d40-a2e6-9eaa3459bdc9",
   "metadata": {},
   "outputs": [],
   "source": [
    "h = histogram('parrot')\n",
    "print_sortedhist(h)"
   ]
  },
  {
   "cell_type": "markdown",
   "id": "830419a5-a772-4854-8cd7-c7f451568f29",
   "metadata": {},
   "source": [
    "## 11.4 Reverse lookup"
   ]
  },
  {
   "cell_type": "code",
   "execution_count": null,
   "id": "4f2222e2-2b26-4e5f-b672-d0a5101d498d",
   "metadata": {},
   "outputs": [],
   "source": [
    "# A lookup is finding a value in a dictionary based on a key:\n",
    "h['r']"
   ]
  },
  {
   "cell_type": "code",
   "execution_count": null,
   "id": "0cfe0e95-9b89-4093-bc42-a65ef8f2a7fb",
   "metadata": {},
   "outputs": [],
   "source": [
    "# A reverse lookup takes a value and returns the first key which has that value\n",
    "\n",
    "def reverse_lookup(d, v):\n",
    "    for k in d:\n",
    "        if d[k] == v:\n",
    "            return k\n",
    "    raise LookupError ### when the value isn't found we raise a build-in lookup exception"
   ]
  },
  {
   "cell_type": "code",
   "execution_count": null,
   "id": "5d914f13-02d1-4890-8bb0-239584552264",
   "metadata": {},
   "outputs": [],
   "source": [
    "h = histogram('parrot')\n",
    "key = reverse_lookup(h, 2)\n",
    "key"
   ]
  },
  {
   "cell_type": "code",
   "execution_count": null,
   "id": "fd74bfd9-6a30-4bdd-8777-975388c44a37",
   "metadata": {},
   "outputs": [],
   "source": [
    "key = reverse_lookup(h, 3)"
   ]
  },
  {
   "cell_type": "markdown",
   "id": "341f82f9-33ab-47c6-b62b-e012da4680d7",
   "metadata": {},
   "source": [
    "Documentation on build-in exceptions can be found here: https://docs.python.org/3/library/exceptions.html"
   ]
  },
  {
   "cell_type": "code",
   "execution_count": null,
   "id": "8b7255dc-fd2a-494f-8232-bc36b54f4185",
   "metadata": {},
   "outputs": [],
   "source": [
    "# We can make the exception a bit more valuable by adding additional info:\n",
    "def reverse_lookup(d, v):\n",
    "    for k in d:\n",
    "        if d[k] == v:\n",
    "            return k\n",
    "    raise LookupError('value does not appear in the dictionary')\n",
    "\n",
    "key = reverse_lookup(h, 3)\n",
    "key"
   ]
  },
  {
   "cell_type": "markdown",
   "id": "586b9a51-7e22-4481-89eb-78b9fd3a6b50",
   "metadata": {},
   "source": [
    "## 11.5 Dictionaries and lists\n",
    "\n",
    "Lists can be values in a dictionary."
   ]
  },
  {
   "cell_type": "code",
   "execution_count": null,
   "id": "ad08e116-b113-4cec-9efb-02f342cb3bc6",
   "metadata": {},
   "outputs": [],
   "source": [
    "# lets map the number of occurances of letters to the list of letters \n",
    "# with that number of occurances\n",
    "\n",
    "def invert_dict(d):\n",
    "    inverse = dict()\n",
    "    for key in d:\n",
    "        val = d[key]\n",
    "        if val not in inverse:\n",
    "            inverse[val] = [key]\n",
    "        else:\n",
    "            inverse[val].append(key)\n",
    "    return inverse"
   ]
  },
  {
   "cell_type": "code",
   "execution_count": null,
   "id": "04c1de64-38bf-4d46-9613-1d606da66467",
   "metadata": {},
   "outputs": [],
   "source": [
    "hist = histogram('parrot')\n",
    "hist"
   ]
  },
  {
   "cell_type": "code",
   "execution_count": null,
   "id": "1c44afb9-09f9-4abc-af8e-491fb74ca3d5",
   "metadata": {},
   "outputs": [],
   "source": [
    "inverse = invert_dict(hist)\n",
    "inverse"
   ]
  },
  {
   "cell_type": "code",
   "execution_count": null,
   "id": "65d2d17b-2bad-4f0f-812c-8971727f1f88",
   "metadata": {},
   "outputs": [],
   "source": [
    "# list can be values in dicts, but they can't be keys:\n",
    "\n",
    "t = [1, 2, 3]\n",
    "d = dict()\n",
    "d[t] = 'oops'"
   ]
  },
  {
   "cell_type": "markdown",
   "id": "7720ddc9-9bfd-4b54-9cc5-1918a3fa3b24",
   "metadata": {},
   "source": [
    "Dictionary keys need to be hashable, and to be hashable the value needs to be immutable"
   ]
  },
  {
   "cell_type": "markdown",
   "id": "50268ab2-2301-417b-933a-0542ec27d072",
   "metadata": {},
   "source": [
    "## 11.6 Memos"
   ]
  },
  {
   "cell_type": "code",
   "execution_count": null,
   "id": "9ad71cca-959b-431e-9cfc-353416de6cd8",
   "metadata": {},
   "outputs": [],
   "source": [
    "def fibonacci(n):\n",
    "    if n == 0:\n",
    "        return 0\n",
    "    elif n == 1:\n",
    "        return 1\n",
    "    else:\n",
    "        return fibonacci(n-1) + fibonacci(n-2)"
   ]
  },
  {
   "cell_type": "code",
   "execution_count": null,
   "id": "9a7b0486-cc21-4d3a-aec4-6cc63149c047",
   "metadata": {},
   "outputs": [],
   "source": [
    "fibonacci(30)"
   ]
  },
  {
   "cell_type": "code",
   "execution_count": null,
   "id": "22cf4e39-fd23-466a-b16e-72167cc3d029",
   "metadata": {},
   "outputs": [],
   "source": [
    "known = {0:0, 1:1}\n",
    "def fibonacci(n):\n",
    "    if n in known:\n",
    "        return known[n]\n",
    "    \n",
    "    res = fibonacci(n-1) + fibonacci(n-2)\n",
    "    known[n] = res\n",
    "    return res"
   ]
  },
  {
   "cell_type": "code",
   "execution_count": null,
   "id": "7ee71eb6-0896-4bc6-a510-cbddb6732f0b",
   "metadata": {},
   "outputs": [],
   "source": [
    "fibonacci(30)"
   ]
  },
  {
   "cell_type": "code",
   "execution_count": null,
   "id": "ace983e5-6499-4224-a8a5-f6501d6e0aae",
   "metadata": {},
   "outputs": [],
   "source": [
    "known"
   ]
  },
  {
   "cell_type": "markdown",
   "id": "a456d88d-fadf-469c-a129-8be95132f27c",
   "metadata": {},
   "source": [
    "## 11.7 Global variables\n",
    "\n",
    "known in the previous code is an example of a global variable."
   ]
  },
  {
   "cell_type": "code",
   "execution_count": null,
   "id": "8f2fd31d-cc17-46a8-b768-4081d4c4e73a",
   "metadata": {},
   "outputs": [],
   "source": [
    "# global variables kan be used for flags for instance\n",
    "been_called = False\n",
    "\n",
    "def example01():\n",
    "    been_called = True\n",
    "\n",
    "example01()\n",
    "    \n",
    "been_called"
   ]
  },
  {
   "cell_type": "code",
   "execution_count": null,
   "id": "0e97de70-54e3-4d0b-a2ed-cc09a9343f10",
   "metadata": {},
   "outputs": [],
   "source": [
    "# this does work\n",
    "\n",
    "been_called = False\n",
    "\n",
    "def example02():\n",
    "    global been_called\n",
    "    been_called = True\n",
    "\n",
    "example02()\n",
    "\n",
    "been_called"
   ]
  },
  {
   "cell_type": "code",
   "execution_count": null,
   "id": "9ea1aca1-e148-4eda-8431-6d2daae113d3",
   "metadata": {},
   "outputs": [],
   "source": [
    "# and for another example:\n",
    "\n",
    "count = 0\n",
    "\n",
    "def example03():\n",
    "    count = count + 1\n",
    "    \n",
    "example03()\n",
    "\n",
    "count"
   ]
  },
  {
   "cell_type": "code",
   "execution_count": null,
   "id": "d9c097b8-c944-43a3-aa8d-154ce919b7e1",
   "metadata": {},
   "outputs": [],
   "source": [
    "# however:\n",
    "\n",
    "known = {0:0, 1:1}\n",
    "\n",
    "def example04():\n",
    "    known[2] = 1\n",
    "    \n",
    "example04()\n",
    "\n",
    "known"
   ]
  },
  {
   "cell_type": "code",
   "execution_count": null,
   "id": "47b3ffbd-5e12-435b-a95d-95de856d0658",
   "metadata": {},
   "outputs": [],
   "source": [
    "# only if you want to reassign a global mutable variable, you need to declare it:\n",
    "\n",
    "def example05():\n",
    "    global known\n",
    "    known = dict()"
   ]
  },
  {
   "cell_type": "markdown",
   "id": "b77f903f-e978-406e-a88c-2a2124651c27",
   "metadata": {},
   "source": [
    "## 11.8 Debugging\n",
    "\n",
    "- Scale down input data set\n",
    "- Summarize data\n",
    "- Write self-checks"
   ]
  },
  {
   "cell_type": "markdown",
   "id": "fc3378fe-e975-4773-a8f5-e9ee57c0e4bd",
   "metadata": {},
   "source": [
    "## 11.9 Glossary"
   ]
  },
  {
   "cell_type": "markdown",
   "id": "b0d2c5b3-03f4-4903-b70c-6e4f5058d6b8",
   "metadata": {},
   "source": [
    "## 11.10 Exercises"
   ]
  },
  {
   "cell_type": "code",
   "execution_count": null,
   "id": "8b5466f4-4375-492e-90b1-4f13655d2922",
   "metadata": {},
   "outputs": [],
   "source": []
  }
 ],
 "metadata": {
  "kernelspec": {
   "display_name": "Python 3 (ipykernel)",
   "language": "python",
   "name": "python3"
  },
  "language_info": {
   "codemirror_mode": {
    "name": "ipython",
    "version": 3
   },
   "file_extension": ".py",
   "mimetype": "text/x-python",
   "name": "python",
   "nbconvert_exporter": "python",
   "pygments_lexer": "ipython3",
   "version": "3.10.9"
  }
 },
 "nbformat": 4,
 "nbformat_minor": 5
}
