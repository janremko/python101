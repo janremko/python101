{
 "cells": [
  {
   "cell_type": "markdown",
   "id": "b1038cd6-ad49-49d7-a6f7-429487a68cf6",
   "metadata": {},
   "source": [
    "# Chapter 1 The way of the program\n",
    "\n",
    "Programming actually is **problem solving**: the ability to formulate problems, creatively think about solutions and express a solution clearly and accurately."
   ]
  },
  {
   "cell_type": "markdown",
   "id": "f6667fca-3cf0-4aee-a88a-d55cf6537ce7",
   "metadata": {},
   "source": [
    "## 1.1 What is a program\n",
    "\n",
    "A program is a sequence of instructions how to perform a computation.\n",
    "- input\n",
    "- output\n",
    "- math\n",
    "- conditional execution\n",
    "- repetition"
   ]
  },
  {
   "cell_type": "markdown",
   "id": "38dabb34-aef0-4a8e-9a96-56b3d660731d",
   "metadata": {},
   "source": [
    "## 1.2 Running Python\n",
    "\n",
    "- interactive prompt\n",
    "- from script\n",
    "- in Visual Studio Code\n",
    "- Jupyter Notebook\n",
    "- Azure Function\n",
    "- (Azure) web sites\n",
    "- Apache Spark\n",
    "- Online\n",
    "- Etc."
   ]
  },
  {
   "cell_type": "markdown",
   "id": "b33e7b53-bd26-4238-914a-26fc5f13259d",
   "metadata": {},
   "source": [
    "## 1.3 The first program"
   ]
  },
  {
   "cell_type": "code",
   "execution_count": null,
   "id": "6f68b531-3209-4fce-b8f6-a75b3c165d9e",
   "metadata": {},
   "outputs": [],
   "source": [
    "print(\"hello world!\")"
   ]
  },
  {
   "cell_type": "markdown",
   "id": "8683c636-0a30-4c43-ade4-d74250e41cb4",
   "metadata": {},
   "source": [
    "## 1.4 Arithmetic operators"
   ]
  },
  {
   "cell_type": "code",
   "execution_count": null,
   "id": "62de81ba-615f-494d-9ce9-2248785f8a25",
   "metadata": {},
   "outputs": [],
   "source": [
    "40 + 2"
   ]
  },
  {
   "cell_type": "code",
   "execution_count": null,
   "id": "397a7999-5ce7-404e-9c92-ab6c9be8a7d8",
   "metadata": {},
   "outputs": [],
   "source": [
    "43 - 1"
   ]
  },
  {
   "cell_type": "code",
   "execution_count": null,
   "id": "2594b899-b6e1-44f0-bec3-63923342252d",
   "metadata": {},
   "outputs": [],
   "source": [
    "6 * 7"
   ]
  },
  {
   "cell_type": "code",
   "execution_count": null,
   "id": "8c92a404-b231-4575-bd2f-f3fdd4870054",
   "metadata": {},
   "outputs": [],
   "source": [
    "84 / 2"
   ]
  },
  {
   "cell_type": "code",
   "execution_count": null,
   "id": "3a6fec83-c23b-41c0-a454-106e612eb4bb",
   "metadata": {},
   "outputs": [],
   "source": [
    "84 // 2"
   ]
  },
  {
   "cell_type": "code",
   "execution_count": null,
   "id": "de306a8d-b1a7-4ca3-bb8a-5c1386652119",
   "metadata": {},
   "outputs": [],
   "source": [
    "6**2 + 6"
   ]
  },
  {
   "cell_type": "markdown",
   "id": "0d695011-e6f2-402b-9b85-1e6c33937492",
   "metadata": {},
   "source": [
    "## 1.5 Values and types"
   ]
  },
  {
   "cell_type": "code",
   "execution_count": null,
   "id": "0b954c21-eb07-4353-b2e0-a53d5c1d8789",
   "metadata": {},
   "outputs": [],
   "source": [
    "print(type(2))"
   ]
  },
  {
   "cell_type": "code",
   "execution_count": null,
   "id": "7970aefb-98a5-49c5-adfb-6783c4559da3",
   "metadata": {},
   "outputs": [],
   "source": [
    "type(42.0)"
   ]
  },
  {
   "cell_type": "code",
   "execution_count": null,
   "id": "e41c2298-3d07-44d9-a57d-e38c390cbcd3",
   "metadata": {},
   "outputs": [],
   "source": [
    "type(\"Hello, World!\")"
   ]
  },
  {
   "cell_type": "code",
   "execution_count": null,
   "id": "28ae9f19-7fe3-4585-9e1c-45517c99dcc5",
   "metadata": {},
   "outputs": [],
   "source": [
    "type('2')"
   ]
  },
  {
   "cell_type": "code",
   "execution_count": null,
   "id": "54668d8d-9f3f-409f-872d-01deea06bc5a",
   "metadata": {},
   "outputs": [],
   "source": [
    "type('42.0')"
   ]
  },
  {
   "cell_type": "code",
   "execution_count": null,
   "id": "a0acc50e-bab9-4c3f-86e3-c8022bb97d4e",
   "metadata": {},
   "outputs": [],
   "source": [
    "1,000,000"
   ]
  },
  {
   "cell_type": "markdown",
   "id": "59406f2d-89a9-4d03-994f-c0568de6f111",
   "metadata": {},
   "source": [
    "## 1.6 Formal and natural languages"
   ]
  },
  {
   "cell_type": "markdown",
   "id": "cc700f08-d56c-4cc0-ba15-61a17a1edbe3",
   "metadata": {},
   "source": [
    "## 1.7 Debugging"
   ]
  },
  {
   "cell_type": "markdown",
   "id": "55f02a72-8dbe-4a49-b203-6437b88921d6",
   "metadata": {},
   "source": [
    "## 1.8 Glossary"
   ]
  },
  {
   "cell_type": "markdown",
   "id": "953c7e75-b518-474e-8f38-65b5e25b8d59",
   "metadata": {},
   "source": [
    "## 1.9 Exercises"
   ]
  },
  {
   "cell_type": "code",
   "execution_count": null,
   "id": "056c1235-f317-4dcc-8243-c20624bb0ce9",
   "metadata": {},
   "outputs": [],
   "source": []
  }
 ],
 "metadata": {
  "kernelspec": {
   "display_name": "Python 3 (ipykernel)",
   "language": "python",
   "name": "python3"
  },
  "language_info": {
   "codemirror_mode": {
    "name": "ipython",
    "version": 3
   },
   "file_extension": ".py",
   "mimetype": "text/x-python",
   "name": "python",
   "nbconvert_exporter": "python",
   "pygments_lexer": "ipython3",
   "version": "3.10.9"
  }
 },
 "nbformat": 4,
 "nbformat_minor": 5
}
