{
 "cells": [
  {
   "cell_type": "markdown",
   "id": "230daaa9-4d44-4e29-aea2-d2826f5ec983",
   "metadata": {},
   "source": [
    "# Chapter 5 Conditionals and recursion"
   ]
  },
  {
   "cell_type": "markdown",
   "id": "e96486fc-9f46-4cd3-99b4-26aa6147a647",
   "metadata": {},
   "source": [
    "## 5.1 Floor division and modulus"
   ]
  },
  {
   "cell_type": "code",
   "execution_count": null,
   "id": "b56ff28b-4227-4156-a060-17204e4ecc58",
   "metadata": {},
   "outputs": [],
   "source": [
    "minutes = 105\n",
    "print(minutes / 60)"
   ]
  },
  {
   "cell_type": "code",
   "execution_count": null,
   "id": "20ff673e-68f6-48d5-a259-76ff46893a70",
   "metadata": {},
   "outputs": [],
   "source": [
    "hours = minutes // 60\n",
    "print(hours)"
   ]
  },
  {
   "cell_type": "markdown",
   "id": "a0b1d6b9-2485-42d2-8e7b-61aeb7cbb968",
   "metadata": {},
   "source": [
    "// is floor division or integer division, it divides two numbers and rounds down to an integer."
   ]
  },
  {
   "cell_type": "code",
   "execution_count": null,
   "id": "968313e9-bc4a-4b7c-97e7-06856846fd99",
   "metadata": {},
   "outputs": [],
   "source": [
    "remainder = minutes - hours * 60\n",
    "print(remainder)"
   ]
  },
  {
   "cell_type": "code",
   "execution_count": null,
   "id": "bd72d7d4-ab2a-4c55-ac8d-40f3f377a1c9",
   "metadata": {},
   "outputs": [],
   "source": [
    "# alternative with modulus operator\n",
    "remainder = minutes % 60\n",
    "print(remainder)"
   ]
  },
  {
   "cell_type": "code",
   "execution_count": null,
   "id": "7540fe64-3fdb-437a-80aa-1a9afd438817",
   "metadata": {},
   "outputs": [],
   "source": [
    "# is a number odd?\n",
    "print(5 % 2)\n",
    "print(6 % 2)"
   ]
  },
  {
   "cell_type": "code",
   "execution_count": null,
   "id": "629d8f97-b7e4-4029-9a9f-57761a029d9f",
   "metadata": {},
   "outputs": [],
   "source": [
    "# get last 2 digits\n",
    "print(34567 % 100)"
   ]
  },
  {
   "cell_type": "markdown",
   "id": "ee99c144-04b6-4c1e-bb1d-69e841ceee38",
   "metadata": {},
   "source": [
    "## 5.2 Boolean expressions"
   ]
  },
  {
   "cell_type": "code",
   "execution_count": null,
   "id": "832960ef-a579-43ce-b7b7-19f446580633",
   "metadata": {},
   "outputs": [],
   "source": [
    "5 == 5"
   ]
  },
  {
   "cell_type": "code",
   "execution_count": null,
   "id": "cac7271f-b9f2-487f-ba48-e54e4f771665",
   "metadata": {},
   "outputs": [],
   "source": [
    "5 == 6"
   ]
  },
  {
   "cell_type": "code",
   "execution_count": null,
   "id": "84ec6f05-9432-489b-a7a3-00b6960fb9b0",
   "metadata": {},
   "outputs": [],
   "source": [
    "type(True)"
   ]
  },
  {
   "cell_type": "code",
   "execution_count": null,
   "id": "3d879783-6278-4637-8624-f869df2844aa",
   "metadata": {},
   "outputs": [],
   "source": [
    "type(False)"
   ]
  },
  {
   "cell_type": "code",
   "execution_count": null,
   "id": "344ff259-2bee-4576-bf56-65762b63f3d1",
   "metadata": {},
   "outputs": [],
   "source": [
    "# other relational operators\n",
    "5 != 5 # not equal to\n",
    "5 > 5  # greater than\n",
    "5 < 5  # less than\n",
    "5 >= 5 # greater than or equal to\n",
    "5 <= 5 # less than or equal to"
   ]
  },
  {
   "cell_type": "code",
   "execution_count": null,
   "id": "97e6bec3-e8cd-4e81-9ee2-d2ba07f4d470",
   "metadata": {},
   "outputs": [],
   "source": [
    "5 <> 5 # doesn't work"
   ]
  },
  {
   "cell_type": "markdown",
   "id": "b4943f2a-6faa-4991-8562-51a72952e669",
   "metadata": {},
   "source": [
    "## 5.3 Logical operators"
   ]
  },
  {
   "cell_type": "code",
   "execution_count": null,
   "id": "a38e9cf9-b263-4e3f-a254-247360a40370",
   "metadata": {},
   "outputs": [],
   "source": [
    "n=6\n",
    "n>0 and n<10"
   ]
  },
  {
   "cell_type": "code",
   "execution_count": null,
   "id": "a42a6c2c-a234-4b59-83f7-fc694ec84566",
   "metadata": {},
   "outputs": [],
   "source": [
    "n%2 == 0 or n%3 == 0"
   ]
  },
  {
   "cell_type": "code",
   "execution_count": null,
   "id": "0a15a6bf-4ed3-472e-87dd-da4a748aaf1e",
   "metadata": {},
   "outputs": [],
   "source": [
    "not(n>0)"
   ]
  },
  {
   "cell_type": "code",
   "execution_count": null,
   "id": "edbb86dd-454f-440d-a9aa-bb0bb925b67c",
   "metadata": {},
   "outputs": [],
   "source": [
    "not(1)"
   ]
  },
  {
   "cell_type": "code",
   "execution_count": null,
   "id": "3aefaa4b-a78b-4ff9-af06-dec26ffa78a1",
   "metadata": {},
   "outputs": [],
   "source": [
    "not(0)"
   ]
  },
  {
   "cell_type": "code",
   "execution_count": null,
   "id": "a3ab2a91-44fa-4d97-a292-e7d62918dae9",
   "metadata": {},
   "outputs": [],
   "source": [
    "42 and True"
   ]
  },
  {
   "cell_type": "markdown",
   "id": "87568009-e224-4cb5-92f3-e66a3b117f59",
   "metadata": {},
   "source": [
    "## 5.4 Conditional execution"
   ]
  },
  {
   "cell_type": "code",
   "execution_count": null,
   "id": "c2998b96-442f-43cf-8465-9e33cea4b83c",
   "metadata": {},
   "outputs": [],
   "source": [
    "x = 5\n",
    "if x > 0:\n",
    "    print('x is positive')"
   ]
  },
  {
   "cell_type": "code",
   "execution_count": null,
   "id": "e301e863-8a57-4e56-af01-d0ff696d22f8",
   "metadata": {},
   "outputs": [],
   "source": [
    "if (x % 2) == 1:\n",
    "    print('x is odd')"
   ]
  },
  {
   "cell_type": "code",
   "execution_count": null,
   "id": "336ae5e7-c6ec-4e12-85af-8c68f8276257",
   "metadata": {},
   "outputs": [],
   "source": [
    "if x < 0:\n",
    "    pass     # TODO: need to handle negative values!"
   ]
  },
  {
   "cell_type": "markdown",
   "id": "f69a2d44-45cc-4d10-94e0-a69f462ebde7",
   "metadata": {},
   "source": [
    "## 5.5 Alternative execution"
   ]
  },
  {
   "cell_type": "code",
   "execution_count": null,
   "id": "ace471d5-1650-494d-b1fc-ace927b85992",
   "metadata": {},
   "outputs": [],
   "source": [
    "x = 5\n",
    "if x % 2 == 0:\n",
    "    print('x is even')\n",
    "else:\n",
    "    print('x is odd')"
   ]
  },
  {
   "cell_type": "markdown",
   "id": "216fa181-747b-4f61-af08-1470f110f77d",
   "metadata": {},
   "source": [
    "## 5.6 Chained conditionals"
   ]
  },
  {
   "cell_type": "code",
   "execution_count": null,
   "id": "afc8801f-ddec-48e6-9bdc-6ab705713104",
   "metadata": {},
   "outputs": [],
   "source": [
    "x = 7\n",
    "y = 7\n",
    "if x < y:\n",
    "    print('x is less than y')\n",
    "elif x > y:\n",
    "    print('x is greater than y')\n",
    "else:\n",
    "    print('x and y are equal')"
   ]
  },
  {
   "cell_type": "markdown",
   "id": "5b746c50-6d60-4686-b8c0-b5bb1a56f08f",
   "metadata": {},
   "source": [
    "## 5.7 Nested conditionals"
   ]
  },
  {
   "cell_type": "code",
   "execution_count": null,
   "id": "8ba25a70-b748-4712-8630-05c2a2d0232d",
   "metadata": {},
   "outputs": [],
   "source": [
    "x = 2\n",
    "y = 3\n",
    "if x == y:\n",
    "    print('x and y are equal')\n",
    "else:\n",
    "    if x < y:\n",
    "        print('x is less than y')\n",
    "    else:\n",
    "        print('x is greater than y')"
   ]
  },
  {
   "cell_type": "code",
   "execution_count": null,
   "id": "d1481423-f590-40fc-a4e8-742f63ca78d8",
   "metadata": {},
   "outputs": [],
   "source": [
    "x = 2\n",
    "if 0 < x:\n",
    "    if x < 10: \n",
    "        print('x is a positive single-digit number')"
   ]
  },
  {
   "cell_type": "code",
   "execution_count": null,
   "id": "892a8409-c951-46c4-81ce-67e5efcbe0ba",
   "metadata": {},
   "outputs": [],
   "source": [
    "# and now with logical operator:\n",
    "\n",
    "if 0 < x and x < 10:\n",
    "    print('x is  a positive single-digit number')"
   ]
  },
  {
   "cell_type": "code",
   "execution_count": null,
   "id": "68f044cb-3afe-4ed8-b2b8-9276975731c2",
   "metadata": {},
   "outputs": [],
   "source": [
    "# and even more concise:\n",
    "\n",
    "if 0 < x < 10:\n",
    "    print('x is a positive single-digit number')"
   ]
  },
  {
   "cell_type": "markdown",
   "id": "08be08ee-f526-4406-9a32-017dca6431b9",
   "metadata": {},
   "source": [
    "## 5.8 Recursion"
   ]
  },
  {
   "cell_type": "code",
   "execution_count": null,
   "id": "38596b94-8025-4f27-8c89-1a70849fd4ca",
   "metadata": {},
   "outputs": [],
   "source": [
    "def countdown(n):\n",
    "    if n <= 0: # base case\n",
    "        print('Blastoff!')\n",
    "    else:\n",
    "        print(n)\n",
    "        countdown(n-1)\n",
    "        \n",
    "countdown(10)"
   ]
  },
  {
   "cell_type": "markdown",
   "id": "428cf470-f336-4bb6-b610-b5d1663d6b90",
   "metadata": {},
   "source": [
    "## 5.9 Stack diagrams for recursive functions"
   ]
  },
  {
   "cell_type": "markdown",
   "id": "2a401452-fbf6-4831-9362-da9d61b2019f",
   "metadata": {},
   "source": [
    "## 5.10 Infinite recursion"
   ]
  },
  {
   "cell_type": "code",
   "execution_count": null,
   "id": "be912e6c-2572-497d-8620-0248ccdcc7b5",
   "metadata": {},
   "outputs": [],
   "source": [
    "def recurse():\n",
    "    recurse()    # no base case...\n",
    "    \n",
    "recurse()"
   ]
  },
  {
   "cell_type": "markdown",
   "id": "7416ee4b-e46c-4ed9-aa64-ebd965a22f07",
   "metadata": {},
   "source": [
    "## 5.11 Keyboard input"
   ]
  },
  {
   "cell_type": "code",
   "execution_count": null,
   "id": "376e1f44-8643-44fc-96f1-5f8fbdb58cd8",
   "metadata": {},
   "outputs": [],
   "source": [
    "text = input()"
   ]
  },
  {
   "cell_type": "code",
   "execution_count": null,
   "id": "09abdddb-0690-48dc-ab27-c6c901fea1da",
   "metadata": {},
   "outputs": [],
   "source": [
    "text"
   ]
  },
  {
   "cell_type": "code",
   "execution_count": null,
   "id": "3efc777a-987c-4ce6-a5ba-7ffb8dc7422a",
   "metadata": {},
   "outputs": [],
   "source": [
    "name = input('What is your name?\\n')  # =\\n is newline"
   ]
  },
  {
   "cell_type": "code",
   "execution_count": null,
   "id": "7d11dedc-c49f-4df4-907c-e43db63014a8",
   "metadata": {},
   "outputs": [],
   "source": [
    "name"
   ]
  },
  {
   "cell_type": "code",
   "execution_count": null,
   "id": "4a7dd6d3-5b6a-41f4-bcf9-be606f643822",
   "metadata": {},
   "outputs": [],
   "source": [
    "prompt = 'What ... is the airspeed of an unladen swallow?\\n'\n",
    "speed = input(prompt)\n",
    "#speed\n",
    "int(speed)"
   ]
  },
  {
   "cell_type": "markdown",
   "id": "4a5705e6-76b4-4367-9993-f22d4fb1490b",
   "metadata": {},
   "source": [
    "## 5.12 Debugging\n",
    "\n",
    "read error messages carefully, but don't assume that everything they say is correct."
   ]
  },
  {
   "cell_type": "markdown",
   "id": "d8058a2d-bde2-444e-9f01-a4d28e04afb4",
   "metadata": {},
   "source": [
    "## 5.13 Glossary"
   ]
  },
  {
   "cell_type": "markdown",
   "id": "f6fa58ee-a57a-430e-bcbe-cf174c68cebe",
   "metadata": {},
   "source": [
    "## 5.14 Exercises "
   ]
  },
  {
   "cell_type": "code",
   "execution_count": null,
   "id": "c0e8762d-2264-41f3-ab82-3c2082fc5039",
   "metadata": {},
   "outputs": [],
   "source": []
  }
 ],
 "metadata": {
  "kernelspec": {
   "display_name": "Python 3 (ipykernel)",
   "language": "python",
   "name": "python3"
  },
  "language_info": {
   "codemirror_mode": {
    "name": "ipython",
    "version": 3
   },
   "file_extension": ".py",
   "mimetype": "text/x-python",
   "name": "python",
   "nbconvert_exporter": "python",
   "pygments_lexer": "ipython3",
   "version": "3.10.9"
  }
 },
 "nbformat": 4,
 "nbformat_minor": 5
}
