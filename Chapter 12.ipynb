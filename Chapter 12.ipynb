{
 "cells": [
  {
   "cell_type": "markdown",
   "id": "f0d933b6-774a-4caf-bd5e-d276bfb739aa",
   "metadata": {},
   "source": [
    "# Chapter 12 Tuples"
   ]
  },
  {
   "cell_type": "markdown",
   "id": "8fa36be7-bc33-4169-a360-8c7d11be0e67",
   "metadata": {},
   "source": [
    "## 12.1 Tuples are immutable\n",
    "\n",
    "A tuple is a comma-separated list of values"
   ]
  },
  {
   "cell_type": "code",
   "execution_count": null,
   "id": "9be81c80-8112-4563-a705-5958ebb7e798",
   "metadata": {},
   "outputs": [],
   "source": [
    "t = 'a', 'b', 'c', 'd', 'e'"
   ]
  },
  {
   "cell_type": "code",
   "execution_count": null,
   "id": "9c06248f-e3ab-4010-b494-0729ec7812a0",
   "metadata": {},
   "outputs": [],
   "source": [
    "t"
   ]
  },
  {
   "cell_type": "code",
   "execution_count": null,
   "id": "4087414a-a262-46a7-b577-8874c8ee5f66",
   "metadata": {},
   "outputs": [],
   "source": [
    "# although it is not necesary, it is common to enclose tuples in parenthese:\n",
    "t = ('a', 'b', 'c', 'd', 'e')"
   ]
  },
  {
   "cell_type": "code",
   "execution_count": null,
   "id": "e20aa93b-9c60-41b4-b425-c105a05d239f",
   "metadata": {},
   "outputs": [],
   "source": [
    "t"
   ]
  },
  {
   "cell_type": "code",
   "execution_count": null,
   "id": "f0f848e7-917f-4588-b4d5-cc85adba93cc",
   "metadata": {},
   "outputs": [],
   "source": [
    "t = 'a'\n",
    "t"
   ]
  },
  {
   "cell_type": "code",
   "execution_count": null,
   "id": "63056ee1-bb1d-465b-9e4b-fbdab73edefc",
   "metadata": {},
   "outputs": [],
   "source": [
    "type(t)"
   ]
  },
  {
   "cell_type": "code",
   "execution_count": null,
   "id": "79f04a71-dc80-4f5e-9163-4de87a6e2a2f",
   "metadata": {},
   "outputs": [],
   "source": [
    "t = 'a', \n",
    "t"
   ]
  },
  {
   "cell_type": "code",
   "execution_count": null,
   "id": "2060cae1-397b-4c48-acb5-94b4448e342d",
   "metadata": {},
   "outputs": [],
   "source": [
    "type(t)"
   ]
  },
  {
   "cell_type": "code",
   "execution_count": null,
   "id": "f431a3bd-d414-432d-b94e-c798f7bd10ac",
   "metadata": {},
   "outputs": [],
   "source": [
    "# we can also use the build-in function tuple()\n",
    "t = tuple()\n",
    "t"
   ]
  },
  {
   "cell_type": "code",
   "execution_count": null,
   "id": "79821357-9e97-4378-a990-68b99f83db42",
   "metadata": {},
   "outputs": [],
   "source": [
    "t = tuple()\n",
    "t"
   ]
  },
  {
   "cell_type": "code",
   "execution_count": null,
   "id": "8a72fd01-3d4d-468e-a690-2ada9b3f7e3c",
   "metadata": {},
   "outputs": [],
   "source": [
    "# if the argument of the tuple() funtion is a sequence, then the result is a tuple with \n",
    "# elements of the sequence\n",
    "t = tuple('lupins')\n",
    "t"
   ]
  },
  {
   "cell_type": "code",
   "execution_count": null,
   "id": "c9c4fbdf-b4f6-47bc-8085-e61018878e32",
   "metadata": {},
   "outputs": [],
   "source": [
    "x = [1, 2, 3]\n",
    "t = tuple(x)\n",
    "t"
   ]
  },
  {
   "cell_type": "code",
   "execution_count": null,
   "id": "1c32f2d3-fa66-4582-a90b-a66508582c13",
   "metadata": {},
   "outputs": [],
   "source": [
    "t = tuple(t)\n",
    "t"
   ]
  },
  {
   "cell_type": "code",
   "execution_count": null,
   "id": "f4203466-000f-475a-bbf3-7c70225d3e23",
   "metadata": {},
   "outputs": [],
   "source": [
    "# most list operators work on tuples\n",
    "t[0]"
   ]
  },
  {
   "cell_type": "code",
   "execution_count": null,
   "id": "65255c4f-af5e-4870-a9f9-defa720d4d98",
   "metadata": {},
   "outputs": [],
   "source": [
    "t[1:]"
   ]
  },
  {
   "cell_type": "code",
   "execution_count": null,
   "id": "d49a353a-e02b-4e98-a221-c3554599b7b9",
   "metadata": {},
   "outputs": [],
   "source": [
    "t[0] = 'A'"
   ]
  },
  {
   "cell_type": "code",
   "execution_count": null,
   "id": "01074a77-7e46-4bc5-8700-e09f3c080d93",
   "metadata": {},
   "outputs": [],
   "source": [
    "# so tuples are immutable but we can create a new tuple:\n",
    "t = ('A',) + t[1:]\n",
    "t"
   ]
  },
  {
   "cell_type": "markdown",
   "id": "4ce1aec9-58d1-4fe2-aaaa-aa689e7a122e",
   "metadata": {},
   "source": [
    "## 12.2 Tuple assignment"
   ]
  },
  {
   "cell_type": "code",
   "execution_count": null,
   "id": "0dbb33b0-a20c-48d3-91b8-e2502c2fd04b",
   "metadata": {},
   "outputs": [],
   "source": [
    "# how to swap a value the old-school way\n",
    "a = 'a'\n",
    "b = 'b'\n",
    "temp = a\n",
    "a = b\n",
    "b = temp\n",
    "print('a: ', a, ' b: ', b)"
   ]
  },
  {
   "cell_type": "code",
   "execution_count": null,
   "id": "b1e2b2da-90bb-4bd2-8053-5ce2c48410dd",
   "metadata": {},
   "outputs": [],
   "source": [
    "# tuple assignment is more elegant:\n",
    "a = 'a'\n",
    "b = 'b'\n",
    "a, b = b, a\n",
    "print('a:', a, 'b:', b)"
   ]
  },
  {
   "cell_type": "code",
   "execution_count": null,
   "id": "1e0da1bd-cea1-401a-8cf9-3fff061693c5",
   "metadata": {},
   "outputs": [],
   "source": [
    "# the left side is a tuple of variable, the right side is a tuple of expressions"
   ]
  },
  {
   "cell_type": "code",
   "execution_count": null,
   "id": "b1a11a2a-e2af-4d9c-8c67-e1e2f4b51a44",
   "metadata": {},
   "outputs": [],
   "source": [
    "a, b = 1, 2, 3 # ohoh not balanced"
   ]
  },
  {
   "cell_type": "code",
   "execution_count": null,
   "id": "6667bf4f-213a-4916-a2db-f354ec8d16e8",
   "metadata": {},
   "outputs": [],
   "source": [
    "# more generally the right side can be any kind of sequence\n",
    "addr = 'jryntema@ilionx.com'\n",
    "username, domain = addr.split('@')\n",
    "username"
   ]
  },
  {
   "cell_type": "code",
   "execution_count": null,
   "id": "21d720c7-da52-459e-a367-58116f1ad407",
   "metadata": {},
   "outputs": [],
   "source": [
    "domain"
   ]
  },
  {
   "cell_type": "markdown",
   "id": "bf36db71-1006-4fde-acbc-bfc0a5bb381f",
   "metadata": {},
   "source": [
    "## 12.3 Tuples as return values\n",
    "\n",
    "Strictly speaking a function can return only one value. If that value is a tuple, we are in effect return multiple values."
   ]
  },
  {
   "cell_type": "code",
   "execution_count": null,
   "id": "6631a943-c57e-48b8-a7ab-8751f0f81795",
   "metadata": {},
   "outputs": [],
   "source": [
    "t = divmod(7,3)\n",
    "t"
   ]
  },
  {
   "cell_type": "code",
   "execution_count": null,
   "id": "79c8abd9-ec17-4b2a-8bba-860cee4dee28",
   "metadata": {},
   "outputs": [],
   "source": [
    "type(t)"
   ]
  },
  {
   "cell_type": "code",
   "execution_count": null,
   "id": "aafac575-b0c8-42db-ba4d-56058d1af694",
   "metadata": {},
   "outputs": [],
   "source": [
    "quot, rem = divmod(7,3)\n",
    "quot"
   ]
  },
  {
   "cell_type": "code",
   "execution_count": null,
   "id": "6ef195ce-5094-42b0-a36b-2eb39453f2bc",
   "metadata": {},
   "outputs": [],
   "source": [
    "rem"
   ]
  },
  {
   "cell_type": "code",
   "execution_count": null,
   "id": "62467981-60d8-471c-a104-9be17ba5d113",
   "metadata": {},
   "outputs": [],
   "source": [
    "def min_max(t):\n",
    "    return min(t), max(t)"
   ]
  },
  {
   "cell_type": "code",
   "execution_count": null,
   "id": "eee59daa-e1cc-4d2f-8648-65ec88046a41",
   "metadata": {},
   "outputs": [],
   "source": [
    "min_max('janremko')"
   ]
  },
  {
   "cell_type": "markdown",
   "id": "2e771df7-ec4d-43f2-91f2-bdc23f76c69e",
   "metadata": {},
   "source": [
    "## 12.4 Variable length argument tuples"
   ]
  },
  {
   "cell_type": "code",
   "execution_count": null,
   "id": "0c14d99e-26ca-4336-aa1b-abba17f39f47",
   "metadata": {},
   "outputs": [],
   "source": [
    "# use * to gather arguments into a tuple\n",
    "def printall(*args):\n",
    "    print(args)\n",
    "    \n",
    "printall('a', 1, True, 'Jan Remko')\n"
   ]
  },
  {
   "cell_type": "code",
   "execution_count": null,
   "id": "707b99eb-19dc-4768-ab2c-30580434dd2f",
   "metadata": {},
   "outputs": [],
   "source": [
    "# the reverse is scatter:\n",
    "t = (7,3)\n",
    "divmod(t)"
   ]
  },
  {
   "cell_type": "code",
   "execution_count": null,
   "id": "92e207cc-48ee-4b6d-a0a6-1e4161c720dd",
   "metadata": {},
   "outputs": [],
   "source": [
    "divmod(*t)"
   ]
  },
  {
   "cell_type": "code",
   "execution_count": null,
   "id": "a266e008-abac-423e-b5f7-ccc90e67eaa8",
   "metadata": {},
   "outputs": [],
   "source": [
    "# many of the build-in functions use variable-length input tuples:\n",
    "max(1, 3, 6, 1000)"
   ]
  },
  {
   "cell_type": "code",
   "execution_count": null,
   "id": "9c2d8535-9ea0-41fc-abc7-714db2308250",
   "metadata": {},
   "outputs": [],
   "source": [
    "# other don't\n",
    "sum(1, 2, 3)"
   ]
  },
  {
   "cell_type": "code",
   "execution_count": null,
   "id": "84deac2b-0ee8-41ca-aee7-ffb3250e1b3f",
   "metadata": {},
   "outputs": [],
   "source": [
    "def sum_all(*x):\n",
    "    result = 0\n",
    "    for n in x:\n",
    "        result += n\n",
    "    return result\n",
    "\n",
    "sum_all(1, 2, 3, 4)"
   ]
  },
  {
   "cell_type": "code",
   "execution_count": null,
   "id": "79dd4216-10f1-40d9-8234-20a9a625179f",
   "metadata": {},
   "outputs": [],
   "source": [
    "sum_all(1, 2, 3, 4, 5)"
   ]
  },
  {
   "cell_type": "markdown",
   "id": "f0216988-5a4d-466f-8718-659a8962203e",
   "metadata": {},
   "source": [
    "## 12.5 Lists and tuples"
   ]
  },
  {
   "cell_type": "code",
   "execution_count": null,
   "id": "f0a97e8a-fff9-482a-97cf-35e4efad2138",
   "metadata": {},
   "outputs": [],
   "source": [
    "# zip() interleaves two sequences\n",
    "s = 'abc'\n",
    "t = [1, 2, 3]\n",
    "z = zip(s, t)\n",
    "z"
   ]
  },
  {
   "cell_type": "code",
   "execution_count": null,
   "id": "4ae360f6-7fcc-42b5-9af9-bae5d860c1a6",
   "metadata": {},
   "outputs": [],
   "source": [
    "# a zip object is a kind of iterator, an iterator is not a list (no indices)\n",
    "for pair in z:\n",
    "    print(pair)"
   ]
  },
  {
   "cell_type": "code",
   "execution_count": null,
   "id": "ed8dc7a6-6081-4321-b8d0-e79132441987",
   "metadata": {},
   "outputs": [],
   "source": [
    "# keep in mind that iterating a zipper, eats the contents\n",
    "for pair in z:\n",
    "    print(pair)"
   ]
  },
  {
   "cell_type": "code",
   "execution_count": null,
   "id": "732fbaf6-ec81-4553-98eb-92bd3fc4ea10",
   "metadata": {},
   "outputs": [],
   "source": [
    "# but we can convert a zip-object into a list:\n",
    "z = zip(s, t)\n",
    "l = list(z)\n",
    "l"
   ]
  },
  {
   "cell_type": "code",
   "execution_count": null,
   "id": "6a345ba9-20ab-4628-9f86-427906abb013",
   "metadata": {},
   "outputs": [],
   "source": [
    "# if input sequences are not of equal length, zip takes the shortest\n",
    "list(zip('Jan', 'Remko'))"
   ]
  },
  {
   "cell_type": "code",
   "execution_count": null,
   "id": "7d4eff37-c5f3-46e0-99bf-b5edea16317c",
   "metadata": {},
   "outputs": [],
   "source": [
    "# You can use tuple assignment in a for loop to traverse a list of tuples:\n",
    "t = [('a', 0), ('b', 1), ('c', 2)]\n",
    "for letter, number in t:\n",
    "    print(number, letter)"
   ]
  },
  {
   "cell_type": "code",
   "execution_count": null,
   "id": "be339473-e54e-466d-addf-f7d8f196b71f",
   "metadata": {},
   "outputs": [],
   "source": [
    "# combine zip, for and tuple assignment to look for matches in two sequences\n",
    "def has_match(t1, t2):\n",
    "    for x, y in zip(t1, t2):\n",
    "        if x == y:\n",
    "            return x\n",
    "    return False\n",
    "\n",
    "has_match('bobrambo', 'janremko')"
   ]
  },
  {
   "cell_type": "code",
   "execution_count": null,
   "id": "12dc372b-3784-4761-bf9e-a65749af07a3",
   "metadata": {},
   "outputs": [],
   "source": [
    "# If you need to traverse the elements of a sequence and their indices, you can use \n",
    "# the built-in function enumerate:\n",
    "for index, element in enumerate('abc'):\n",
    "    print(index, element)"
   ]
  },
  {
   "cell_type": "code",
   "execution_count": null,
   "id": "66f4fb6e-d09a-44df-bf64-69e948c27ff1",
   "metadata": {},
   "outputs": [],
   "source": [
    "for index, element in enumerate([1, 2, 3, 4]):\n",
    "    print(index, element)"
   ]
  },
  {
   "cell_type": "markdown",
   "id": "c804a933-d96d-47a6-bd7b-72de2b0dfe01",
   "metadata": {},
   "source": [
    "## 12.6 Dictionaries and tuples"
   ]
  },
  {
   "cell_type": "code",
   "execution_count": null,
   "id": "1ac8a5e8-2151-43d0-83e9-74b748b49bb6",
   "metadata": {},
   "outputs": [],
   "source": [
    "# Dictionaries have a method called items that returns a sequence of tuples, where each\n",
    "# tuple is a key-value pair.\n",
    "d = {'a':0, 'b':1, 'c':2}\n",
    "t = d.items()\n",
    "t"
   ]
  },
  {
   "cell_type": "code",
   "execution_count": null,
   "id": "24dacc6c-2429-4c44-91ba-16e6e046ce01",
   "metadata": {},
   "outputs": [],
   "source": [
    "# dict_items is an iterator\n",
    "for key, value in t:\n",
    "    print(key, value)"
   ]
  },
  {
   "cell_type": "code",
   "execution_count": null,
   "id": "b0fbdc95-a34f-46a1-89ce-7e4709a8eefd",
   "metadata": {},
   "outputs": [],
   "source": [
    "# using a list of tuples to initialize a dict:\n",
    "t = ([('a', 0), ('b', 1), ('c', 2)])\n",
    "d = dict(t)\n",
    "d"
   ]
  },
  {
   "cell_type": "code",
   "execution_count": null,
   "id": "f3e61f15-a0cd-42a0-ae9b-7febd39100eb",
   "metadata": {},
   "outputs": [],
   "source": [
    "# combining dict() with zip() yields a concise way to create a dictionary\n",
    "d = dict(zip('abc', range(3)))\n",
    "d"
   ]
  },
  {
   "cell_type": "code",
   "execution_count": null,
   "id": "b9676a6e-eae3-4ea5-a999-cade2cafdaec",
   "metadata": {},
   "outputs": [],
   "source": [
    "# with the update method we can add a list of tuples to a dictionary\n",
    "d.update([('d', 3)])\n",
    "d"
   ]
  },
  {
   "cell_type": "code",
   "execution_count": null,
   "id": "3ef0ccc7-ba3d-4a08-8dd9-c0dfe4425128",
   "metadata": {},
   "outputs": [],
   "source": [
    "# tuples can be used as keys for dictionaries\n",
    "\n",
    "d = {('Yntema', 'Jan Remko'): 12345, ('Mesken', 'Arnoud'): 23456}\n",
    "d"
   ]
  },
  {
   "cell_type": "code",
   "execution_count": null,
   "id": "6f3e1105-1095-4d93-8bc7-980379c48688",
   "metadata": {},
   "outputs": [],
   "source": [
    "for last, first in d:\n",
    "    print(first, last, d[last, first])"
   ]
  },
  {
   "cell_type": "markdown",
   "id": "80a95f63-b7c5-4cc3-949b-4964fd45fb3f",
   "metadata": {},
   "source": [
    "## 12.7 Sequences of sequences\n",
    "\n",
    "In most contexts sequences (strings, lists, tuples) can be used interchangeably. \n",
    "\n",
    "1. For return statements tuples are often the easiest to use\n",
    "2. For dictionary keys you need to use an immutable type, tuple or string"
   ]
  },
  {
   "cell_type": "markdown",
   "id": "289915f1-f594-4f48-992c-532f2125623e",
   "metadata": {},
   "source": [
    "## 12.8 Debugging"
   ]
  },
  {
   "cell_type": "markdown",
   "id": "2106315b-d885-4ef8-85a4-0c39671acd74",
   "metadata": {},
   "source": [
    "## 12.9 Glossary"
   ]
  },
  {
   "cell_type": "markdown",
   "id": "d63880cd-67c4-4a5c-8b41-9ff07ef90bb6",
   "metadata": {},
   "source": [
    "## 12.10 Exercises"
   ]
  },
  {
   "cell_type": "code",
   "execution_count": null,
   "id": "8476c007-0f99-4fac-87b9-ff5791832551",
   "metadata": {},
   "outputs": [],
   "source": []
  }
 ],
 "metadata": {
  "kernelspec": {
   "display_name": "Python 3 (ipykernel)",
   "language": "python",
   "name": "python3"
  },
  "language_info": {
   "codemirror_mode": {
    "name": "ipython",
    "version": 3
   },
   "file_extension": ".py",
   "mimetype": "text/x-python",
   "name": "python",
   "nbconvert_exporter": "python",
   "pygments_lexer": "ipython3",
   "version": "3.10.9"
  }
 },
 "nbformat": 4,
 "nbformat_minor": 5
}
