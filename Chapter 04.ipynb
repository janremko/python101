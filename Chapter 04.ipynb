{
 "cells": [
  {
   "cell_type": "markdown",
   "id": "a34cd54e-3092-4dd3-9eda-a46043ff2712",
   "metadata": {},
   "source": [
    "# Chapter 4 Case study: inteface design"
   ]
  },
  {
   "cell_type": "markdown",
   "id": "f0020fef-d560-4627-92b8-6c17ef19e3e6",
   "metadata": {},
   "source": [
    "## 4.1 The turtle module"
   ]
  },
  {
   "cell_type": "code",
   "execution_count": null,
   "id": "03ddb925-216c-42bd-a331-ba9ff3934163",
   "metadata": {},
   "outputs": [],
   "source": [
    "import turtle"
   ]
  },
  {
   "cell_type": "code",
   "execution_count": null,
   "id": "dce33986-5b7c-46da-be31-8da147a15331",
   "metadata": {},
   "outputs": [],
   "source": [
    "bob = turtle.Turtle()\n",
    "print(bob)\n"
   ]
  },
  {
   "cell_type": "code",
   "execution_count": null,
   "id": "f938587c-badf-4afc-9018-a1a6c9a43146",
   "metadata": {},
   "outputs": [],
   "source": [
    "# some turtle activities\n",
    "bob.pd()\n",
    "bob.fd(100)\n",
    "bob.lt(90)\n",
    "bob.fd(100)\n"
   ]
  },
  {
   "cell_type": "code",
   "execution_count": null,
   "id": "30529d36-6af5-4265-a597-25b111e05ce9",
   "metadata": {},
   "outputs": [],
   "source": [
    "turtle.clearscreen()\n",
    "#turtle.resetscreen()"
   ]
  },
  {
   "cell_type": "markdown",
   "id": "dc800a2b-838d-4583-a040-b990be4b4c0b",
   "metadata": {},
   "source": [
    "## 4.2 Simple repetition"
   ]
  },
  {
   "cell_type": "code",
   "execution_count": null,
   "id": "8e2649f6-2e4b-4fe0-8ebc-ac1f5641e7d8",
   "metadata": {},
   "outputs": [],
   "source": [
    "# let's try to draw a square\n",
    "\n",
    "bob = turtle.Turtle()\n",
    "bob.pd()\n",
    "bob.fd(100)\n",
    "bob.lt(90)\n",
    "bob.fd(100)\n",
    "bob.lt(90)\n",
    "bob.fd(100)\n",
    "bob.lt(90)\n",
    "bob.fd(100)\n",
    "\n"
   ]
  },
  {
   "cell_type": "code",
   "execution_count": null,
   "id": "027e38e3-bc38-4176-8985-e27cced02c6d",
   "metadata": {},
   "outputs": [],
   "source": [
    "for i in range(4):\n",
    "    print(\"Hello!\")"
   ]
  },
  {
   "cell_type": "code",
   "execution_count": null,
   "id": "e936257a-93c0-4f13-a7ca-b74089d6f16a",
   "metadata": {},
   "outputs": [],
   "source": [
    "turtle.clearscreen()"
   ]
  },
  {
   "cell_type": "code",
   "execution_count": null,
   "id": "0f73a561-e076-4015-95b7-e3c43d028ad8",
   "metadata": {},
   "outputs": [],
   "source": [
    "bob = turtle.Turtle()\n",
    "\n",
    "for i in range(4):\n",
    "    bob.fd(100)\n",
    "    bob.lt(90)"
   ]
  },
  {
   "cell_type": "code",
   "execution_count": null,
   "id": "b050893a-b2ae-482a-a868-51d0db10beda",
   "metadata": {},
   "outputs": [],
   "source": [
    "turtle.clearscreen()"
   ]
  },
  {
   "cell_type": "markdown",
   "id": "f6cea7da-6a60-4f52-b7f1-8d19df7e5885",
   "metadata": {},
   "source": [
    "## 4.4 Encapsulation"
   ]
  },
  {
   "cell_type": "code",
   "execution_count": null,
   "id": "85903a95-172b-4477-99f6-64c028d6ecf6",
   "metadata": {},
   "outputs": [],
   "source": [
    "def square(t):\n",
    "    for i in range(4):\n",
    "        t.fd(100)\n",
    "        t.lt(90)\n",
    "        \n",
    "bob = turtle.Turtle()\n",
    "square(bob)\n",
    "\n",
    "\n"
   ]
  },
  {
   "cell_type": "code",
   "execution_count": null,
   "id": "e5dc7f6b-9734-4ef4-9165-cc07939e3fa3",
   "metadata": {},
   "outputs": [],
   "source": [
    "julia = turtle.Turtle()\n",
    "julia.pu()\n",
    "julia.goto(200,200)\n",
    "julia.pd()\n",
    "square(julia)"
   ]
  },
  {
   "cell_type": "code",
   "execution_count": null,
   "id": "692d45f9-da9b-4ee4-99e6-1a61924afa8e",
   "metadata": {},
   "outputs": [],
   "source": [
    "turtle.clearscreen()"
   ]
  },
  {
   "cell_type": "markdown",
   "id": "1d9d07d8-36ee-4de4-81fa-e3bfba5200fc",
   "metadata": {},
   "source": [
    "## Generalization"
   ]
  },
  {
   "cell_type": "code",
   "execution_count": null,
   "id": "5440cc0b-e683-4380-aeb4-5a6e314881d5",
   "metadata": {},
   "outputs": [],
   "source": [
    "# adding a length parameter makes a more general function\n",
    "\n",
    "def square(t, length):\n",
    "    for i in range(4):\n",
    "        t.fd(length)\n",
    "        t.lt(90)\n",
    "        \n",
    "bob = turtle.Turtle()\n",
    "square(bob, 200)"
   ]
  },
  {
   "cell_type": "code",
   "execution_count": null,
   "id": "b19937cf-df67-442e-be1d-82778a38c9f2",
   "metadata": {},
   "outputs": [],
   "source": [
    "square(bob, 250)"
   ]
  },
  {
   "cell_type": "code",
   "execution_count": null,
   "id": "5580bc2c-5a84-448a-8579-9e309904ba6f",
   "metadata": {},
   "outputs": [],
   "source": [
    "square(bob, 300)"
   ]
  },
  {
   "cell_type": "code",
   "execution_count": null,
   "id": "fa63cea7-2ca9-4f7f-9371-cc7a3811b821",
   "metadata": {},
   "outputs": [],
   "source": [
    "turtle.clearscreen()"
   ]
  },
  {
   "cell_type": "code",
   "execution_count": null,
   "id": "8ce60cd4-f536-4354-bb36-cc1c3c64a5b8",
   "metadata": {},
   "outputs": [],
   "source": [
    "# making it even more general by adding the number of sides\n",
    "\n",
    "def polygon(t, n, length):\n",
    "    angle = 360 / n\n",
    "    for i in range(n):\n",
    "        t.fd(length)\n",
    "        t.lt(angle)\n",
    "        \n",
    "bob = turtle.Turtle()\n",
    "polygon(bob, 7, 100)"
   ]
  },
  {
   "cell_type": "code",
   "execution_count": null,
   "id": "2c921d73-74b9-4b05-ba62-72db8c1dc8a5",
   "metadata": {},
   "outputs": [],
   "source": [
    "polygon(bob, length=110, n=10)"
   ]
  },
  {
   "cell_type": "code",
   "execution_count": null,
   "id": "6d0e49d6-525d-4022-b808-481032cbe56f",
   "metadata": {},
   "outputs": [],
   "source": [
    "turtle.clearscreen()"
   ]
  },
  {
   "cell_type": "markdown",
   "id": "cfc92d6c-606f-484f-8490-df4fa4c5e372",
   "metadata": {},
   "source": [
    "## 4.6 Interface design"
   ]
  },
  {
   "cell_type": "code",
   "execution_count": null,
   "id": "9acda437-f433-4cc0-84b4-3e854c3db915",
   "metadata": {},
   "outputs": [],
   "source": [
    "import math\n",
    "\n",
    "def circle(t, r):\n",
    "    circumference = 2 * math.pi * r\n",
    "    n = 50 # a constant value in this implementation\n",
    "    length = circumference / n\n",
    "    polygon(t, n, length)\n",
    "    \n",
    "bob = turtle.Turtle()\n",
    "circle(bob, 100)"
   ]
  },
  {
   "cell_type": "markdown",
   "id": "3f657ae4-4991-4ff1-808e-f965bf5a0317",
   "metadata": {},
   "source": [
    "The **interface** of a function is a summary of the function is used: parameters, behavior aka what does it do, return value. \n",
    "\n",
    "An interface is 'clean' if it allows the caller to do what they want without dealing with unnecessary details.\n",
    "\n",
    "Should *n* be a parameter or not?"
   ]
  },
  {
   "cell_type": "code",
   "execution_count": null,
   "id": "d2fabc95-b56a-4070-a25f-a1f7cea94616",
   "metadata": {},
   "outputs": [],
   "source": [
    "turtle.clearscreen()\n",
    "\n",
    "def circle(t, r):\n",
    "    circumfence = 2 * math.pi * r\n",
    "    n = int(circumfence / 3) + 3\n",
    "    length = circumfence / n\n",
    "    polygon(t, n, length)\n",
    "    \n",
    "bob = turtle.Turtle()\n",
    "circle(bob, 150)"
   ]
  },
  {
   "cell_type": "code",
   "execution_count": null,
   "id": "49341ec4-3ad5-4af7-8558-d4cee5f084b7",
   "metadata": {},
   "outputs": [],
   "source": [
    "circle(bob, 10)"
   ]
  },
  {
   "cell_type": "code",
   "execution_count": null,
   "id": "cf039f2f-c70d-4629-a268-589758f04d66",
   "metadata": {},
   "outputs": [],
   "source": [
    "turtle.clearscreen()"
   ]
  },
  {
   "cell_type": "markdown",
   "id": "3ff1958a-0679-4af9-9718-f97d4d5355b2",
   "metadata": {},
   "source": [
    "## 4.7 Refactoring"
   ]
  },
  {
   "cell_type": "code",
   "execution_count": null,
   "id": "3e8eb892-e5c3-41f2-b153-78c0649d6b40",
   "metadata": {},
   "outputs": [],
   "source": [
    "def arc(t, r, angle):\n",
    "    arc_length = 2 * math.pi * r * angle / 360\n",
    "    n = int(arc_length / 3) + 1\n",
    "    step_length = arc_length / n\n",
    "    step_angle = angle / n\n",
    "    for i in range(n):\n",
    "        t.fd(step_length)\n",
    "        t.lt(step_angle)"
   ]
  },
  {
   "cell_type": "code",
   "execution_count": null,
   "id": "491fe7c5-dc2e-4d7f-be76-f2db298e3edc",
   "metadata": {},
   "outputs": [],
   "source": [
    "bob = turtle.Turtle()\n",
    "arc(bob, 100, 270)"
   ]
  },
  {
   "cell_type": "code",
   "execution_count": null,
   "id": "da0e70e1-765a-4a8b-a85e-7ffceb980191",
   "metadata": {},
   "outputs": [],
   "source": [
    "# The last part of arc() looks like polygon()\n",
    "def polyline(t, n, length, angle):\n",
    "    for i in range(n):\n",
    "        t.fd(length)\n",
    "        t.lt(angle)\n",
    "        \n",
    "def polygon(t, n, length):\n",
    "    angle = 360.0 / n\n",
    "    polyline(t, n, length, angle)\n",
    "    \n",
    "def arc(t, r, angle):\n",
    "    arc_length = 2 * math.pi * r * angle / 360\n",
    "    n = int(arc_length / 3) + 1\n",
    "    step_length = arc_length / n\n",
    "    step_angle = angle / n\n",
    "    polyline(t, n, step_length, step_angle)\n",
    "    \n",
    "def circle(t, r):\n",
    "    arc(t, r, 360)\n",
    "    \n"
   ]
  },
  {
   "cell_type": "code",
   "execution_count": null,
   "id": "aa82bd69-b4bb-400c-96a2-f95d1957c1c9",
   "metadata": {},
   "outputs": [],
   "source": [
    "turtle.clearscreen()\n",
    "bob = turtle.Turtle()\n",
    "polygon(bob, 3, 100)\n",
    "arc(bob, 110, 180)\n",
    "circle(bob, 50)"
   ]
  },
  {
   "cell_type": "code",
   "execution_count": null,
   "id": "5f27603c-0726-4c98-8e84-74dd1883cf11",
   "metadata": {},
   "outputs": [],
   "source": [
    "turtle.done()"
   ]
  },
  {
   "cell_type": "markdown",
   "id": "e7153372-be01-4552-9271-215aac7cb672",
   "metadata": {},
   "source": [
    "## 4.8 A development plan\n",
    "\n",
    "1. Start with small program, no function definitions\n",
    "2. Encapsulate coherent piece of the working program in functions\n",
    "3. Generalize functions by adding parameters\n",
    "4. Repeat steps 1-3 until you have a working set of functions\n",
    "5. Look for opportunities to improve the program by refactoring"
   ]
  },
  {
   "cell_type": "markdown",
   "id": "85836cd1-b02e-493c-b81d-556d6a86e8c8",
   "metadata": {},
   "source": [
    "## 4.9 docstring"
   ]
  },
  {
   "cell_type": "code",
   "execution_count": null,
   "id": "f87527d4-2c36-4224-ab02-2a25940971df",
   "metadata": {},
   "outputs": [],
   "source": [
    "def polyline(t, n, length, angle):\n",
    "    \"\"\"Draws n line segments with the given length and \n",
    "    angle (in degrees) between them. t is a turtle.\n",
    "    \"\"\"\n",
    "    for i in range(n):\n",
    "        t.fd(length)\n",
    "        t.lt(angle)"
   ]
  },
  {
   "cell_type": "code",
   "execution_count": null,
   "id": "3f17ae84-bd25-4a6e-9403-63d4f1b68cf5",
   "metadata": {},
   "outputs": [],
   "source": [
    "help(polyline)"
   ]
  },
  {
   "cell_type": "markdown",
   "id": "e5ab05f0-7c59-4602-a083-7b6fa3c1c18b",
   "metadata": {},
   "source": [
    "## 4.10 Debugging\n",
    "\n",
    "* preconditions\n",
    "* postconditions"
   ]
  },
  {
   "cell_type": "markdown",
   "id": "f85116e0-f533-40a6-824f-9742526f37d7",
   "metadata": {},
   "source": [
    "## 4.11 Glossary"
   ]
  },
  {
   "cell_type": "markdown",
   "id": "09a45dfe-c712-452e-b6e6-970a9bae0b48",
   "metadata": {},
   "source": [
    "## 4.12 Exercises"
   ]
  },
  {
   "cell_type": "code",
   "execution_count": null,
   "id": "f9296058-998c-4a9f-9627-469e0d14942e",
   "metadata": {},
   "outputs": [],
   "source": []
  }
 ],
 "metadata": {
  "kernelspec": {
   "display_name": "Python 3 (ipykernel)",
   "language": "python",
   "name": "python3"
  },
  "language_info": {
   "codemirror_mode": {
    "name": "ipython",
    "version": 3
   },
   "file_extension": ".py",
   "mimetype": "text/x-python",
   "name": "python",
   "nbconvert_exporter": "python",
   "pygments_lexer": "ipython3",
   "version": "3.10.9"
  }
 },
 "nbformat": 4,
 "nbformat_minor": 5
}
