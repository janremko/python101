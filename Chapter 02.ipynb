{
 "cells": [
  {
   "cell_type": "markdown",
   "id": "90031573-30f7-43ea-b917-75b8c2f8364e",
   "metadata": {},
   "source": [
    "# Chapter 2 Variables, expressions and statements"
   ]
  },
  {
   "cell_type": "markdown",
   "id": "2da05bc0-7866-4d5e-af7a-023c3a022bab",
   "metadata": {},
   "source": [
    "## 2.1 Assignment statements"
   ]
  },
  {
   "cell_type": "code",
   "execution_count": null,
   "id": "f9d41f58-7570-40e3-94bc-d7ddfc0be106",
   "metadata": {},
   "outputs": [],
   "source": [
    "message = 'And now for something completely different'"
   ]
  },
  {
   "cell_type": "code",
   "execution_count": null,
   "id": "09ac33fa-ee76-405c-bb17-21b9192a2601",
   "metadata": {},
   "outputs": [],
   "source": [
    "n = 17"
   ]
  },
  {
   "cell_type": "code",
   "execution_count": null,
   "id": "761ebea0-f489-480e-b59a-d88f02f43143",
   "metadata": {},
   "outputs": [],
   "source": [
    "pi = 3.1415926535897932"
   ]
  },
  {
   "cell_type": "markdown",
   "id": "886fd285-3639-4d45-a507-9b871045409c",
   "metadata": {},
   "source": [
    "## Variable names\n",
    "\n",
    "Can be as long as you want\n",
    "\n",
    "Can contain letters and numbers, but can't begin with a number\n",
    "\n",
    "The underscore _ is also allowed"
   ]
  },
  {
   "cell_type": "code",
   "execution_count": null,
   "id": "04913ad2-d336-4beb-a112-465662a67f60",
   "metadata": {},
   "outputs": [],
   "source": [
    "76trombones = 'big parade'"
   ]
  },
  {
   "cell_type": "code",
   "execution_count": null,
   "id": "c1c97e19-2e1b-43fb-974a-628c5af25506",
   "metadata": {},
   "outputs": [],
   "source": [
    "more@ = 1000000"
   ]
  },
  {
   "cell_type": "code",
   "execution_count": null,
   "id": "702a98c7-aaa8-49e2-b8d8-467b072b8c5a",
   "metadata": {},
   "outputs": [],
   "source": [
    "class = 'Advanced Theoretical Zymurgy'"
   ]
  },
  {
   "cell_type": "markdown",
   "id": "7a10bece-d206-4f40-9f96-e8e66d24e6a2",
   "metadata": {},
   "source": [
    "## 2.3 Expressions and statements\n",
    "\n",
    "An **expression** is a combination of values, variables and operators. Values and variables by themselves are also expressions."
   ]
  },
  {
   "cell_type": "code",
   "execution_count": null,
   "id": "76272dcc-7e64-4b83-b1d8-81d355104e08",
   "metadata": {},
   "outputs": [],
   "source": [
    "42"
   ]
  },
  {
   "cell_type": "code",
   "execution_count": null,
   "id": "445d1b37-83f3-4e7b-8209-91d94e1a7c4f",
   "metadata": {},
   "outputs": [],
   "source": [
    "n"
   ]
  },
  {
   "cell_type": "code",
   "execution_count": null,
   "id": "bfee1402-6ca8-4229-a5a8-127b69f71a45",
   "metadata": {},
   "outputs": [],
   "source": [
    "n + 25"
   ]
  },
  {
   "cell_type": "markdown",
   "id": "c1a357b5-ff23-47a9-b873-769079fe1d32",
   "metadata": {},
   "source": [
    "A **statement** is a unit of code that has an effect. In general statements don't have values."
   ]
  },
  {
   "cell_type": "code",
   "execution_count": null,
   "id": "a1d883aa-e9dd-4f55-b6e4-cf79e418697c",
   "metadata": {},
   "outputs": [],
   "source": [
    "n = 7"
   ]
  },
  {
   "cell_type": "code",
   "execution_count": null,
   "id": "c0ef08de-6773-4eaa-a00a-fcf6cedc4b12",
   "metadata": {},
   "outputs": [],
   "source": [
    "print(n)"
   ]
  },
  {
   "cell_type": "markdown",
   "id": "a8141d26-5bae-4a56-85ab-efc47dfad1be",
   "metadata": {},
   "source": [
    "## 2.4 Script mode"
   ]
  },
  {
   "cell_type": "code",
   "execution_count": null,
   "id": "b484cb28-9131-46be-92c2-a165a108c9a2",
   "metadata": {},
   "outputs": [],
   "source": [
    "miles = 26.2\n",
    "miles * 1.61"
   ]
  },
  {
   "cell_type": "markdown",
   "id": "af1a4278-74e2-4428-8aa2-10a986d59302",
   "metadata": {},
   "source": [
    "## 2.5 Order of operations\n",
    "\n",
    "PEMDAS - HMWVDOA"
   ]
  },
  {
   "cell_type": "markdown",
   "id": "75452e4c-7b4a-475e-ba34-3c876749bff2",
   "metadata": {},
   "source": [
    "## 2.6 String operations"
   ]
  },
  {
   "cell_type": "code",
   "execution_count": null,
   "id": "dcee8ef6-8de9-4c3c-9ee7-3a2855ff09d3",
   "metadata": {},
   "outputs": [],
   "source": [
    "first = 'throat'\n",
    "second = 'warbler'\n",
    "first + second"
   ]
  },
  {
   "cell_type": "code",
   "execution_count": null,
   "id": "1269d139-5e7b-4b6f-b460-f79f58e6a56e",
   "metadata": {},
   "outputs": [],
   "source": [
    "'spam' * 3"
   ]
  },
  {
   "cell_type": "markdown",
   "id": "4ffbd0fd-c3a6-4b93-a35a-5e54f3bed0c2",
   "metadata": {},
   "source": [
    "## 2.7 Comments"
   ]
  },
  {
   "cell_type": "code",
   "execution_count": null,
   "id": "cd6e8901-2217-403a-a5c4-3881d1e16b20",
   "metadata": {},
   "outputs": [],
   "source": [
    "# compute the percentage of the hour that has elapsed\n",
    "percentage = (minute * 100) / 60"
   ]
  },
  {
   "cell_type": "code",
   "execution_count": null,
   "id": "6da667bc-e357-4098-801a-14bae8a4192d",
   "metadata": {},
   "outputs": [],
   "source": [
    "percentage = (minute * 100) / 60 # percentage of an hour"
   ]
  },
  {
   "cell_type": "markdown",
   "id": "f3158483-d071-49d5-b04e-3d5d5b18f6b9",
   "metadata": {},
   "source": [
    "Good comments are about why, not about what..."
   ]
  },
  {
   "cell_type": "code",
   "execution_count": null,
   "id": "3eb9b0f0-df66-4c6d-b7cd-503ef7b228c3",
   "metadata": {},
   "outputs": [],
   "source": [
    "v = 5 # assign 5 to v"
   ]
  },
  {
   "cell_type": "code",
   "execution_count": null,
   "id": "cb88d2ec-f11a-4395-926d-86cf12a93f75",
   "metadata": {},
   "outputs": [],
   "source": [
    "v = 5 # velocity in meters/second"
   ]
  },
  {
   "cell_type": "markdown",
   "id": "bc6a25c3-8c54-4b70-bbe2-081c47ddcdf3",
   "metadata": {},
   "source": [
    "## 2.8 Debugging\n",
    "\n",
    "- syntax errors\n",
    "- runtime errors\n",
    "- semantic errors"
   ]
  },
  {
   "cell_type": "markdown",
   "id": "4465021e-8d8c-4a59-96b4-7b498cfc8d10",
   "metadata": {},
   "source": [
    "## 2.9 Glossary"
   ]
  },
  {
   "cell_type": "markdown",
   "id": "d2d271fe-05ec-4e2a-992f-f0ebce2a1afe",
   "metadata": {},
   "source": [
    "## 2.10 Exercises"
   ]
  },
  {
   "cell_type": "code",
   "execution_count": null,
   "id": "7e1d7e40-f8cb-44af-9533-71d129b7dab2",
   "metadata": {},
   "outputs": [],
   "source": []
  }
 ],
 "metadata": {
  "kernelspec": {
   "display_name": "Python 3 (ipykernel)",
   "language": "python",
   "name": "python3"
  },
  "language_info": {
   "codemirror_mode": {
    "name": "ipython",
    "version": 3
   },
   "file_extension": ".py",
   "mimetype": "text/x-python",
   "name": "python",
   "nbconvert_exporter": "python",
   "pygments_lexer": "ipython3",
   "version": "3.10.9"
  }
 },
 "nbformat": 4,
 "nbformat_minor": 5
}
