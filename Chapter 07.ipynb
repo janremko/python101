{
 "cells": [
  {
   "cell_type": "markdown",
   "id": "cb2524e8-8e96-4ae7-b8a1-45094a651292",
   "metadata": {},
   "source": [
    "# Chapter 7 Iteration"
   ]
  },
  {
   "cell_type": "markdown",
   "id": "42782d67-0b16-464e-920a-773f3480d056",
   "metadata": {},
   "source": [
    "## 7.1 Reassignment"
   ]
  },
  {
   "cell_type": "code",
   "execution_count": null,
   "id": "db1307f7-91a1-43db-9854-a2576d460bce",
   "metadata": {},
   "outputs": [],
   "source": [
    "x = 5\n",
    "x"
   ]
  },
  {
   "cell_type": "code",
   "execution_count": null,
   "id": "96642823-f749-423c-9557-5caedb7affdb",
   "metadata": {},
   "outputs": [],
   "source": [
    "x = 7\n",
    "x"
   ]
  },
  {
   "cell_type": "markdown",
   "id": "11ac63bc-5e6f-413f-a466-fa5d7716248b",
   "metadata": {},
   "source": [
    "= is assignment not equality. In math equality is a symetric relationship $a = 7$ and $7 = a$. In Python a = 7 is legal and 7 = a is not."
   ]
  },
  {
   "cell_type": "code",
   "execution_count": null,
   "id": "6a4bc9fd-caf3-4229-be53-fe31e8e1d2eb",
   "metadata": {},
   "outputs": [],
   "source": [
    "a = 5\n",
    "b = a\n",
    "b"
   ]
  },
  {
   "cell_type": "code",
   "execution_count": null,
   "id": "9eb268ad-c0d6-400a-af88-3bd0cdd5a110",
   "metadata": {},
   "outputs": [],
   "source": [
    "a = 3\n",
    "b"
   ]
  },
  {
   "cell_type": "markdown",
   "id": "68c88d76-5edf-4c25-bdf7-f29f399d9892",
   "metadata": {},
   "source": [
    " Reassignment can be useful, but use with caution!"
   ]
  },
  {
   "cell_type": "markdown",
   "id": "17013a3e-f585-4fc5-96ee-c306f4ded6d4",
   "metadata": {},
   "source": [
    "## 7.2 Updating variables"
   ]
  },
  {
   "cell_type": "code",
   "execution_count": null,
   "id": "d9fd9b6d-fe43-4d0b-af17-f0cfbecbebf1",
   "metadata": {},
   "outputs": [],
   "source": [
    "del x"
   ]
  },
  {
   "cell_type": "code",
   "execution_count": null,
   "id": "e58ab0d1-f556-4799-a932-fdc975454a48",
   "metadata": {},
   "outputs": [],
   "source": [
    "x = x + 1"
   ]
  },
  {
   "cell_type": "code",
   "execution_count": null,
   "id": "652f32a2-2878-4e73-b3a5-76acc02a36e1",
   "metadata": {},
   "outputs": [],
   "source": [
    "x = 0\n",
    "x = x + 1\n",
    "x"
   ]
  },
  {
   "cell_type": "code",
   "execution_count": null,
   "id": "8c35d1bc-8bfa-4225-9550-b849e2e63a45",
   "metadata": {},
   "outputs": [],
   "source": [
    "x += 1 # incrementing\n",
    "x"
   ]
  },
  {
   "cell_type": "code",
   "execution_count": null,
   "id": "94bf8689-beb3-40a2-b733-5e2aeb6344c6",
   "metadata": {},
   "outputs": [],
   "source": [
    "x -= 1 # decrementing\n",
    "x"
   ]
  },
  {
   "cell_type": "markdown",
   "id": "62b05786-627d-4414-824a-74768e1a39cd",
   "metadata": {},
   "source": [
    "## 7.3 The while statement"
   ]
  },
  {
   "cell_type": "code",
   "execution_count": null,
   "id": "56c92439-b189-42b4-9608-ce496a1b3806",
   "metadata": {},
   "outputs": [],
   "source": [
    "# let's iterate with while\n",
    "\n",
    "def countdown(n):\n",
    "    while n > 0:\n",
    "        print(n)\n",
    "        n = n - 1\n",
    "    print('Blastoff!')\n",
    "    \n",
    "countdown(5)"
   ]
  },
  {
   "cell_type": "markdown",
   "id": "03059841-ea0d-4eb9-add4-87c94a28f105",
   "metadata": {},
   "source": [
    "Be sure not to end upp with an infinite loop!!"
   ]
  },
  {
   "cell_type": "code",
   "execution_count": null,
   "id": "075cc153-3459-47d3-94af-326e416249c5",
   "metadata": {},
   "outputs": [],
   "source": [
    "def sequence(n): # Collatz\n",
    "    while n != 1:\n",
    "        print(n)\n",
    "        if n % 2 == 0:\n",
    "            n = n // 2\n",
    "        else:\n",
    "            n = n * 3 + 1\n",
    "            \n",
    "sequence(14)"
   ]
  },
  {
   "cell_type": "markdown",
   "id": "9773a779-a459-42dc-9ecb-2b8b146261d4",
   "metadata": {},
   "source": [
    "## 7.4 break"
   ]
  },
  {
   "cell_type": "code",
   "execution_count": null,
   "id": "7f9c0d54-76d5-4450-91a6-c09078c882a2",
   "metadata": {},
   "outputs": [],
   "source": [
    "while True:\n",
    "    line = input('> ')\n",
    "    if line == 'done':\n",
    "        break\n",
    "    print(line)\n",
    "print('Done!')"
   ]
  },
  {
   "cell_type": "markdown",
   "id": "7267d70b-825c-4bff-8a71-3775b2034d3f",
   "metadata": {},
   "source": [
    "## 7.5 Square roots\n",
    "\n",
    "Newton's method for calculating square roots:\n",
    "\n",
    "$$y=\\frac{x + a/x}{2}$$"
   ]
  },
  {
   "cell_type": "code",
   "execution_count": null,
   "id": "e4b2f088-1d59-4363-ba01-03b3c8a4543f",
   "metadata": {},
   "outputs": [],
   "source": [
    "a = 4\n",
    "x = 3\n",
    "while True:\n",
    "    print(x)\n",
    "    y = (x + a/x) / 2\n",
    "    if y == x:\n",
    "        break\n",
    "    x = y"
   ]
  },
  {
   "cell_type": "code",
   "execution_count": null,
   "id": "f0be9923-2a7f-443f-9990-00da46be1f2e",
   "metadata": {},
   "outputs": [],
   "source": [
    "# checking for equality with floats is tricky\n",
    "epsilon = 0.0000001\n",
    "a = 100\n",
    "x = 3\n",
    "while True:\n",
    "    print(x)\n",
    "    y = (x + a/x) / 2\n",
    "    if abs(y-x) < epsilon:\n",
    "        break\n",
    "    x = y"
   ]
  },
  {
   "cell_type": "markdown",
   "id": "e9d80fdb-ab06-4a3f-9f46-c5114794dae5",
   "metadata": {},
   "source": [
    "## 7.6 Algorithms\n",
    "\n",
    "An **algorithm** is a mechanical process for solving a category of problems.\n",
    "\n",
    "Executing algorithms is boring, but designing them is interesting and intellectually challenging."
   ]
  },
  {
   "cell_type": "markdown",
   "id": "5f0c9442-3edb-4b54-af20-b63d82a5b885",
   "metadata": {},
   "source": [
    "## 7.7 Debugging"
   ]
  },
  {
   "cell_type": "markdown",
   "id": "d20eb83e-dc00-44d8-9838-068112aad768",
   "metadata": {},
   "source": [
    "## 7.8 Glossary"
   ]
  },
  {
   "cell_type": "markdown",
   "id": "8e5df205-bce3-46a9-8036-595b5c005d48",
   "metadata": {},
   "source": [
    "## 7.9 Exercises"
   ]
  },
  {
   "cell_type": "code",
   "execution_count": null,
   "id": "28901696-afb2-4b2a-b721-839b7d88179c",
   "metadata": {},
   "outputs": [],
   "source": []
  }
 ],
 "metadata": {
  "kernelspec": {
   "display_name": "Python 3 (ipykernel)",
   "language": "python",
   "name": "python3"
  },
  "language_info": {
   "codemirror_mode": {
    "name": "ipython",
    "version": 3
   },
   "file_extension": ".py",
   "mimetype": "text/x-python",
   "name": "python",
   "nbconvert_exporter": "python",
   "pygments_lexer": "ipython3",
   "version": "3.10.9"
  }
 },
 "nbformat": 4,
 "nbformat_minor": 5
}
