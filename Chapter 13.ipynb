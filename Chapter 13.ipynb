{
 "cells": [
  {
   "cell_type": "markdown",
   "id": "41b8e92a-7ee6-4e81-baa7-7fe17ccc5ba5",
   "metadata": {},
   "source": [
    "# Chapter 13 Case study: data structure selection"
   ]
  },
  {
   "cell_type": "markdown",
   "id": "4141f9d0-dac8-41cf-beb5-84763c4a0758",
   "metadata": {},
   "source": [
    "# 13.1 Word frequency analysis\n",
    "\n",
    "Nice exercises!"
   ]
  },
  {
   "cell_type": "markdown",
   "id": "54d50229-ac39-443e-a8fc-d08d8499a90d",
   "metadata": {},
   "source": [
    "## 13.2 Random numbers\n",
    "\n",
    "A note on determinism and pseudorandom numbers"
   ]
  },
  {
   "cell_type": "code",
   "execution_count": null,
   "id": "34df42b1-75a7-4c4e-91fe-61ef39566709",
   "metadata": {},
   "outputs": [],
   "source": [
    "import random\n",
    "\n",
    "for i in range(10):\n",
    "    x = random.random()\n",
    "    print(x)"
   ]
  },
  {
   "cell_type": "code",
   "execution_count": null,
   "id": "93f7727c-5cd8-4ca4-af4e-913ac0139faf",
   "metadata": {},
   "outputs": [],
   "source": [
    "random.randint(5, 10)"
   ]
  },
  {
   "cell_type": "code",
   "execution_count": null,
   "id": "a4b0752d-2f1c-42e2-8c3e-1d0b6c50700d",
   "metadata": {},
   "outputs": [],
   "source": [
    "t = [1,2,3]\n",
    "random.choice(t)"
   ]
  },
  {
   "cell_type": "code",
   "execution_count": null,
   "id": "9b34c4b3-189e-4b29-9d54-39495bcc3d6a",
   "metadata": {},
   "outputs": [],
   "source": [
    "random.choice(t)"
   ]
  },
  {
   "cell_type": "code",
   "execution_count": null,
   "id": "dc04cf30-9a1b-4bba-920b-d6389bac7e01",
   "metadata": {},
   "outputs": [],
   "source": [
    "# choice() takes any sequence as input\n",
    "random.choice('janremko')"
   ]
  },
  {
   "cell_type": "markdown",
   "id": "0bf32268-4757-4bdc-a7d0-89b9e7b0ae57",
   "metadata": {},
   "source": [
    "## 13.3 Word histogram"
   ]
  },
  {
   "cell_type": "markdown",
   "id": "8b9dff62-1934-415d-b2b9-4d65aba8320d",
   "metadata": {},
   "source": [
    "## 13.4 Most common words"
   ]
  },
  {
   "cell_type": "markdown",
   "id": "fc8af164-0bf0-45ae-80d0-ea33f7452a09",
   "metadata": {},
   "source": [
    "## 13.5 Optional parameters"
   ]
  },
  {
   "cell_type": "markdown",
   "id": "61bd9dca-b8a6-4df5-9684-159d8d9cea77",
   "metadata": {},
   "source": [
    "## 13.6 Dictionary substraction"
   ]
  },
  {
   "cell_type": "markdown",
   "id": "ee98e5b0-f378-4b9c-a99c-1c527174819d",
   "metadata": {},
   "source": [
    "## 13.7 Random words"
   ]
  },
  {
   "cell_type": "markdown",
   "id": "ab7724ad-baf3-4d58-b8b9-28bdb9d4cdba",
   "metadata": {},
   "source": [
    "## 13.8 Markov analysis"
   ]
  },
  {
   "cell_type": "markdown",
   "id": "a43d9077-6f53-448d-a693-86cdf2b62944",
   "metadata": {},
   "source": [
    "## 13.9 Data structures"
   ]
  },
  {
   "cell_type": "markdown",
   "id": "12d0430f-57fd-4425-9a55-e151daca0583",
   "metadata": {},
   "source": [
    "## 13.10 Debugging\n",
    "\n",
    "Cooping with hard bugs:\n",
    "\n",
    "1. Reading\n",
    "2. Running\n",
    "3. Ruminating\n",
    "4. Rubberducking\n",
    "5. Retreating"
   ]
  },
  {
   "cell_type": "markdown",
   "id": "b364e8ff-874a-4a22-9e9e-089fab0c79a0",
   "metadata": {},
   "source": [
    "## 13.11 Glossary"
   ]
  },
  {
   "cell_type": "markdown",
   "id": "7e8cd6ea-eaac-4685-926b-7a7e5d316385",
   "metadata": {},
   "source": [
    "## 13.12 Exercises"
   ]
  },
  {
   "cell_type": "code",
   "execution_count": null,
   "id": "03a4b655-6c75-4f34-8efc-ce6b38b56897",
   "metadata": {},
   "outputs": [],
   "source": []
  }
 ],
 "metadata": {
  "kernelspec": {
   "display_name": "Python 3 (ipykernel)",
   "language": "python",
   "name": "python3"
  },
  "language_info": {
   "codemirror_mode": {
    "name": "ipython",
    "version": 3
   },
   "file_extension": ".py",
   "mimetype": "text/x-python",
   "name": "python",
   "nbconvert_exporter": "python",
   "pygments_lexer": "ipython3",
   "version": "3.10.9"
  }
 },
 "nbformat": 4,
 "nbformat_minor": 5
}
