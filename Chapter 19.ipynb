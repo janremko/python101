{
 "cells": [
  {
   "cell_type": "markdown",
   "id": "9e5e526e-01ae-463f-9b20-13dc04ca1470",
   "metadata": {},
   "source": [
    "# Chapter 19 The Goodies"
   ]
  },
  {
   "cell_type": "markdown",
   "id": "26a42888-7c3b-4111-b678-34566438fcd2",
   "metadata": {},
   "source": [
    "## 19.1 Conditional expressions"
   ]
  },
  {
   "cell_type": "code",
   "execution_count": null,
   "id": "409e11a9-5077-483e-b55a-528f97a0906f",
   "metadata": {},
   "outputs": [],
   "source": [
    "import math\n",
    "\n",
    "x = -1\n",
    "\n",
    "if x > 0:\n",
    "    y = math.log(x)\n",
    "else:\n",
    "    y = float('nan')\n",
    "    \n",
    "y"
   ]
  },
  {
   "cell_type": "code",
   "execution_count": null,
   "id": "6f6d07a8-2f06-4788-b129-8fe0c588450e",
   "metadata": {},
   "outputs": [],
   "source": [
    "# or more concisely with conditional expressions:\n",
    "\n",
    "x = -1\n",
    "\n",
    "y = math.log(x) if x > 0 else float('nan')\n",
    "\n",
    "y"
   ]
  },
  {
   "cell_type": "code",
   "execution_count": null,
   "id": "162361be-1102-4226-8378-92152d9e1550",
   "metadata": {},
   "outputs": [],
   "source": [
    "# recursive functions can sometimes be rewriten as conditional expressions:\n",
    "\n",
    "def factorial(n):\n",
    "    if n == 0:\n",
    "        return 1\n",
    "    else:\n",
    "        return n * factorial(n-1)\n",
    "    \n",
    "# then becomes:\n",
    "\n",
    "def factorial(n):\n",
    "    return 1 if n == 0 else n * factorial(n-1)\n",
    "\n",
    "# this almost reads like an English sentence... Pure prose!"
   ]
  },
  {
   "cell_type": "markdown",
   "id": "1a72d5e1-f157-4fbc-b1c7-d4009da8c832",
   "metadata": {},
   "source": [
    "In general, you can replace conditional statements with a conditional expression if both branches contain simple expressions that are either returned or assigned to the same variable."
   ]
  },
  {
   "cell_type": "markdown",
   "id": "e0279295-e73a-4b02-af0e-0ebd6670527a",
   "metadata": {},
   "source": [
    "## 19.2 List comprehensions"
   ]
  },
  {
   "cell_type": "code",
   "execution_count": null,
   "id": "2f58fd44-11b0-42c5-9915-4fbcd3bbdea8",
   "metadata": {},
   "outputs": [],
   "source": [
    "# Using a map pattern we can capitalize a list of strings:\n",
    "\n",
    "def capitalize_all(t):\n",
    "    res = []\n",
    "    for s in t :\n",
    "        res.append(s.capitalize())\n",
    "    return res\n",
    "\n",
    "lc = ['joram']\n",
    "\n",
    "cap = capitalize_all(lc)\n",
    "\n",
    "cap\n",
    "\n"
   ]
  },
  {
   "cell_type": "code",
   "execution_count": null,
   "id": "049df037-7cc1-40a8-99c4-29783db1e734",
   "metadata": {},
   "outputs": [],
   "source": [
    "# and now for something way better, with list comprehensions:\n",
    "\n",
    "def capitalize_all(t):\n",
    "    return [s.capitalize() for s in t] # <--- this is it!\n",
    "\n",
    "lc = ['heleen', 'fera']\n",
    "\n",
    "cap = capitalize_all(lc)\n",
    "\n",
    "cap"
   ]
  },
  {
   "cell_type": "code",
   "execution_count": null,
   "id": "3eee31b7-d55f-4e63-83b6-7fb9302c5d17",
   "metadata": {},
   "outputs": [],
   "source": [
    "# Filtering:\n",
    "\n",
    "# Original\n",
    "def only_upper(t):\n",
    "    res = []\n",
    "    for s in t:\n",
    "        if s.isupper():\n",
    "            res.append(s)\n",
    "    return res\n",
    "\n",
    "only_upper('Jan Remko')"
   ]
  },
  {
   "cell_type": "code",
   "execution_count": null,
   "id": "c748873c-b1e0-4c00-9a43-309b1c10ee89",
   "metadata": {},
   "outputs": [],
   "source": [
    "# now with list comprehension\n",
    "\n",
    "def only_upper(t):\n",
    "    return [s for s in t if s.isupper()]\n",
    "\n",
    "only_upper('Jasper En Roel')"
   ]
  },
  {
   "cell_type": "code",
   "execution_count": null,
   "id": "8063bdc9-4874-493c-b1f5-144e439c029b",
   "metadata": {},
   "outputs": [],
   "source": [
    "even = [i for i in range(100) if i % 2 == 0]\n",
    "even"
   ]
  },
  {
   "cell_type": "markdown",
   "id": "2f022258-24a7-4842-a934-d0c341bb30de",
   "metadata": {},
   "source": [
    "List comprehensions are:\n",
    "\n",
    "- concise and easy to read\n",
    "- usually faster than loops\n",
    "- harder to debug, no print options"
   ]
  },
  {
   "cell_type": "markdown",
   "id": "03f7126c-cfad-44ed-be53-c2cb111f1242",
   "metadata": {},
   "source": [
    "## 19.3 Generator expressions"
   ]
  },
  {
   "cell_type": "code",
   "execution_count": null,
   "id": "af84eb3a-2592-4d16-9572-a5424cbf646b",
   "metadata": {},
   "outputs": [],
   "source": [
    "g = (x**2 for x in range(5))\n",
    "g"
   ]
  },
  {
   "cell_type": "code",
   "execution_count": null,
   "id": "a0c6ee65-14e4-4eab-9e28-360d49a249ad",
   "metadata": {},
   "outputs": [],
   "source": [
    "next(g)"
   ]
  },
  {
   "cell_type": "code",
   "execution_count": null,
   "id": "370743bd-23f0-453b-b2ed-e778804cdfd9",
   "metadata": {},
   "outputs": [],
   "source": [
    "\n",
    "next(g)"
   ]
  },
  {
   "cell_type": "code",
   "execution_count": null,
   "id": "8de20cd3-b973-4dd4-a388-4b9eb6e74066",
   "metadata": {},
   "outputs": [],
   "source": [
    "for val in g:\n",
    "    print(val)"
   ]
  },
  {
   "cell_type": "code",
   "execution_count": null,
   "id": "782dcb2d-39d4-46ab-afe2-2096fb53787b",
   "metadata": {},
   "outputs": [],
   "source": [
    "next(g)"
   ]
  },
  {
   "cell_type": "code",
   "execution_count": null,
   "id": "9151e59b-88bb-4702-97f8-c322823852f0",
   "metadata": {},
   "outputs": [],
   "source": [
    "# generator expressions are often used with aggregation functions like sum, max and min\n",
    "\n",
    "sum(x**2 for x in range(5))"
   ]
  },
  {
   "cell_type": "markdown",
   "id": "c2626ae3-5e41-4fa7-b416-e19af4a7fe85",
   "metadata": {},
   "source": [
    "# 19.4 `any` and `all`"
   ]
  },
  {
   "cell_type": "code",
   "execution_count": null,
   "id": "f1483b9a-4d3a-4e16-855b-f95427054393",
   "metadata": {},
   "outputs": [],
   "source": [
    "any([False, False, True])"
   ]
  },
  {
   "cell_type": "code",
   "execution_count": null,
   "id": "c590485a-51ef-458f-90ae-322b47965ea8",
   "metadata": {},
   "outputs": [],
   "source": [
    "any([0,0,1])"
   ]
  },
  {
   "cell_type": "code",
   "execution_count": null,
   "id": "c644976a-ff61-49b9-8fed-ae1a749275ff",
   "metadata": {},
   "outputs": [],
   "source": [
    "any([0,0])"
   ]
  },
  {
   "cell_type": "code",
   "execution_count": null,
   "id": "b16e773c-be5b-4ff1-8505-85a4ccff8332",
   "metadata": {},
   "outputs": [],
   "source": [
    "any(letter == 't' for letter in 'monty')"
   ]
  },
  {
   "cell_type": "code",
   "execution_count": null,
   "id": "76a5228c-b8bd-4701-96f2-f37fa7046b49",
   "metadata": {},
   "outputs": [],
   "source": [
    "def avoids(word, forbidden):\n",
    "    return not any(letter in forbidden for letter in word)\n",
    "\n",
    "avoids('abc', 'jan remko')"
   ]
  },
  {
   "cell_type": "code",
   "execution_count": null,
   "id": "25c89ea5-3729-40c6-8a87-11e719b0fe11",
   "metadata": {},
   "outputs": [],
   "source": [
    "avoids('bcd', 'jan remko')"
   ]
  },
  {
   "cell_type": "code",
   "execution_count": null,
   "id": "27eea074-40fb-4b0d-b79f-da77e80f1046",
   "metadata": {},
   "outputs": [],
   "source": [
    "all([True, True])"
   ]
  },
  {
   "cell_type": "code",
   "execution_count": null,
   "id": "8deba0a6-533f-48c0-8b6f-fab2e2fbdecf",
   "metadata": {},
   "outputs": [],
   "source": [
    "all([True, False])"
   ]
  },
  {
   "cell_type": "markdown",
   "id": "815baf45-08ad-454d-871b-eed72d7e9728",
   "metadata": {},
   "source": [
    "## 19.5 Sets"
   ]
  },
  {
   "cell_type": "code",
   "execution_count": null,
   "id": "8e50ed97-6531-48fe-b59e-ce2d9041fa6b",
   "metadata": {},
   "outputs": [],
   "source": [
    "def has_duplicates(t): # t is a dictionary\n",
    "    d = {}\n",
    "    for x in t:\n",
    "        if x in d:\n",
    "             return True\n",
    "        d[x] = True\n",
    "    return False\n",
    "\n",
    "has_duplicates('jan remko yntema')"
   ]
  },
  {
   "cell_type": "code",
   "execution_count": null,
   "id": "58c4f8b8-7df5-40df-90bb-7db24252bab8",
   "metadata": {},
   "outputs": [],
   "source": [
    "def has_duplicates(t):\n",
    "    return len(set(t)) < len(t)\n",
    "\n",
    "has_duplicates('jan remko yntema')"
   ]
  },
  {
   "cell_type": "code",
   "execution_count": null,
   "id": "c38680a1-1d18-48ea-8f02-e5eb5afea323",
   "metadata": {},
   "outputs": [],
   "source": [
    "has_duplicates('abç')"
   ]
  },
  {
   "cell_type": "markdown",
   "id": "1c196cf2-3a9c-4656-a6f8-a011cfc42d18",
   "metadata": {},
   "source": [
    "## 19.6 Counters"
   ]
  },
  {
   "cell_type": "code",
   "execution_count": null,
   "id": "0afb84cf-cd99-491a-93a4-1f53e653252e",
   "metadata": {},
   "outputs": [],
   "source": [
    "# counters are like a mathematical multiset\n",
    "from collections import Counter\n",
    "\n",
    "count = Counter('parrot')\n",
    "count"
   ]
  },
  {
   "cell_type": "code",
   "execution_count": null,
   "id": "d3b7e879-69f9-4042-b2a9-e59b62b965d6",
   "metadata": {},
   "outputs": [],
   "source": [
    "count['p']"
   ]
  },
  {
   "cell_type": "code",
   "execution_count": null,
   "id": "481e50f4-9c8a-452f-a4e0-7b3edbef6697",
   "metadata": {},
   "outputs": [],
   "source": [
    "count['d']  # no exception with non-existing indices"
   ]
  },
  {
   "cell_type": "code",
   "execution_count": null,
   "id": "fbd95c95-1b0c-452a-9e70-0e7c8bbc576c",
   "metadata": {},
   "outputs": [],
   "source": [
    "# counters provide most of the methods which are also available for sets\n",
    "# and a very useful most_common() method:\n",
    "\n",
    "count = Counter('parrot')\n",
    "for val, freq in count.most_common(3):\n",
    "    print(val, freq)"
   ]
  },
  {
   "cell_type": "markdown",
   "id": "2343b116-0f8c-4e16-bb78-c47d1ced07e5",
   "metadata": {},
   "source": [
    "## 19.7 defaultdict\n",
    "\n",
    "defaultdict is like a dictionary except that if you access a key that doesn't exist, it can generate a new value on the fly. The defaultdict does this by using a **factory** functions which you provide when creating the object."
   ]
  },
  {
   "cell_type": "code",
   "execution_count": null,
   "id": "b65ab7d4-8b6d-4796-b99c-fb213c2e9230",
   "metadata": {},
   "outputs": [],
   "source": [
    "from collections import defaultdict\n",
    "\n",
    "d = defaultdict(list) ## list is not a function, but the class list which provides the list() function\n",
    "t = d['new key']\n",
    "t"
   ]
  },
  {
   "cell_type": "code",
   "execution_count": null,
   "id": "ad34b33f-c66c-4e3b-8f7d-5eae163078b7",
   "metadata": {},
   "outputs": [],
   "source": [
    "d"
   ]
  },
  {
   "cell_type": "code",
   "execution_count": null,
   "id": "7c88b317-a92f-49aa-baf8-5aaca29f7b28",
   "metadata": {},
   "outputs": [],
   "source": [
    "t.append(\"new value\")"
   ]
  },
  {
   "cell_type": "code",
   "execution_count": null,
   "id": "56eb116e-d017-425e-9d5c-5c9a1edd2de2",
   "metadata": {},
   "outputs": [],
   "source": [
    "d"
   ]
  },
  {
   "cell_type": "code",
   "execution_count": null,
   "id": "a02f5fad-0893-4067-975c-2f0c09b41853",
   "metadata": {},
   "outputs": [],
   "source": [
    "d['new key'].append('wrong falue') \n",
    "d"
   ]
  },
  {
   "cell_type": "markdown",
   "id": "3f27e63a-5480-4b2d-91bb-e6e23267cd84",
   "metadata": {},
   "source": [
    "## 19.8 Named tuples"
   ]
  },
  {
   "cell_type": "code",
   "execution_count": null,
   "id": "79162300-582c-4191-8f4d-f48851d92a16",
   "metadata": {},
   "outputs": [],
   "source": [
    "class Point:\n",
    "    def __init__(self, x=0, y=0):\n",
    "        self.x = x\n",
    "        self.y = y\n",
    "        \n",
    "    def __str__(self):\n",
    "        return '(%g,, %g)' % (self.x, self.y)"
   ]
  },
  {
   "cell_type": "code",
   "execution_count": null,
   "id": "3fb8cadd-40a3-4bf0-97b2-3704a3352e46",
   "metadata": {},
   "outputs": [],
   "source": [
    "# a more concise way to do the same, is by using a namedtuple:\n",
    "\n",
    "from collections import namedtuple\n",
    "\n",
    "Point = namedtuple('Point', ['x', 'y'])\n",
    "Point"
   ]
  },
  {
   "cell_type": "code",
   "execution_count": null,
   "id": "4e7f67b2-20c1-442e-8211-4b6e41ef69f3",
   "metadata": {},
   "outputs": [],
   "source": [
    "p = Point(1,2)\n",
    "p"
   ]
  },
  {
   "cell_type": "code",
   "execution_count": null,
   "id": "15b7c598-c5b1-4137-b06e-632e82ecb9ff",
   "metadata": {},
   "outputs": [],
   "source": [
    "# access the attributes\n",
    "p.x, p.y"
   ]
  },
  {
   "cell_type": "code",
   "execution_count": null,
   "id": "1d5d679c-b5b1-4785-b700-44af0ddcfdfd",
   "metadata": {},
   "outputs": [],
   "source": [
    "# access like a tuple\n",
    "p[0], p[1]"
   ]
  },
  {
   "cell_type": "code",
   "execution_count": null,
   "id": "71aefb81-282d-4ad1-ade1-115dd2989b1d",
   "metadata": {},
   "outputs": [],
   "source": [
    "a, b = p\n",
    "a, b"
   ]
  },
  {
   "cell_type": "code",
   "execution_count": null,
   "id": "8757f83f-9f7a-40e8-a027-84cd87947bce",
   "metadata": {},
   "outputs": [],
   "source": [
    "# named tuples  provide a quick way to define simple classes, more complex cases can be covered by inheritance:\n",
    "\n",
    "class Pointier(Point):\n",
    "    # add something\n",
    "    "
   ]
  },
  {
   "cell_type": "markdown",
   "id": "7bb8b7bb-e155-44b6-b9e5-fa5b3a6c9009",
   "metadata": {},
   "source": [
    "## 19.9 Gathering keyword args"
   ]
  },
  {
   "cell_type": "code",
   "execution_count": null,
   "id": "094b09c8-0897-46d5-a0ed-505fa57db9fb",
   "metadata": {},
   "outputs": [],
   "source": [
    "def printall(*args):\n",
    "    print(args)"
   ]
  },
  {
   "cell_type": "code",
   "execution_count": null,
   "id": "aef29eb5-0ebe-4c63-ae3d-b157b17ec51e",
   "metadata": {},
   "outputs": [],
   "source": [
    "printall(1, 2.0, '3')"
   ]
  },
  {
   "cell_type": "code",
   "execution_count": null,
   "id": "049c9ebe-0d25-4302-881a-2d2e3a73690b",
   "metadata": {},
   "outputs": [],
   "source": [
    "printall(1, 2.0, third='3')"
   ]
  },
  {
   "cell_type": "code",
   "execution_count": null,
   "id": "6954c38d-15c3-431c-9ff4-9a20fbae6c85",
   "metadata": {},
   "outputs": [],
   "source": [
    "def printall(*args, **kwargs):\n",
    "    print(args, kwargs)"
   ]
  },
  {
   "cell_type": "code",
   "execution_count": null,
   "id": "b4d0178c-2c94-4813-8656-8741059ca604",
   "metadata": {},
   "outputs": [],
   "source": [
    "printall(1, 2.0, third='3')"
   ]
  },
  {
   "cell_type": "code",
   "execution_count": null,
   "id": "98a5c059-02a2-438d-b9d7-55e8add042f1",
   "metadata": {},
   "outputs": [],
   "source": [
    "printall(1, second=2.0, '3')"
   ]
  },
  {
   "cell_type": "code",
   "execution_count": null,
   "id": "04b65e3a-ddb6-4ccd-871f-538866b1ccb7",
   "metadata": {},
   "outputs": [],
   "source": [
    "# when used as a scatter operator ** is able to pass values to functions:\n",
    "\n",
    "d = dict(x=1, y=2)\n",
    "q = Point(**d)\n",
    "q"
   ]
  },
  {
   "cell_type": "code",
   "execution_count": null,
   "id": "ac653e6b-5407-49e9-8612-52f9c46c66bd",
   "metadata": {},
   "outputs": [],
   "source": [
    "r = Point(d)"
   ]
  },
  {
   "cell_type": "markdown",
   "id": "840da2ac-76a7-4389-b160-9d7c3bb57f13",
   "metadata": {},
   "source": [
    "## 19.10 Glossary"
   ]
  },
  {
   "cell_type": "markdown",
   "id": "1014b1d2-3e4d-44ee-995b-c251db84cef7",
   "metadata": {},
   "source": [
    "## 19.11 Exercises"
   ]
  },
  {
   "cell_type": "code",
   "execution_count": null,
   "id": "6a5b8ca0-73dc-460e-8698-6e51b9890c6b",
   "metadata": {},
   "outputs": [],
   "source": []
  }
 ],
 "metadata": {
  "kernelspec": {
   "display_name": "Python 3 (ipykernel)",
   "language": "python",
   "name": "python3"
  },
  "language_info": {
   "codemirror_mode": {
    "name": "ipython",
    "version": 3
   },
   "file_extension": ".py",
   "mimetype": "text/x-python",
   "name": "python",
   "nbconvert_exporter": "python",
   "pygments_lexer": "ipython3",
   "version": "3.10.9"
  }
 },
 "nbformat": 4,
 "nbformat_minor": 5
}
