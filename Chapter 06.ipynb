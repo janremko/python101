{
 "cells": [
  {
   "cell_type": "markdown",
   "id": "23625408-8353-48fe-a63e-ccd58eb3161a",
   "metadata": {},
   "source": [
    "# Chapter 6 Fruitful functions"
   ]
  },
  {
   "cell_type": "markdown",
   "id": "7fccf618-381e-49f1-877b-950375644765",
   "metadata": {},
   "source": [
    "## 6.1 Return values"
   ]
  },
  {
   "cell_type": "code",
   "execution_count": null,
   "id": "2dcb0c98-70c9-4808-b637-438a21084fd2",
   "metadata": {},
   "outputs": [],
   "source": [
    "import math\n",
    "e = math.exp(1.0)\n",
    "e"
   ]
  },
  {
   "cell_type": "code",
   "execution_count": null,
   "id": "3d2d6eca-27a9-4aa9-bbc6-364390472696",
   "metadata": {},
   "outputs": [],
   "source": [
    "# our first fruitful function\n",
    "def area(radius):\n",
    "    a = math.pi * radius**2\n",
    "    return a\n",
    "\n",
    "area(10)"
   ]
  },
  {
   "cell_type": "code",
   "execution_count": null,
   "id": "65e1c012-b8a1-46e8-8b06-959684aa3b68",
   "metadata": {},
   "outputs": [],
   "source": [
    "# or more concisely\n",
    "def area(radius):\n",
    "    return math.pi * radius**2\n",
    "\n",
    "area(8)"
   ]
  },
  {
   "cell_type": "code",
   "execution_count": null,
   "id": "0f2af9e3-d46e-46af-879f-f13066d5bd36",
   "metadata": {},
   "outputs": [],
   "source": [
    "# multiple return statements\n",
    "def absolute_value(x):\n",
    "    if x < 0:\n",
    "        return -x\n",
    "    else:\n",
    "        return x\n",
    "\n",
    "absolute_value(-2)"
   ]
  },
  {
   "cell_type": "code",
   "execution_count": null,
   "id": "de98f20d-f7cc-4d89-ba2a-c558229c46d1",
   "metadata": {},
   "outputs": [],
   "source": [
    "# In a fruitful function every possible path should hit a return statement\n",
    "def absolute_value(x):\n",
    "    if x < 0:\n",
    "        return -x\n",
    "    if x > 0:\n",
    "        return x\n",
    "    \n",
    "print(absolute_value(0))"
   ]
  },
  {
   "cell_type": "markdown",
   "id": "076604ff-7911-435c-b8fd-69ece44478ae",
   "metadata": {},
   "source": [
    "## 6.2 Incremental development"
   ]
  },
  {
   "cell_type": "markdown",
   "id": "65630ad0-4928-4d2e-9cfe-92c6a51b1e13",
   "metadata": {},
   "source": [
    "Let's create a function to find the distance between two points by using the Pythagorean theorem:\n",
    "\n",
    "\n",
    "$$\n",
    "distance = \\sqrt{(x_2 - x_1)^2+(y_2 - y_1)^2}\n",
    "$$"
   ]
  },
  {
   "cell_type": "code",
   "execution_count": null,
   "id": "d83333e4-7887-4c69-b9a7-0fc24a77bd81",
   "metadata": {},
   "outputs": [],
   "source": [
    "# version 0.1\n",
    "def distance(x1, y1, x2, y2):\n",
    "    return 0.0\n",
    "\n",
    "distance(1, 2, 4, 6)"
   ]
  },
  {
   "cell_type": "code",
   "execution_count": null,
   "id": "43e6673b-9933-4e00-92ff-b24de747a711",
   "metadata": {},
   "outputs": [],
   "source": [
    "# version 0.4\n",
    "def distance(x1, y1, x2, y2):\n",
    "    dx = x2 - x1\n",
    "    dy = y2 - y1\n",
    "    print('dx is ', dx)\n",
    "    print('dy is ', dy)\n",
    "    return 0.0\n",
    "\n",
    "distance(1, 2, 4, 6)"
   ]
  },
  {
   "cell_type": "code",
   "execution_count": null,
   "id": "9aa3d93c-db03-4754-8653-31ecdd81462a",
   "metadata": {},
   "outputs": [],
   "source": [
    "# version 0.8\n",
    "def distance(x1, y1, x2, y2):\n",
    "    dx = x2 - x1\n",
    "    dy = y2 - y1\n",
    "    dsquared = dx**2 + dy**2\n",
    "    print('dsquared is: ', dsquared)\n",
    "    return 0.0\n",
    "\n",
    "distance(1, 2, 4, 6)"
   ]
  },
  {
   "cell_type": "code",
   "execution_count": null,
   "id": "5dcf6064-c32a-41bf-a25e-31a19269920a",
   "metadata": {},
   "outputs": [],
   "source": [
    "# version 1.0\n",
    "def distance(x1, y1, x2, y2):\n",
    "    dx = x2 - x1\n",
    "    dy = y2 - y1\n",
    "    dsquared = dx**2 + dy**2\n",
    "    result = math.sqrt(dsquared)\n",
    "    return result\n",
    "\n",
    "distance(1, 2, 4, 6)"
   ]
  },
  {
   "cell_type": "markdown",
   "id": "ecc73ad2-ca89-4f29-a568-8d181866b92b",
   "metadata": {},
   "source": [
    "## 6.3 Composition\n",
    "\n",
    "If we want to calculate the area of a circle for which we know the center point and a point on the perimeter we can use composition to create a function to do so."
   ]
  },
  {
   "cell_type": "code",
   "execution_count": null,
   "id": "cff36db9-4f0f-4c9d-8974-0ecba1355573",
   "metadata": {},
   "outputs": [],
   "source": [
    "def circle_area(xc, yc, xp, yp):\n",
    "    radius = distance(xc, yc, xp, yp)\n",
    "    result = area(radius)\n",
    "    return result\n",
    "\n",
    "circle_area(1,1,6,6)"
   ]
  },
  {
   "cell_type": "code",
   "execution_count": null,
   "id": "d4efe27a-7bf4-4688-a438-e9566b55b3bb",
   "metadata": {},
   "outputs": [],
   "source": [
    "# or more concise\n",
    "def circle_area(xc, yc, xp, yp):\n",
    "    return area(distance(xc, yc, xp, yp))\n",
    "\n",
    "circle_area(1,1,6,6)"
   ]
  },
  {
   "cell_type": "markdown",
   "id": "ffbb330d-6870-40cc-bbdd-3befbae558c7",
   "metadata": {},
   "source": [
    "## 6.4 Boolean functions"
   ]
  },
  {
   "cell_type": "code",
   "execution_count": null,
   "id": "51c41b42-7e7b-4811-a066-c2e65d2d8cda",
   "metadata": {},
   "outputs": [],
   "source": [
    "def is_divisible(x, y):\n",
    "    if x % y == 0:\n",
    "        return True\n",
    "    else:\n",
    "        return False"
   ]
  },
  {
   "cell_type": "code",
   "execution_count": null,
   "id": "db24db79-2fd6-43d0-92f4-6ca954cf3ee8",
   "metadata": {},
   "outputs": [],
   "source": [
    "is_divisible(8,2)"
   ]
  },
  {
   "cell_type": "code",
   "execution_count": null,
   "id": "cb992052-b751-4113-af55-c09681857b28",
   "metadata": {},
   "outputs": [],
   "source": [
    "# or more concisely\n",
    "def is_divisible(x, y):\\\n",
    "    return x % y == 0\n",
    "\n",
    "is_divisible(8,2)"
   ]
  },
  {
   "cell_type": "code",
   "execution_count": null,
   "id": "9ea418ff-f72e-4e4d-9b56-c71c25f514b0",
   "metadata": {},
   "outputs": [],
   "source": [
    "is_divisible(8,3)"
   ]
  },
  {
   "cell_type": "markdown",
   "id": "25dc2fe9-70f3-4273-999f-c0310d962958",
   "metadata": {},
   "source": [
    "Boolean functions are often used in conditional statements:"
   ]
  },
  {
   "cell_type": "code",
   "execution_count": null,
   "id": "a79c8796-eafc-4b02-b28b-f1325cd8c5c7",
   "metadata": {},
   "outputs": [],
   "source": [
    "x = y = 5\n",
    "if is_divisible(x, y):\n",
    "    print('x is divisible by y')"
   ]
  },
  {
   "cell_type": "code",
   "execution_count": null,
   "id": "b80d2506-f86a-4862-abe7-4316f326a7ad",
   "metadata": {},
   "outputs": [],
   "source": [
    "# this is redundant:\n",
    "if is_divisible(x, y) == True:\n",
    "    print('x is divisible by y')"
   ]
  },
  {
   "cell_type": "markdown",
   "id": "f6179faf-3546-48b2-bc1e-88f19405be95",
   "metadata": {},
   "source": [
    "## 6.5 More recursion"
   ]
  },
  {
   "cell_type": "code",
   "execution_count": null,
   "id": "d592c2a6-bd24-4233-b866-f75d315b60fd",
   "metadata": {},
   "outputs": [],
   "source": [
    "def factorial(n):\n",
    "    if n == 0:\n",
    "        return 1\n",
    "    else:\n",
    "        recurse = factorial(n-1)\n",
    "        result = n * recurse\n",
    "        return result\n",
    "    \n",
    "factorial(3)"
   ]
  },
  {
   "cell_type": "code",
   "execution_count": null,
   "id": "f336d912-23bb-4ab0-bda1-75d001ac16ac",
   "metadata": {},
   "outputs": [],
   "source": [
    "# or more concise\n",
    "def factorial(n):\n",
    "    if n == 0:\n",
    "        return 1\n",
    "    else: \n",
    "        return n * factorial(n-1)\n",
    "    \n",
    "factorial(3)"
   ]
  },
  {
   "cell_type": "markdown",
   "id": "53660b38-9fd8-4bce-a163-c6002e955929",
   "metadata": {},
   "source": [
    "## 6.6 Leap of faith"
   ]
  },
  {
   "cell_type": "markdown",
   "id": "09dc1bb3-86c9-4d70-8820-669cff54e932",
   "metadata": {},
   "source": [
    "## 6.7 One more example\n",
    "\n",
    "Fibonacci"
   ]
  },
  {
   "cell_type": "markdown",
   "id": "1478880f-1940-4574-bd83-7bf0dd258d55",
   "metadata": {},
   "source": [
    "## 6.8 Checking types"
   ]
  },
  {
   "cell_type": "code",
   "execution_count": null,
   "id": "7d758bdb-6b6d-46e2-a442-a501c36fd6a7",
   "metadata": {},
   "outputs": [],
   "source": [
    "factorial(1.5)"
   ]
  },
  {
   "cell_type": "code",
   "execution_count": null,
   "id": "8c5dee25-5cb5-40dc-8a60-e6d143f835b8",
   "metadata": {},
   "outputs": [],
   "source": [
    "def factorial(n):\n",
    "    if not isinstance(n, int): # guardian\n",
    "        print('Factorial is only defined for integers.')\n",
    "        return None\n",
    "    elif n < 0: # guardian\n",
    "        print('Factorial is not defined for negative integers.')\n",
    "        return None\n",
    "    elif n == 0:\n",
    "        return 1\n",
    "    else:\n",
    "        return n * factorial(n-1)\n",
    "    \n",
    "factorial('jr')"
   ]
  },
  {
   "cell_type": "code",
   "execution_count": null,
   "id": "0bfa1b02-903a-4ca5-9140-89350e0449f9",
   "metadata": {},
   "outputs": [],
   "source": [
    "factorial(1.4)"
   ]
  },
  {
   "cell_type": "code",
   "execution_count": null,
   "id": "cb852d09-f45c-4d92-9b79-bee00566460a",
   "metadata": {},
   "outputs": [],
   "source": [
    "factorial(-1)"
   ]
  },
  {
   "cell_type": "markdown",
   "id": "15a880c6-c314-45aa-af0f-83a17484b773",
   "metadata": {},
   "source": [
    "## 6.9 Debugging"
   ]
  },
  {
   "cell_type": "markdown",
   "id": "d4404efa-19ef-44fa-b27f-2ae7f296dfe0",
   "metadata": {},
   "source": [
    "## 6.10 Glossary"
   ]
  },
  {
   "cell_type": "markdown",
   "id": "dc80207a-ee58-4988-8c43-c72cd208091b",
   "metadata": {},
   "source": [
    "## 6.11 Exercises"
   ]
  },
  {
   "cell_type": "code",
   "execution_count": null,
   "id": "786f30b4-2c2f-44cb-9f82-b96ee43cf606",
   "metadata": {},
   "outputs": [],
   "source": []
  }
 ],
 "metadata": {
  "kernelspec": {
   "display_name": "Python 3 (ipykernel)",
   "language": "python",
   "name": "python3"
  },
  "language_info": {
   "codemirror_mode": {
    "name": "ipython",
    "version": 3
   },
   "file_extension": ".py",
   "mimetype": "text/x-python",
   "name": "python",
   "nbconvert_exporter": "python",
   "pygments_lexer": "ipython3",
   "version": "3.10.9"
  }
 },
 "nbformat": 4,
 "nbformat_minor": 5
}
