{
 "cells": [
  {
   "cell_type": "markdown",
   "id": "867cdf63-905f-42d8-b8b7-2fb2adb4f76f",
   "metadata": {},
   "source": [
    "# Chapter 8 Strings\n",
    "\n",
    "A string is a **sequence**, which means it is an ordered collection of values."
   ]
  },
  {
   "cell_type": "markdown",
   "id": "cf2bebde-8cc1-483f-ad9c-cf19088b0afd",
   "metadata": {},
   "source": [
    "## 8.1 A string is a sequence"
   ]
  },
  {
   "cell_type": "code",
   "execution_count": null,
   "id": "8d85dcc0-f32a-4bfe-b384-24c1ed9d6f9b",
   "metadata": {},
   "outputs": [],
   "source": [
    "fruit = 'banana'\n",
    "letter = fruit[1] # the expression in brackets is an index\n",
    "letter"
   ]
  },
  {
   "cell_type": "code",
   "execution_count": null,
   "id": "88ff6396-9cf4-45de-8eed-85091d0ab1e2",
   "metadata": {},
   "outputs": [],
   "source": [
    "letter = fruit[0]\n",
    "letter"
   ]
  },
  {
   "cell_type": "code",
   "execution_count": null,
   "id": "0a8e7115-a33c-4c4a-a2a0-921c4861d048",
   "metadata": {},
   "outputs": [],
   "source": [
    "fruit[0]"
   ]
  },
  {
   "cell_type": "code",
   "execution_count": null,
   "id": "31d014af-331a-4395-a13a-de91b66c1875",
   "metadata": {},
   "outputs": [],
   "source": [
    "i = 1\n",
    "fruit[i]"
   ]
  },
  {
   "cell_type": "code",
   "execution_count": null,
   "id": "1332bb30-6f51-45a5-a506-7f7a2293c964",
   "metadata": {},
   "outputs": [],
   "source": [
    "fruit[i+1]"
   ]
  },
  {
   "cell_type": "code",
   "execution_count": null,
   "id": "809ceb31-f13f-4dc2-b928-13d851971be8",
   "metadata": {},
   "outputs": [],
   "source": [
    "fruit[1.4]"
   ]
  },
  {
   "cell_type": "markdown",
   "id": "01f31f8d-7296-4345-a7b6-f83b7a403e11",
   "metadata": {},
   "source": [
    "## 8.2 len"
   ]
  },
  {
   "cell_type": "code",
   "execution_count": null,
   "id": "107e89eb-e8fe-4601-9c39-f27dca6e6c0e",
   "metadata": {},
   "outputs": [],
   "source": [
    "fruit = 'banana'\n",
    "len(fruit)"
   ]
  },
  {
   "cell_type": "code",
   "execution_count": null,
   "id": "686424fd-eb81-4c3f-ab40-68fa7c0ada91",
   "metadata": {},
   "outputs": [],
   "source": [
    "# tempting:\n",
    "length = len(fruit)\n",
    "last = fruit[length]"
   ]
  },
  {
   "cell_type": "code",
   "execution_count": null,
   "id": "a7fcb0f5-c9d3-4635-97be-4e7637d12566",
   "metadata": {},
   "outputs": [],
   "source": [
    "last = fruit[length-1]\n",
    "last"
   ]
  },
  {
   "cell_type": "code",
   "execution_count": null,
   "id": "b9eb34da-2bcb-4643-89de-32ab5df07a85",
   "metadata": {},
   "outputs": [],
   "source": [
    "fruit[-1]"
   ]
  },
  {
   "cell_type": "markdown",
   "id": "4609ccff-e943-4f0a-a62c-1bbf6a3e6c02",
   "metadata": {},
   "source": [
    "## 8.3 Traversal with a for loop"
   ]
  },
  {
   "cell_type": "code",
   "execution_count": null,
   "id": "f08b369d-be67-4fb5-8a53-58ce034166f8",
   "metadata": {},
   "outputs": [],
   "source": [
    "# traversing with a while-loop\n",
    "index = 0\n",
    "while index < len(fruit):\n",
    "    letter = fruit[index]\n",
    "    print(letter)\n",
    "    index = index + 1"
   ]
  },
  {
   "cell_type": "code",
   "execution_count": null,
   "id": "cb36fff0-e7b5-49ac-b6d5-b12a321abbe7",
   "metadata": {},
   "outputs": [],
   "source": [
    "# traversing with a for-loop:\n",
    "for letter in fruit:\n",
    "    print(letter)"
   ]
  },
  {
   "cell_type": "code",
   "execution_count": null,
   "id": "6b32cf7a-8d54-4765-811d-c667e59ccc40",
   "metadata": {},
   "outputs": [],
   "source": [
    "# generate the duckling names from Robert McClosky's Make Way for Ducklings\n",
    "prefixes = 'JKLMNOPQ'\n",
    "suffix = 'ack'\n",
    "\n",
    "for letter in prefixes:\n",
    "    print(letter + suffix)"
   ]
  },
  {
   "cell_type": "markdown",
   "id": "f3dd8f17-912c-4799-972b-7bab79cd6ebe",
   "metadata": {},
   "source": [
    "## 8.4 String slices"
   ]
  },
  {
   "cell_type": "code",
   "execution_count": null,
   "id": "e944391e-eef0-4b51-9bbe-26f066492fc4",
   "metadata": {},
   "outputs": [],
   "source": [
    "s = 'Monty Python'\n",
    "s[0:5]"
   ]
  },
  {
   "cell_type": "code",
   "execution_count": null,
   "id": "159dc4c9-f666-4a37-9e0d-5676f78ce668",
   "metadata": {},
   "outputs": [],
   "source": [
    "s[6:12]"
   ]
  },
  {
   "cell_type": "code",
   "execution_count": null,
   "id": "99f167c2-5816-419d-9ec9-0c278094185a",
   "metadata": {},
   "outputs": [],
   "source": [
    "s[:5]"
   ]
  },
  {
   "cell_type": "code",
   "execution_count": null,
   "id": "7e98e08c-4383-4f0f-b03c-322acc101874",
   "metadata": {},
   "outputs": [],
   "source": [
    "s[6:]"
   ]
  },
  {
   "cell_type": "code",
   "execution_count": null,
   "id": "d72eb2fa-af0c-485c-ab1c-369744a6de08",
   "metadata": {},
   "outputs": [],
   "source": [
    "s[:]"
   ]
  },
  {
   "cell_type": "markdown",
   "id": "950a25b0-ee5c-4e82-bb11-a1fd5ddbcae5",
   "metadata": {},
   "source": [
    "## 8.5 Strings are immutable"
   ]
  },
  {
   "cell_type": "code",
   "execution_count": null,
   "id": "b5a93ac5-42b5-4bf9-8117-55a415390402",
   "metadata": {},
   "outputs": [],
   "source": [
    "greeting = 'Hello World!'\n",
    "greeting[0] = 'J'"
   ]
  },
  {
   "cell_type": "code",
   "execution_count": null,
   "id": "864c6d0d-ca5b-4fd1-9e4b-b9d2bf1779cf",
   "metadata": {},
   "outputs": [],
   "source": [
    "new_greeting = 'J' + greeting[1:]\n",
    "new_greeting"
   ]
  },
  {
   "cell_type": "markdown",
   "id": "5d766655-d973-4f6d-95e5-716bdcd7bafd",
   "metadata": {},
   "source": [
    "## 8.6 Searching"
   ]
  },
  {
   "cell_type": "code",
   "execution_count": null,
   "id": "172c51ad-8b4d-4050-b656-86d261141a9a",
   "metadata": {},
   "outputs": [],
   "source": [
    "# what does this function do?\n",
    "def find(word, letter):\n",
    "    index = 0\n",
    "    while index < len(word):\n",
    "        if word[index] == letter:\n",
    "            return index\n",
    "        index = index + 1\n",
    "    return -1\n",
    "\n",
    "find('armagedon', 'd')"
   ]
  },
  {
   "cell_type": "markdown",
   "id": "d9fd20a5-0e4e-4cf5-af7b-bd30c32ccd08",
   "metadata": {},
   "source": [
    "## 8.7 Looping and counting"
   ]
  },
  {
   "cell_type": "code",
   "execution_count": null,
   "id": "29979081-4256-459e-9559-ea43365afb7f",
   "metadata": {},
   "outputs": [],
   "source": [
    "word = 'banana'\n",
    "count = 0\n",
    "for letter in word:\n",
    "    if letter == 'a':\n",
    "        count = count + 1\n",
    "print(count)"
   ]
  },
  {
   "cell_type": "markdown",
   "id": "a759d6a2-06a0-4f48-adc5-1b1247557bcd",
   "metadata": {},
   "source": [
    "## 8.8 String methods"
   ]
  },
  {
   "cell_type": "code",
   "execution_count": null,
   "id": "75760cca-ea3c-411b-9097-f54a5dd08c4d",
   "metadata": {},
   "outputs": [],
   "source": [
    "word = 'banana'\n",
    "new_word = word.upper() # upper() is a method not a function, \n",
    "                        # functions are called\n",
    "                        # methods are invoked\n",
    "new_word"
   ]
  },
  {
   "cell_type": "code",
   "execution_count": null,
   "id": "8a3cc141-e47c-4098-9ee0-b5822dd74cdf",
   "metadata": {},
   "outputs": [],
   "source": [
    "index = word.find('a')\n",
    "index"
   ]
  },
  {
   "cell_type": "code",
   "execution_count": null,
   "id": "e92c206f-469b-4fa5-aa09-ea20e265fa30",
   "metadata": {},
   "outputs": [],
   "source": [
    "index = word.find('na')\n",
    "index"
   ]
  },
  {
   "cell_type": "code",
   "execution_count": null,
   "id": "4657a270-3e84-4dd6-8a2c-b2bc627652fe",
   "metadata": {},
   "outputs": [],
   "source": [
    "index = word.find('na', 3) # 3 is an optional argument\n",
    "index"
   ]
  },
  {
   "cell_type": "markdown",
   "id": "461b6e51-2aac-47a5-9cd4-40037b119ff9",
   "metadata": {},
   "source": [
    "## 8.9 The in operator"
   ]
  },
  {
   "cell_type": "code",
   "execution_count": null,
   "id": "7202416b-6895-47b3-96e7-58c0751f514d",
   "metadata": {},
   "outputs": [],
   "source": [
    "'a' in 'banana'"
   ]
  },
  {
   "cell_type": "code",
   "execution_count": null,
   "id": "9ecb98fe-d3ce-4540-a6c2-6d25d8b8cd1f",
   "metadata": {},
   "outputs": [],
   "source": [
    "'seed' in 'banana'"
   ]
  },
  {
   "cell_type": "code",
   "execution_count": null,
   "id": "ac80f495-1393-4b27-bcc7-2de3632f0dbd",
   "metadata": {},
   "outputs": [],
   "source": [
    "def in_both(word1, word2):\n",
    "    for letter in word1:\n",
    "        if letter in word2:\n",
    "            print(letter)\n",
    "            \n",
    "in_both('abcde', 'abcde')"
   ]
  },
  {
   "cell_type": "code",
   "execution_count": null,
   "id": "5973c7c9-d381-4c26-8de7-a68c37811f4e",
   "metadata": {},
   "outputs": [],
   "source": [
    "word = input('Input your word: ')\n",
    "if word < 'banana':\n",
    "    print('Your word, ' + word + ', comes before banana.')\n",
    "elif word > 'banana':\n",
    "    print('Your word, ' + word + ', comes after banana.')\n",
    "else:\n",
    "    print('All right, bananas.')"
   ]
  },
  {
   "cell_type": "code",
   "execution_count": null,
   "id": "3bfff9aa-99b9-40b0-a4be-05796cc6e4d2",
   "metadata": {},
   "outputs": [],
   "source": [
    "word = input('Input your word: ')\n",
    "if word.lower() < 'banana':\n",
    "    print('Your word, ' + word + ', comes before banana.')\n",
    "elif word.lower() > 'banana':\n",
    "    print('Your word, ' + word + ', comes after banana.')\n",
    "else:\n",
    "    print('All right, bananas.')"
   ]
  },
  {
   "cell_type": "markdown",
   "id": "531eb4b7-30fd-425f-a7fb-3333f802430a",
   "metadata": {},
   "source": [
    "## 8.11 Debugging"
   ]
  },
  {
   "cell_type": "markdown",
   "id": "9cc7e724-5ac7-482a-a1d4-da1ea0186499",
   "metadata": {},
   "source": [
    "## 8.12 Glossary"
   ]
  },
  {
   "cell_type": "markdown",
   "id": "f2dd47eb-628e-4d9d-8920-3150f5a3ae8b",
   "metadata": {},
   "source": [
    "## 8.13 Exercises"
   ]
  },
  {
   "cell_type": "code",
   "execution_count": null,
   "id": "4f3264bb-dd33-4953-a54d-476a6447af64",
   "metadata": {},
   "outputs": [],
   "source": []
  }
 ],
 "metadata": {
  "kernelspec": {
   "display_name": "Python 3 (ipykernel)",
   "language": "python",
   "name": "python3"
  },
  "language_info": {
   "codemirror_mode": {
    "name": "ipython",
    "version": 3
   },
   "file_extension": ".py",
   "mimetype": "text/x-python",
   "name": "python",
   "nbconvert_exporter": "python",
   "pygments_lexer": "ipython3",
   "version": "3.10.9"
  }
 },
 "nbformat": 4,
 "nbformat_minor": 5
}
