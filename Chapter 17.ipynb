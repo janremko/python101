{
 "cells": [
  {
   "cell_type": "markdown",
   "id": "314870d6-dfcf-4f89-b08a-80fc46502181",
   "metadata": {},
   "source": [
    "# Chapter 17 Classes and methods\n",
    "\n",
    "Although we are gradually moving into the OOP world. The code in the last 2 chapters wasn't really OOP because the functionaly part wasn't integrated in the objects."
   ]
  },
  {
   "cell_type": "markdown",
   "id": "9ddd92fd-be5a-4669-80f2-c36441f04daa",
   "metadata": {},
   "source": [
    "## 17.1 Object-oriented features\n",
    "\n",
    "OOP features:\n",
    "* Programs include class and method definitions\n",
    "* Most of the computation is expressed in terms of operations on objects\n",
    "* Objects often represent things in the real world, and methods often correspond to the ways things in the real world interact\n",
    "\n",
    "Methods:\n",
    "* are semantically the same as functions\n",
    "* are defined inside a class\n",
    "* different invokation syntax\n"
   ]
  },
  {
   "cell_type": "markdown",
   "id": "7d2e9579-4cc4-49f8-8b5a-b4efe95f66fe",
   "metadata": {},
   "source": [
    "## 17.2 Printing objects"
   ]
  },
  {
   "cell_type": "code",
   "execution_count": null,
   "id": "89cfb2be-8098-4a43-a453-7bcfd0ae0d05",
   "metadata": {},
   "outputs": [],
   "source": [
    "# previous implementation of time printing\n",
    "class Time:\n",
    "    \"\"\"Represents the time of day.\"\"\"\n",
    "    \n",
    "def print_time(time):\n",
    "    print('%.2d:%.2d:%.2d' % (time.hour, time.minute, time.second))\n",
    "    \n",
    "start = Time()\n",
    "start.hour = 9\n",
    "start.minute = 45\n",
    "start.second = 00\n",
    "print_time(start)"
   ]
  },
  {
   "cell_type": "code",
   "execution_count": null,
   "id": "307fc2b5-6383-4b31-aec7-4cc4b61024c6",
   "metadata": {},
   "outputs": [],
   "source": [
    "# new implemetation with method"
   ]
  },
  {
   "cell_type": "code",
   "execution_count": null,
   "id": "8d91a472-f51d-4ba2-86d6-a532569d441a",
   "metadata": {},
   "outputs": [],
   "source": [
    "class Time:\n",
    "    def print_time(time):\n",
    "        print('%.2d:%.2d:%.2d' % (time.hour, time.minute, time.second))\n",
    "        \n",
    "start = Time()\n",
    "start.hour = 9\n",
    "start.minute = 45\n",
    "start.second = 00\n"
   ]
  },
  {
   "cell_type": "code",
   "execution_count": null,
   "id": "64c23904-b2bf-4151-be1e-d0db116a617f",
   "metadata": {},
   "outputs": [],
   "source": [
    "# two ways of calling print_start\n",
    "# first: function syntax\n",
    "Time.print_time(start)"
   ]
  },
  {
   "cell_type": "code",
   "execution_count": null,
   "id": "2a7aa861-520a-46a1-a879-b4d7c28659b3",
   "metadata": {},
   "outputs": [],
   "source": [
    "# second: method syntax\n",
    "start.print_time()"
   ]
  },
  {
   "cell_type": "markdown",
   "id": "5e5c6bb0-1b40-4386-b77e-c371fc88b267",
   "metadata": {},
   "source": [
    "By convention the first parameter of a method is *self*, a reference to the object."
   ]
  },
  {
   "cell_type": "code",
   "execution_count": null,
   "id": "94e8f142-b229-40b1-af01-55f9ceda3c75",
   "metadata": {},
   "outputs": [],
   "source": [
    "class Time:\n",
    "    def print_time(self):\n",
    "        print('%.2d:%.2d:%.2d' % (self.hour, self.minute, self.second))\n",
    "        \n",
    "start = Time()\n",
    "start.hour = 9\n",
    "start.minute = 45\n",
    "start.second = 00\n",
    "\n",
    "start.print_time()"
   ]
  },
  {
   "cell_type": "markdown",
   "id": "998f6d30-572a-434c-98f9-a0c8b7510d7d",
   "metadata": {},
   "source": [
    "## 17.3 Another example"
   ]
  },
  {
   "cell_type": "code",
   "execution_count": null,
   "id": "7a44a90c-a1f0-4845-98c3-e725cc6e7dcb",
   "metadata": {},
   "outputs": [],
   "source": [
    "class Time:\n",
    "    def print_time(self):\n",
    "        print('%.2d:%.2d:%.2d' % (self.hour, self.minute, self.second))\n",
    "    \n",
    "    def time_to_int(self):\n",
    "        minutes = self.hour * 60 + self.minute\n",
    "        seconds = minutes * 60 + self.second\n",
    "        return seconds\n",
    "   \n",
    "    def int_to_time(self, seconds):\n",
    "        time = Time()\n",
    "        minutes, time.second = divmod(seconds, 60)\n",
    "        time.hour, time.minute = divmod(minutes, 60)\n",
    "        return time                 \n",
    "    \n",
    "    def increment(self, seconds):\n",
    "        seconds += self.time_to_int()\n",
    "        return self.int_to_time(seconds)\n",
    "    \n",
    "start = Time()\n",
    "start.hour = 9\n",
    "start.minute = 45\n",
    "start.second = 00\n",
    "start.print_time()\n",
    "\n",
    "end = start.increment(1337)\n",
    "end.print_time()"
   ]
  },
  {
   "cell_type": "markdown",
   "id": "d7aaa867-2835-4356-b393-a7b232d7b3dd",
   "metadata": {},
   "source": [
    "## 17.4 A more complicated example"
   ]
  },
  {
   "cell_type": "code",
   "execution_count": null,
   "id": "7fa3b7b0-28bb-49bd-af2d-f2956e920f78",
   "metadata": {},
   "outputs": [],
   "source": [
    "class Time:\n",
    "    def print_time(self):\n",
    "        print('%.2d:%.2d:%.2d' % (self.hour, self.minute, self.second))\n",
    "    \n",
    "    def time_to_int(self):\n",
    "        minutes = self.hour * 60 + self.minute\n",
    "        seconds = minutes * 60 + self.second\n",
    "        return seconds\n",
    "   \n",
    "    def int_to_time(self, seconds):\n",
    "        time = Time()\n",
    "        minutes, time.second = divmod(seconds, 60)\n",
    "        time.hour, time.minute = divmod(minutes, 60)\n",
    "        return time                 \n",
    "    \n",
    "    def increment(self, seconds):\n",
    "        seconds += self.time_to_int()\n",
    "        return self.int_to_time(seconds)\n",
    "    \n",
    "    # this method takes 2 time objects as arguments!!!\n",
    "    def is_after(self, other):\n",
    "        return self.time_to_int() > other.time_to_int()\n",
    "    \n",
    "start = Time()\n",
    "start.hour = 9\n",
    "start.minute = 45\n",
    "start.second = 00\n",
    "start.print_time()\n",
    "\n",
    "end = start.increment(1337)\n",
    "\n",
    "end.is_after(start)"
   ]
  },
  {
   "cell_type": "markdown",
   "id": "9df8a3d3-72f3-4628-9b38-389835ce0128",
   "metadata": {},
   "source": [
    "## 17.5 The init method"
   ]
  },
  {
   "cell_type": "code",
   "execution_count": null,
   "id": "ea2f41fe-0479-49b1-8ff7-b7ad472db658",
   "metadata": {},
   "outputs": [],
   "source": [
    "class Time:\n",
    "    def __init__(self, hour=0, minute=0, second=0):\n",
    "        self.hour = hour\n",
    "        self.minute = minute\n",
    "        self.second = second\n",
    "    \n",
    "    def print_time(self):\n",
    "        print('%.2d:%.2d:%.2d' % (self.hour, self.minute, self.second))\n",
    "    \n",
    "    def time_to_int(self):\n",
    "        minutes = self.hour * 60 + self.minute\n",
    "        seconds = minutes * 60 + self.second\n",
    "        return seconds\n",
    "   \n",
    "    def int_to_time(self, seconds):\n",
    "        time = Time()\n",
    "        minutes, time.second = divmod(seconds, 60)\n",
    "        time.hour, time.minute = divmod(minutes, 60)\n",
    "        return time                 \n",
    "    \n",
    "    def increment(self, seconds):\n",
    "        seconds += self.time_to_int()\n",
    "        return self.int_to_time(seconds)\n",
    "    \n",
    "    # this method takes 2 time objects as arguments!!!\n",
    "    def is_after(self, other):\n",
    "        return self.time_to_int() > other.time_to_int()\n",
    "    \n",
    "time = Time()\n",
    "time.print_time()"
   ]
  },
  {
   "cell_type": "code",
   "execution_count": null,
   "id": "afe8b5b6-db5f-427e-945f-d6e55a088e0a",
   "metadata": {},
   "outputs": [],
   "source": [
    "# if you provide one argument, it overrides hour:\n",
    "time = Time(9)\n",
    "time.print_time()"
   ]
  },
  {
   "cell_type": "code",
   "execution_count": null,
   "id": "f035d484-f5cd-4a58-b09c-d1e9ab2a7bc4",
   "metadata": {},
   "outputs": [],
   "source": [
    "# if you provide two arguments, they override hour and minute\n",
    "time = Time(9, 45)\n",
    "time.print_time()"
   ]
  },
  {
   "cell_type": "markdown",
   "id": "0bdda5cc-c16c-4917-b9ac-0e63882a2b12",
   "metadata": {},
   "source": [
    "## 17.6 the __str__ method\n",
    "\n",
    "__str__ is a special method like __init__, that is supposed to return a string representation of an object."
   ]
  },
  {
   "cell_type": "code",
   "execution_count": null,
   "id": "a368c184-7cc2-43a0-9774-8b79c6d747d1",
   "metadata": {},
   "outputs": [],
   "source": [
    "class Time:\n",
    "    def __init__(self, hour=0, minute=0, second=0):\n",
    "        self.hour = hour\n",
    "        self.minute = minute\n",
    "        self.second = second\n",
    "        \n",
    "    def __str__(self):\n",
    "        return '%.2d:%.2d:%.2d' % (self.hour, self.minute, self.second)\n",
    "    \n",
    "    def print_time(self):\n",
    "        print('%.2d:%.2d:%.2d' % (self.hour, self.minute, self.second))\n",
    "    \n",
    "    def time_to_int(self):\n",
    "        minutes = self.hour * 60 + self.minute\n",
    "        seconds = minutes * 60 + self.second\n",
    "        return seconds\n",
    "   \n",
    "    def int_to_time(self, seconds):\n",
    "        time = Time()\n",
    "        minutes, time.second = divmod(seconds, 60)\n",
    "        time.hour, time.minute = divmod(minutes, 60)\n",
    "        return time                 \n",
    "    \n",
    "    def increment(self, seconds):\n",
    "        seconds += self.time_to_int()\n",
    "        return self.int_to_time(seconds)\n",
    "    \n",
    "    # this method takes 2 time objects as arguments!!!\n",
    "    def is_after(self, other):\n",
    "        return self.time_to_int() > other.time_to_int()\n",
    "    \n",
    "time = Time(9,45)\n",
    "print(time)"
   ]
  },
  {
   "cell_type": "markdown",
   "id": "581ecca0-c41c-4f42-b411-4fa4784e9b09",
   "metadata": {},
   "source": [
    "## 17.7 Operator overloading"
   ]
  },
  {
   "cell_type": "code",
   "execution_count": null,
   "id": "4173c905-ee4d-475a-b6c8-d313592ad0a6",
   "metadata": {},
   "outputs": [],
   "source": [
    "# let's overload the + operator\n",
    "class Time:\n",
    "    def __init__(self, hour=0, minute=0, second=0):\n",
    "        self.hour = hour\n",
    "        self.minute = minute\n",
    "        self.second = second\n",
    "        \n",
    "    def __str__(self):\n",
    "        return '%.2d:%.2d:%.2d' % (self.hour, self.minute, self.second)\n",
    "    \n",
    "    def print_time(self):\n",
    "        print('%.2d:%.2d:%.2d' % (self.hour, self.minute, self.second))\n",
    "    \n",
    "    def time_to_int(self):\n",
    "        minutes = self.hour * 60 + self.minute\n",
    "        seconds = minutes * 60 + self.second\n",
    "        return seconds\n",
    "   \n",
    "    def int_to_time(self, seconds):\n",
    "        time = Time()\n",
    "        minutes, time.second = divmod(seconds, 60)\n",
    "        time.hour, time.minute = divmod(minutes, 60)\n",
    "        return time                 \n",
    "    \n",
    "    def increment(self, seconds):\n",
    "        seconds += self.time_to_int()\n",
    "        return self.int_to_time(seconds)\n",
    "    \n",
    "    def is_after(self, other):\n",
    "        return self.time_to_int() > other.time_to_int()\n",
    "    \n",
    "    def __add__(self, other):\n",
    "        seconds = self.time_to_int() + other.time_to_int()\n",
    "        return self.int_to_time(seconds)\n",
    "    \n",
    "start = Time(9,45)\n",
    "duration = Time(1,35)\n",
    "print(start + duration)"
   ]
  },
  {
   "cell_type": "markdown",
   "id": "a4aa3eca-29ad-4f7f-b872-c3777113cc63",
   "metadata": {},
   "source": [
    "## 17.8 Type-based dispatch"
   ]
  },
  {
   "cell_type": "code",
   "execution_count": null,
   "id": "be226f7c-e8c1-4d52-bdf9-8aafb4985e34",
   "metadata": {},
   "outputs": [],
   "source": [
    "class Time:\n",
    "    def __init__(self, hour=0, minute=0, second=0):\n",
    "        self.hour = hour\n",
    "        self.minute = minute\n",
    "        self.second = second\n",
    "        \n",
    "    def __str__(self):\n",
    "        return '%.2d:%.2d:%.2d' % (self.hour, self.minute, self.second)\n",
    "    \n",
    "    def print_time(self):\n",
    "        print('%.2d:%.2d:%.2d' % (self.hour, self.minute, self.second))\n",
    "    \n",
    "    def time_to_int(self):\n",
    "        minutes = self.hour * 60 + self.minute\n",
    "        seconds = minutes * 60 + self.second\n",
    "        return seconds\n",
    "   \n",
    "    def int_to_time(self, seconds):\n",
    "        time = Time()\n",
    "        minutes, time.second = divmod(seconds, 60)\n",
    "        time.hour, time.minute = divmod(minutes, 60)\n",
    "        return time                 \n",
    "    \n",
    "    def increment(self, seconds):\n",
    "        seconds += self.time_to_int()\n",
    "        return self.int_to_time(seconds)\n",
    "    \n",
    "    def is_after(self, other):\n",
    "        return self.time_to_int() > other.time_to_int()\n",
    "    \n",
    "    def __add__(self, other):\n",
    "        if isinstance(other, Time):\n",
    "            return self.add_time(other)\n",
    "        else:\n",
    "            return self.increment(other)\n",
    "        \n",
    "    def add_time(self, other):\n",
    "        seconds = self.time_to_int() + other.time_to_int()\n",
    "        return self.int_to_time(seconds)\n",
    "    \n",
    "start = Time(9, 45)\n",
    "duration = Time(1, 35)\n",
    "print(start + duration)\n",
    "print(start + 1337)"
   ]
  },
  {
   "cell_type": "code",
   "execution_count": null,
   "id": "5ebb2a05-c3ea-408e-b7dd-536346700e5f",
   "metadata": {},
   "outputs": [],
   "source": [
    "print(1337 + start) # ohoh"
   ]
  },
  {
   "cell_type": "code",
   "execution_count": null,
   "id": "955896e2-4fbd-4822-a264-0d96a604ce50",
   "metadata": {},
   "outputs": [],
   "source": [
    "# let's fix that\n",
    "class Time:\n",
    "    def __init__(self, hour=0, minute=0, second=0):\n",
    "        self.hour = hour\n",
    "        self.minute = minute\n",
    "        self.second = second\n",
    "        \n",
    "    def __str__(self):\n",
    "        return '%.2d:%.2d:%.2d' % (self.hour, self.minute, self.second)\n",
    "    \n",
    "    def print_time(self):\n",
    "        print('%.2d:%.2d:%.2d' % (self.hour, self.minute, self.second))\n",
    "    \n",
    "    def time_to_int(self):\n",
    "        minutes = self.hour * 60 + self.minute\n",
    "        seconds = minutes * 60 + self.second\n",
    "        return seconds\n",
    "   \n",
    "    def int_to_time(self, seconds):\n",
    "        time = Time()\n",
    "        minutes, time.second = divmod(seconds, 60)\n",
    "        time.hour, time.minute = divmod(minutes, 60)\n",
    "        return time                 \n",
    "    \n",
    "    def increment(self, seconds):\n",
    "        seconds += self.time_to_int()\n",
    "        return self.int_to_time(seconds)\n",
    "    \n",
    "    def is_after(self, other):\n",
    "        return self.time_to_int() > other.time_to_int()\n",
    "    \n",
    "    def __add__(self, other):\n",
    "        if isinstance(other, Time):\n",
    "            return self.add_time(other)\n",
    "        else:\n",
    "            return self.increment(other)\n",
    "        \n",
    "    def __radd__(self, other):\n",
    "        return self.__add__(other)\n",
    "        \n",
    "    def add_time(self, other):\n",
    "        seconds = self.time_to_int() + other.time_to_int()\n",
    "        return self.int_to_time(seconds)\n",
    "    \n",
    "start = Time(9, 45)\n",
    "print(1337 + start)"
   ]
  },
  {
   "cell_type": "markdown",
   "id": "786e4a6f-0ef4-4250-9d9f-ecf6ca0a553e",
   "metadata": {},
   "source": [
    "## 17.9 Polymorphism"
   ]
  },
  {
   "cell_type": "code",
   "execution_count": null,
   "id": "5bb56464-ca01-4d5a-b42e-91fdaa7704bd",
   "metadata": {},
   "outputs": [],
   "source": [
    "def histogram(s):\n",
    "    d = dict()\n",
    "    for c in s:\n",
    "        if c not in d:\n",
    "            d[c] = 1\n",
    "        else:\n",
    "            d[c] = d[c]+1\n",
    "    return d\n",
    "\n",
    "t = ['spam', 'egg', 'spam', 'spam', 'bacon', 'spam']\n",
    "histogram(t)"
   ]
  },
  {
   "cell_type": "code",
   "execution_count": null,
   "id": "5155032d-9958-4139-8ed1-de668f513841",
   "metadata": {},
   "outputs": [],
   "source": [
    "histogram('janremko')"
   ]
  },
  {
   "cell_type": "code",
   "execution_count": null,
   "id": "39e27586-07e1-4fa4-8cfa-4e6d31e02a76",
   "metadata": {},
   "outputs": [],
   "source": [
    "t1 = Time(7, 43)\n",
    "t2 = Time(7, 41)\n",
    "t3 = Time(7, 37)\n",
    "total = sum([t1, t2, t3])\n",
    "print(total)"
   ]
  },
  {
   "cell_type": "markdown",
   "id": "cd78b6b2-3ac1-4da7-bd56-e9f322cbd4c9",
   "metadata": {},
   "source": [
    "## 17.10 Debugging"
   ]
  },
  {
   "cell_type": "markdown",
   "id": "e810d8ce-c3ee-400a-9768-49763335ecb0",
   "metadata": {},
   "source": [
    "## 17.11 Interface and implementation\n",
    "\n",
    "If you carefully design the interface of your classes, then it can act as an API which hides the implementation and leaves room for refactoring."
   ]
  },
  {
   "cell_type": "markdown",
   "id": "644119f1-9d04-4999-9bc7-b23b86f7af7d",
   "metadata": {},
   "source": [
    "## 17.12 Glossary"
   ]
  },
  {
   "cell_type": "markdown",
   "id": "c9dae9e1-56f1-4320-99dc-9fc85201abaf",
   "metadata": {},
   "source": [
    "## 17.13 Exercises"
   ]
  },
  {
   "cell_type": "code",
   "execution_count": null,
   "id": "842e4972-b7ba-4b4f-b1a8-498a337f7df3",
   "metadata": {},
   "outputs": [],
   "source": []
  }
 ],
 "metadata": {
  "kernelspec": {
   "display_name": "Python 3 (ipykernel)",
   "language": "python",
   "name": "python3"
  },
  "language_info": {
   "codemirror_mode": {
    "name": "ipython",
    "version": 3
   },
   "file_extension": ".py",
   "mimetype": "text/x-python",
   "name": "python",
   "nbconvert_exporter": "python",
   "pygments_lexer": "ipython3",
   "version": "3.10.9"
  }
 },
 "nbformat": 4,
 "nbformat_minor": 5
}
