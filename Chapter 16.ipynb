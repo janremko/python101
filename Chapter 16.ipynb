{
 "cells": [
  {
   "cell_type": "markdown",
   "id": "91c04063-ee54-4af4-a95e-d800d9b679e0",
   "metadata": {},
   "source": [
    "# Chapter 16 Classes and functions"
   ]
  },
  {
   "cell_type": "markdown",
   "id": "38b17dea-994d-4bf9-b8e1-ffa46e9c9ee7",
   "metadata": {},
   "source": [
    "## 16.1 Time"
   ]
  },
  {
   "cell_type": "code",
   "execution_count": null,
   "id": "36f6b048-92c2-411d-9e2a-bae61cc22eb3",
   "metadata": {},
   "outputs": [],
   "source": [
    "class Time:\n",
    "    \"\"\"Represent the time of day.\n",
    "    \n",
    "    Attributes: hour, minute, second\n",
    "    \"\"\""
   ]
  },
  {
   "cell_type": "code",
   "execution_count": null,
   "id": "ac8a016d-47fc-4ffd-a3a1-2583584aea77",
   "metadata": {},
   "outputs": [],
   "source": [
    "time = Time()\n",
    "time.hour = 11\n",
    "time.minute = 59\n",
    "time.second = 30"
   ]
  },
  {
   "cell_type": "code",
   "execution_count": null,
   "id": "af201b96-3ac4-4382-8a69-5d0bd35ddb6a",
   "metadata": {},
   "outputs": [],
   "source": [
    "def print_time(t):\n",
    "    print('%.2d:%.2d:%.2d' % (t.hour, t.minute, t.second))\n",
    "    \n",
    "print_time(time)"
   ]
  },
  {
   "cell_type": "markdown",
   "id": "e4788f54-753f-41f0-b5a1-78f49d1cea6d",
   "metadata": {},
   "source": [
    "## 16.2 Pure functions"
   ]
  },
  {
   "cell_type": "code",
   "execution_count": null,
   "id": "cae99cac-cc58-4eb1-8da5-87cf324c176c",
   "metadata": {},
   "outputs": [],
   "source": [
    "# a simple prototype of add_time\n",
    "\n",
    "def add_time(t1, t2):\n",
    "    sum = Time()\n",
    "    sum.hour = t1.hour + t2.hour\n",
    "    sum.minute = t1.minute + t2.minute\n",
    "    sum.second = t1.second + t2.second\n",
    "    return sum"
   ]
  },
  {
   "cell_type": "markdown",
   "id": "28d428b0-b8d4-49c6-8fa2-dd2f6aa3fef1",
   "metadata": {},
   "source": [
    "This is called a pure function:\n",
    "- it doesn't modify any of the objects passed to it as arguments\n",
    "- it has no effect other than returning a value (no side effects)"
   ]
  },
  {
   "cell_type": "code",
   "execution_count": null,
   "id": "a1de9c26-e3a6-41af-bde8-36d8bc68a2bb",
   "metadata": {},
   "outputs": [],
   "source": [
    "# lets calculate the end time of a movie knowing starting time and duration\n",
    "\n",
    "start = Time()\n",
    "start.hour = 9\n",
    "start.minute = 45\n",
    "start.second = 0\n",
    "\n",
    "duration = Time()\n",
    "duration.hour = 1\n",
    "duration.minute = 35\n",
    "duration.second = 0\n",
    "\n",
    "done = add_time(start, duration)\n",
    "print_time(done)"
   ]
  },
  {
   "cell_type": "code",
   "execution_count": null,
   "id": "64c83c8f-a43b-4c4c-b379-82af495982d1",
   "metadata": {},
   "outputs": [],
   "source": [
    "# and now new and improved, based on the prototype:\n",
    "\n",
    "def add_time(t1, t2):\n",
    "    sum = Time()\n",
    "    sum.hour = t1.hour + t2.hour\n",
    "    sum.minute = t1.minute + t2.minute\n",
    "    sum.second = t1.second + t2.second\n",
    "    \n",
    "    if sum.second >= 60:\n",
    "        sum.second -= 60\n",
    "        sum.minute += 1\n",
    "        \n",
    "    if sum.minute >= 60:\n",
    "        sum.minute -=60\n",
    "        sum.hour += 1\n",
    "    \n",
    "    return sum"
   ]
  },
  {
   "cell_type": "code",
   "execution_count": null,
   "id": "00e8d3b4-7fc7-4956-9723-2ad9be7b8573",
   "metadata": {},
   "outputs": [],
   "source": [
    "start = Time()\n",
    "start.hour = 9\n",
    "start.minute = 45\n",
    "start.second = 0\n",
    "\n",
    "duration = Time()\n",
    "duration.hour = 1\n",
    "duration.minute = 35\n",
    "duration.second = 0\n",
    "\n",
    "done = add_time(start, duration)\n",
    "print_time(done)"
   ]
  },
  {
   "cell_type": "markdown",
   "id": "e868516d-d976-4ff8-96d2-96b0ec7854d7",
   "metadata": {},
   "source": [
    "## 16.3 Modifiers\n",
    "\n",
    "A modifier function does change the object(s) which are passed in as arguments."
   ]
  },
  {
   "cell_type": "code",
   "execution_count": null,
   "id": "ad065804-8913-495c-9385-4079622b4e82",
   "metadata": {},
   "outputs": [],
   "source": [
    "def increment(time, seconds):\n",
    "    time.second += seconds\n",
    "    if time.second >= 60:\n",
    "        time.second -= 60\n",
    "        time.minute += 1\n",
    "        \n",
    "    if time.minute >= 60:\n",
    "        time.minute -=60\n",
    "        time.hour += 1"
   ]
  },
  {
   "cell_type": "code",
   "execution_count": null,
   "id": "09819b90-d948-41a9-8da7-a1cb9ca9e78b",
   "metadata": {},
   "outputs": [],
   "source": [
    "u = Time()\n",
    "u.hour = 1\n",
    "u.minute = 10\n",
    "u.second = 15\n",
    "\n",
    "increment(u, 120)\n",
    "print_time(u)"
   ]
  },
  {
   "cell_type": "code",
   "execution_count": null,
   "id": "cf2d9aba-4288-4f84-8c33-927b1a7c9cb9",
   "metadata": {},
   "outputs": [],
   "source": [
    "def increment(time, seconds):\n",
    "    totsec = time.hour * 3600 + time.minute*60 + time.second + seconds\n",
    "    minutes, time.second = divmod(totsec, 60)\n",
    "    time.hour, time.minute = divmod(minutes, 60)"
   ]
  },
  {
   "cell_type": "code",
   "execution_count": null,
   "id": "42315ada-6eba-49cd-a970-70b4cc45b937",
   "metadata": {},
   "outputs": [],
   "source": [
    "u = Time()\n",
    "u.hour = 1\n",
    "u.minute = 10\n",
    "u.second = 15\n",
    "\n",
    "increment(u, 120)\n",
    "print_time(u)"
   ]
  },
  {
   "cell_type": "markdown",
   "id": "c58b5e8e-319a-47cd-8baf-a5d8b08ff1b2",
   "metadata": {},
   "source": [
    "Anything that can be done with modifiers, can also be done with pure functions.\n",
    "\n",
    "This is called functional programming. There is effidence this is faster in development and less error-prone than using  modifiers. However, functional programs tend to be less efficient."
   ]
  },
  {
   "cell_type": "markdown",
   "id": "ceb25da0-f618-4529-a259-695c6636dd4a",
   "metadata": {},
   "source": [
    "## 16.4 Prototyping versus planning\n",
    "\n",
    "The WoW we saw as prototype and patch and incrementally try to get a better version the code.\n",
    "\n",
    "Another approach is the planning or design approach. Where we try to understand the problem at a high level and design our solution accordingly.\n"
   ]
  },
  {
   "cell_type": "markdown",
   "id": "f645741e-6298-4f20-9d23-bdd406b5e5b1",
   "metadata": {},
   "source": [
    "## 16.5 Debugging"
   ]
  },
  {
   "cell_type": "markdown",
   "id": "c99a7776-ec7e-471d-b205-e7403924e6dc",
   "metadata": {},
   "source": [
    "## 16.5 Glossary"
   ]
  },
  {
   "cell_type": "markdown",
   "id": "b4d03a96-7972-4abc-834b-f0ff7a7f329c",
   "metadata": {},
   "source": [
    "## 16.6 Exercises"
   ]
  },
  {
   "cell_type": "code",
   "execution_count": null,
   "id": "6a33edbe-016d-4b30-bc8d-c5f1c9d2335b",
   "metadata": {},
   "outputs": [],
   "source": []
  }
 ],
 "metadata": {
  "kernelspec": {
   "display_name": "Python 3 (ipykernel)",
   "language": "python",
   "name": "python3"
  },
  "language_info": {
   "codemirror_mode": {
    "name": "ipython",
    "version": 3
   },
   "file_extension": ".py",
   "mimetype": "text/x-python",
   "name": "python",
   "nbconvert_exporter": "python",
   "pygments_lexer": "ipython3",
   "version": "3.10.9"
  }
 },
 "nbformat": 4,
 "nbformat_minor": 5
}
