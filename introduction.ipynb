{
 "cells": [
  {
   "cell_type": "markdown",
   "id": "2bef47c8-cac0-4039-9f8a-bf1845e6cedc",
   "metadata": {},
   "source": [
    "Python is a **high-level**, **general-purpose** programming language with an emphasis on code readability\n",
    "\n",
    "It is **interpreted**, **dynamically typed** and **garbage collected** and supports multiple programming paradigms: \n",
    "- structured > procedural\n",
    "- object-oriented\n",
    "- functional\n",
    "And has batteries included due to its comprehensive standard library.\n",
    "\n",
    "It is developed by Guido van Rossum at CWI in Amsterdam, first release in 1991. Python is named after Monty Python's flying circus.\n",
    "\n",
    "Currently Python 3 is the main version, although Python 2(.7) is still used a lot.\n"
   ]
  },
  {
   "cell_type": "markdown",
   "id": "560c3dfe-cf00-48db-9dd2-d7d6e5326f7f",
   "metadata": {},
   "source": [
    "Book for Python 101: Think Python, How to Think Like a Computer Scientist, 2nd Ed."
   ]
  },
  {
   "cell_type": "code",
   "execution_count": null,
   "id": "d5bde366-392c-43f9-9247-c14d120ae466",
   "metadata": {},
   "outputs": [],
   "source": []
  }
 ],
 "metadata": {
  "kernelspec": {
   "display_name": "Python 3 (ipykernel)",
   "language": "python",
   "name": "python3"
  },
  "language_info": {
   "codemirror_mode": {
    "name": "ipython",
    "version": 3
   },
   "file_extension": ".py",
   "mimetype": "text/x-python",
   "name": "python",
   "nbconvert_exporter": "python",
   "pygments_lexer": "ipython3",
   "version": "3.10.9"
  }
 },
 "nbformat": 4,
 "nbformat_minor": 5
}
