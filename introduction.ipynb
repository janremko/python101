{
 "cells": [
  {
   "cell_type": "markdown",
   "id": "2bef47c8-cac0-4039-9f8a-bf1845e6cedc",
   "metadata": {},
   "source": [
    "# Python 101 Introduction\n",
    "\n",
    "Python is a **high-level**, **general-purpose** programming language with an emphasis on code readability\n",
    "\n",
    "It is **interpreted**, **dynamically typed** and **garbage collected** and supports multiple programming paradigms: \n",
    "- structured > procedural\n",
    "- object-oriented\n",
    "- functional\n",
    "\n",
    "And has batteries included due to its comprehensive standard library.\n",
    "\n",
    "It is developed by Guido van Rossum at CWI in Amsterdam, first release in 1991. Python is named after Monty Python's flying circus.\n",
    "\n",
    "Currently Python 3 is the main version, although Python 2(.7) is still used a lot.\n"
   ]
  },
  {
   "cell_type": "markdown",
   "id": "560c3dfe-cf00-48db-9dd2-d7d6e5326f7f",
   "metadata": {},
   "source": [
    "Book for Python 101: Think Python, How to Think Like a Computer Scientist, 2nd Ed."
   ]
  },
  {
   "cell_type": "markdown",
   "id": "3d0fbd69-1db3-40a4-95ed-1c85defcb336",
   "metadata": {},
   "source": [
    "https://github.com/janremko/python101"
   ]
  }
 ],
 "metadata": {
  "kernelspec": {
   "display_name": "Python 3 (ipykernel)",
   "language": "python",
   "name": "python3"
  },
  "language_info": {
   "codemirror_mode": {
    "name": "ipython",
    "version": 3
   },
   "file_extension": ".py",
   "mimetype": "text/x-python",
   "name": "python",
   "nbconvert_exporter": "python",
   "pygments_lexer": "ipython3",
   "version": "3.10.9"
  }
 },
 "nbformat": 4,
 "nbformat_minor": 5
}
