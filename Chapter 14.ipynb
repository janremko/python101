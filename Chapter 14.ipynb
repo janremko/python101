{
 "cells": [
  {
   "cell_type": "markdown",
   "id": "7a40b558-2f24-4823-ace2-b6804c3fb890",
   "metadata": {},
   "source": [
    "# Chapter 14 Files"
   ]
  },
  {
   "cell_type": "markdown",
   "id": "ab243a5a-3c49-407a-b2cb-556edb9a164d",
   "metadata": {},
   "source": [
    "## 14.1 Persistence"
   ]
  },
  {
   "cell_type": "markdown",
   "id": "98d66a14-bdfc-47e8-9bb9-a1cf6edd5ef0",
   "metadata": {},
   "source": [
    "## 14.2 Reading and writing"
   ]
  },
  {
   "cell_type": "code",
   "execution_count": null,
   "id": "b5453f7d-1e41-440f-b8c6-345bf179eb81",
   "metadata": {},
   "outputs": [],
   "source": [
    "fout = open('output.txt', 'w')"
   ]
  },
  {
   "cell_type": "code",
   "execution_count": null,
   "id": "2486f163-ccfc-4257-a49e-e9da36ab4f15",
   "metadata": {},
   "outputs": [],
   "source": [
    "line1 = \"This is here's the wattle,\\n\"\n",
    "fout.write(line1)"
   ]
  },
  {
   "cell_type": "code",
   "execution_count": null,
   "id": "9ff6bd0e-1609-4ee8-82e3-2e2b57854d2f",
   "metadata": {},
   "outputs": [],
   "source": [
    "line2 = \"the emblem of our land.\\n\"\n",
    "fout.write(line2)"
   ]
  },
  {
   "cell_type": "code",
   "execution_count": null,
   "id": "529f5a22-793e-456b-8ec6-562c29af04cc",
   "metadata": {},
   "outputs": [],
   "source": [
    "fout.close()"
   ]
  },
  {
   "cell_type": "markdown",
   "id": "d45e0610-e872-4a76-9e0e-805d69e6baa9",
   "metadata": {},
   "source": [
    "## 14.3 Format operator"
   ]
  },
  {
   "cell_type": "code",
   "execution_count": null,
   "id": "071fbea6-ff4f-40a7-b548-e5f7ed7b4099",
   "metadata": {},
   "outputs": [],
   "source": [
    "# The argument of write has to be a string\n",
    "x = 42\n",
    "fout.write(str(x)) # easy conversion"
   ]
  },
  {
   "cell_type": "code",
   "execution_count": null,
   "id": "de3ba015-1992-41c6-9fad-e88fd5a2a216",
   "metadata": {},
   "outputs": [],
   "source": [
    "# we can also use format strings\n",
    "camels = 42\n",
    "'%d' % camels"
   ]
  },
  {
   "cell_type": "code",
   "execution_count": null,
   "id": "56ca0f68-c974-4d5f-b145-9ade26de85d5",
   "metadata": {},
   "outputs": [],
   "source": [
    "'I have spotted %d camels.' % camels"
   ]
  },
  {
   "cell_type": "code",
   "execution_count": null,
   "id": "8d4326a7-e5ca-42a3-8622-443460d8a03f",
   "metadata": {},
   "outputs": [],
   "source": [
    "'In %d years I have spotted %g %s.' % (3, 0.1, 'camels')"
   ]
  },
  {
   "cell_type": "code",
   "execution_count": null,
   "id": "30448c1f-4bf0-4576-b76a-b06d15eaea1e",
   "metadata": {},
   "outputs": [],
   "source": [
    "'%d %d %d' % (1, 2)"
   ]
  },
  {
   "cell_type": "code",
   "execution_count": null,
   "id": "cea341be-ddf5-4588-8f5d-5dc6f8f67215",
   "metadata": {},
   "outputs": [],
   "source": [
    "'%d' % 'dollars'"
   ]
  },
  {
   "cell_type": "markdown",
   "id": "0ea9f4d2-db8c-45f2-a2a7-6dda16c8fdeb",
   "metadata": {},
   "source": [
    "## 14.4 Filenames and paths"
   ]
  },
  {
   "cell_type": "code",
   "execution_count": null,
   "id": "193634fa-d697-4459-8093-1e3fba848c47",
   "metadata": {},
   "outputs": [],
   "source": [
    "import os"
   ]
  },
  {
   "cell_type": "code",
   "execution_count": null,
   "id": "85b018a2-1a16-48e6-b491-33b60ec3a2ee",
   "metadata": {},
   "outputs": [],
   "source": [
    "cwd = os.getcwd()\n",
    "cwd"
   ]
  },
  {
   "cell_type": "code",
   "execution_count": null,
   "id": "3ff4fe7d-b1bd-467e-8eca-937dd20188fe",
   "metadata": {},
   "outputs": [],
   "source": [
    "os.path.abspath('words.txt')"
   ]
  },
  {
   "cell_type": "code",
   "execution_count": null,
   "id": "55c285c0-ea2b-4fb0-8894-967807fa3d5f",
   "metadata": {},
   "outputs": [],
   "source": [
    "os.path.exists('words.txt')"
   ]
  },
  {
   "cell_type": "code",
   "execution_count": null,
   "id": "03f6dfff-a9fa-40c5-9bef-2f29f347efc8",
   "metadata": {},
   "outputs": [],
   "source": [
    "os.path.exists('dummy.csv')"
   ]
  },
  {
   "cell_type": "code",
   "execution_count": null,
   "id": "3d1a6db9-87f0-4ff6-a052-38657f5aee80",
   "metadata": {},
   "outputs": [],
   "source": [
    "os.path.isdir('words.txt')"
   ]
  },
  {
   "cell_type": "code",
   "execution_count": null,
   "id": "b12dd5b1-1fae-4b92-88a7-5daece053b4e",
   "metadata": {},
   "outputs": [],
   "source": [
    "os.path.isdir('c:\\\\users')"
   ]
  },
  {
   "cell_type": "code",
   "execution_count": null,
   "id": "06d3d5ba-aa18-4ff6-b7f6-2bcd259c5872",
   "metadata": {},
   "outputs": [],
   "source": [
    "os.path.isfile('words.txt')"
   ]
  },
  {
   "cell_type": "code",
   "execution_count": null,
   "id": "a4ed649a-7fd6-4e52-8fad-5d46d8339a26",
   "metadata": {},
   "outputs": [],
   "source": [
    "os.listdir(cwd)"
   ]
  },
  {
   "cell_type": "code",
   "execution_count": null,
   "id": "24949d9b-5a90-4ebc-ae48-288e3a4073c7",
   "metadata": {},
   "outputs": [],
   "source": [
    "# What does this function do?\n",
    "def walk(dirname):\n",
    "    for name in os.listdir(dirname):\n",
    "        path = os.path.join(dirname, name)\n",
    "        if os.path.isfile(path):\n",
    "            print(path)\n",
    "        else:\n",
    "            walk(path)"
   ]
  },
  {
   "cell_type": "markdown",
   "id": "c1533adf-dfbe-41e7-9baf-69882f838c69",
   "metadata": {},
   "source": [
    "# 14.5 Catching exceptions"
   ]
  },
  {
   "cell_type": "code",
   "execution_count": null,
   "id": "325d9eec-17b9-4cf1-9c00-32d5260ead96",
   "metadata": {},
   "outputs": [],
   "source": [
    "fin = open('bad_file')"
   ]
  },
  {
   "cell_type": "code",
   "execution_count": null,
   "id": "167e806e-bae6-448d-a970-265af9aa23ed",
   "metadata": {},
   "outputs": [],
   "source": [
    "fin = open('c:\\\\users')"
   ]
  },
  {
   "cell_type": "code",
   "execution_count": null,
   "id": "d938c43a-660d-4ca9-9112-e5874f2fd0a1",
   "metadata": {},
   "outputs": [],
   "source": [
    "try:\n",
    "    fin = open('bad_file')\n",
    "except:\n",
    "    print('Something went terribly wrong!')"
   ]
  },
  {
   "cell_type": "markdown",
   "id": "ed63e2c7-5af0-4b4d-989f-7cb88d8cda3f",
   "metadata": {},
   "source": [
    "## 14.6 Databases"
   ]
  },
  {
   "cell_type": "code",
   "execution_count": null,
   "id": "ae16db41-5dc4-4453-bdfc-f60fb226c375",
   "metadata": {},
   "outputs": [],
   "source": [
    "import dbm\n",
    "db = dbm.open('captions', 'c')"
   ]
  },
  {
   "cell_type": "code",
   "execution_count": null,
   "id": "40578b67-1525-4bbc-ac10-878092360446",
   "metadata": {},
   "outputs": [],
   "source": [
    "db['cleese.png'] = 'Photo of John Cleese.'"
   ]
  },
  {
   "cell_type": "code",
   "execution_count": null,
   "id": "1366988a-4b0d-4c7b-96d2-2d59299d1124",
   "metadata": {},
   "outputs": [],
   "source": [
    "db['cleese.png']"
   ]
  },
  {
   "cell_type": "code",
   "execution_count": null,
   "id": "6019b189-30ad-4739-9ba0-52ddf586a728",
   "metadata": {},
   "outputs": [],
   "source": [
    "db['cleese.png'] = 'Photo of John Cleese doing a silly walk.'\n",
    "db['cleese.png']"
   ]
  },
  {
   "cell_type": "code",
   "execution_count": null,
   "id": "bdb105f9-b72e-470e-a8c1-3eae4876d41e",
   "metadata": {},
   "outputs": [],
   "source": [
    "# a database isn't a dictionary, so keys and items doesn't work on databases, iteration \n",
    "# with a for loop does\n",
    "\n",
    "for key in db.keys():\n",
    "    print(key, db[key])"
   ]
  },
  {
   "cell_type": "code",
   "execution_count": null,
   "id": "3166408a-b460-4aec-a7b4-8f3836d192f4",
   "metadata": {},
   "outputs": [],
   "source": [
    "# in the end you need to close the database when you're finished!\n",
    "db.close()"
   ]
  },
  {
   "cell_type": "markdown",
   "id": "58c90196-c1ce-4281-9f2f-c95c5e96293c",
   "metadata": {},
   "source": [
    "# 14.7 Pickling"
   ]
  },
  {
   "cell_type": "code",
   "execution_count": null,
   "id": "62d8e72b-6fa6-4a3b-8328-565dca3991b7",
   "metadata": {},
   "outputs": [],
   "source": [
    "import pickle\n",
    "t = [1, 2, 3]\n",
    "pickle.dumps(t)"
   ]
  },
  {
   "cell_type": "code",
   "execution_count": null,
   "id": "b18bdd89-1be4-43d3-94ec-5099b6f38877",
   "metadata": {},
   "outputs": [],
   "source": [
    "t1 = [1, 2, 3]\n",
    "s = pickle.dumps(t1)\n",
    "t2 = pickle.loads(s)\n",
    "t2\n"
   ]
  },
  {
   "cell_type": "code",
   "execution_count": null,
   "id": "a0c9f01f-1246-41ec-94e2-ca575fe3f2fd",
   "metadata": {},
   "outputs": [],
   "source": [
    "t1 == t2"
   ]
  },
  {
   "cell_type": "code",
   "execution_count": null,
   "id": "23410442-463b-4e8d-bc9c-159c23b586c7",
   "metadata": {},
   "outputs": [],
   "source": [
    "t1 is t2"
   ]
  },
  {
   "cell_type": "code",
   "execution_count": null,
   "id": "bfdbc6cb-6a6d-4339-905d-ff44f4c99d71",
   "metadata": {},
   "outputs": [],
   "source": [
    "# so t1 and t1 are not the same object!\n",
    "\n",
    "# the Python shelve module combines the dbm and pickle functionality"
   ]
  },
  {
   "cell_type": "markdown",
   "id": "f997364f-938c-4457-ac82-9a4215d5da23",
   "metadata": {},
   "source": [
    "## 14.8 Pipes"
   ]
  },
  {
   "cell_type": "code",
   "execution_count": null,
   "id": "822d1286-03ea-410a-8cc8-5ea08b0d2693",
   "metadata": {},
   "outputs": [],
   "source": [
    "cmd = 'dir'\n",
    "fp = os.popen(cmd)\n",
    "# popen is deprecated, we should use the subprocess module instead"
   ]
  },
  {
   "cell_type": "code",
   "execution_count": null,
   "id": "5816df51-91d8-42f8-8729-a7220a603bd4",
   "metadata": {},
   "outputs": [],
   "source": [
    "#res = fp.readline()\n",
    "#res\n",
    "\n",
    "for line in fp:\n",
    "    print(line, end='')"
   ]
  },
  {
   "cell_type": "code",
   "execution_count": null,
   "id": "ec41bf25-9dc0-4dfc-b362-e0b24fe1be84",
   "metadata": {},
   "outputs": [],
   "source": [
    "stat = fp.close()\n",
    "print(stat)"
   ]
  },
  {
   "cell_type": "markdown",
   "id": "6cc57e28-444c-4f0f-8c06-00d19dd56938",
   "metadata": {},
   "source": [
    "## 14.9 Writing modules"
   ]
  },
  {
   "cell_type": "code",
   "execution_count": null,
   "id": "0fd08a09-b573-4768-8594-172244312efa",
   "metadata": {},
   "outputs": [],
   "source": [
    "import wc"
   ]
  },
  {
   "cell_type": "code",
   "execution_count": null,
   "id": "65c3c389-5e40-46f1-8608-e98371619033",
   "metadata": {},
   "outputs": [],
   "source": [
    "wc"
   ]
  },
  {
   "cell_type": "code",
   "execution_count": null,
   "id": "b2a9e11e-395f-4cba-80ce-4b1905333995",
   "metadata": {},
   "outputs": [],
   "source": [
    "wc.linecount('wc.py')"
   ]
  },
  {
   "cell_type": "markdown",
   "id": "989bdb81-0597-4460-8b70-4534e1345371",
   "metadata": {},
   "source": [
    "## 14.10 Debugging"
   ]
  },
  {
   "cell_type": "markdown",
   "id": "12f9619d-8755-43d9-9a83-7372c66cadc0",
   "metadata": {},
   "source": [
    "## 14.11 Glossary"
   ]
  },
  {
   "cell_type": "markdown",
   "id": "848f096c-e237-4492-a774-97c8d308c506",
   "metadata": {},
   "source": [
    "## 14.12 Exercises"
   ]
  },
  {
   "cell_type": "code",
   "execution_count": null,
   "id": "3f95df7e-da98-46a9-9614-84af2955cff9",
   "metadata": {},
   "outputs": [],
   "source": []
  }
 ],
 "metadata": {
  "kernelspec": {
   "display_name": "Python 3 (ipykernel)",
   "language": "python",
   "name": "python3"
  },
  "language_info": {
   "codemirror_mode": {
    "name": "ipython",
    "version": 3
   },
   "file_extension": ".py",
   "mimetype": "text/x-python",
   "name": "python",
   "nbconvert_exporter": "python",
   "pygments_lexer": "ipython3",
   "version": "3.10.9"
  }
 },
 "nbformat": 4,
 "nbformat_minor": 5
}
